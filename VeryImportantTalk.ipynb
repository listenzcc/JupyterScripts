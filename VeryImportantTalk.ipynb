{
 "cells": [
  {
   "cell_type": "code",
   "execution_count": null,
   "id": "98f423d8",
   "metadata": {
    "ExecuteTime": {
     "end_time": "2021-07-01T08:34:02.050563Z",
     "start_time": "2021-07-01T08:34:00.451426Z"
    }
   },
   "outputs": [],
   "source": [
    "import pandas as pd\n",
    "import jieba\n",
    "from tqdm.auto import tqdm\n",
    "\n",
    "import numpy as np\n",
    "from sklearn.manifold import TSNE\n",
    "from sklearn.decomposition import PCA\n",
    "from sklearn.cluster import SpectralClustering\n",
    "from sklearn.cluster import KMeans\n",
    "\n",
    "import plotly.express as px"
   ]
  },
  {
   "cell_type": "code",
   "execution_count": null,
   "id": "bf52d9fb",
   "metadata": {
    "ExecuteTime": {
     "end_time": "2021-07-01T08:34:02.066457Z",
     "start_time": "2021-07-01T08:34:02.052427Z"
    }
   },
   "outputs": [],
   "source": [
    "class VeryImportantTalk(object):\n",
    "    ''' The Analysis of the VeryImportantTalk '''\n",
    "    def __init__(self, path='VeryImportantTalk.txt', encoding='utf-8'):\n",
    "        ''' Initialization '''\n",
    "        content = open(path, 'r', encoding=encoding).read()\n",
    "        df = pd.DataFrame(columns=['Sentence', 'Cuts'])\n",
    "        self.content = content\n",
    "        self.df = df\n",
    "        \n",
    "        self.get_sentences()\n",
    "        self.cut_sentences()\n",
    "\n",
    "    def get_sentences(self, raw=None):\n",
    "        ''' Get Sentences from Raw Content [raw]'''\n",
    "        if raw is None:\n",
    "            raw = self.content\n",
    "            \n",
    "        for e in ['。', '！', 'a，']:\n",
    "            raw = raw.replace(e, '\\n')\n",
    "        sentences = raw.split()\n",
    "        \n",
    "        self.df['Sentence'] = sentences\n",
    "        \n",
    "        return sentences\n",
    "\n",
    "    def cut_sentences(self, sentences=None):\n",
    "        ''' Cut every Sentence in the List of Sentences [sentences] '''\n",
    "        if sentences is None:\n",
    "            sentences = self.df['Sentence'].values\n",
    "            \n",
    "        cuts = []\n",
    "        for s in tqdm(sentences):\n",
    "            # Cut the Sentence,\n",
    "            # and Discard the one-char Words\n",
    "            tmp = [e for e in jieba.lcut(s) if len(e) > 1]\n",
    "\n",
    "            # Append the Words,\n",
    "            # and Discard the one-word Sentence\n",
    "            if len(tmp) > 1:\n",
    "                cuts.append(tmp)\n",
    "            else:\n",
    "                cuts.append([])\n",
    "                \n",
    "        self.df['Cuts'] = cuts\n",
    "        \n",
    "        return cuts\n",
    "    "
   ]
  },
  {
   "cell_type": "code",
   "execution_count": null,
   "id": "a8f09a2e",
   "metadata": {
    "ExecuteTime": {
     "end_time": "2021-07-01T08:34:02.682453Z",
     "start_time": "2021-07-01T08:34:02.067425Z"
    }
   },
   "outputs": [],
   "source": [
    "vit = VeryImportantTalk()\n",
    "vit.df"
   ]
  },
  {
   "cell_type": "code",
   "execution_count": null,
   "id": "b4d58a09",
   "metadata": {
    "ExecuteTime": {
     "end_time": "2021-07-01T08:34:02.698423Z",
     "start_time": "2021-07-01T08:34:02.684454Z"
    }
   },
   "outputs": [],
   "source": [
    "df = vit.df.copy()\n",
    "df"
   ]
  },
  {
   "cell_type": "code",
   "execution_count": null,
   "id": "06e9b931",
   "metadata": {
    "ExecuteTime": {
     "end_time": "2021-07-01T08:34:04.044461Z",
     "start_time": "2021-07-01T08:34:02.699423Z"
    }
   },
   "outputs": [],
   "source": [
    "details = dict()\n",
    "\n",
    "for idx in tqdm(df.index):\n",
    "    for word in df.loc[idx, 'Cuts']:\n",
    "        if word not in details:\n",
    "            details[word] = [idx]\n",
    "        else:\n",
    "            details[word].append(idx)\n",
    "            \n",
    "details = pd.DataFrame(dict(Belong=details))\n",
    "details['Count'] = details['Belong'].map(len)\n",
    "details.sort_values(by='Count', ascending=False, inplace=True)\n",
    "\n",
    "details[details.index] = 0\n",
    "\n",
    "details"
   ]
  },
  {
   "cell_type": "code",
   "execution_count": null,
   "id": "17283a69",
   "metadata": {
    "ExecuteTime": {
     "end_time": "2021-07-01T08:34:16.783550Z",
     "start_time": "2021-07-01T08:34:04.045424Z"
    }
   },
   "outputs": [],
   "source": [
    "for w in tqdm(details.index):\n",
    "    for j in details.loc[w, 'Belong']:\n",
    "        details.loc[w, df.loc[j, 'Cuts']] += 1\n",
    "\n",
    "details"
   ]
  },
  {
   "cell_type": "code",
   "execution_count": null,
   "id": "be7a97d0",
   "metadata": {
    "ExecuteTime": {
     "end_time": "2021-07-01T08:45:24.255944Z",
     "start_time": "2021-07-01T08:45:20.111948Z"
    }
   },
   "outputs": [],
   "source": [
    "X = details[details.index].to_numpy()\n",
    "a = 1\n",
    "X = (X - np.mean(X, axis=a, keepdims=True)) / np.std(X, axis=a, keepdims=True)\n",
    "X = X / np.max(X, axis=a, keepdims=True)\n",
    "# for j in range(len(details)):\n",
    "#     X[j] = X[j] / details.iloc[j]['Count']\n",
    "X = X.transpose()\n",
    "\n",
    "X_embedded = TSNE(n_components=2).fit_transform(X)\n",
    "print(X_embedded.shape)\n",
    "\n",
    "fig = px.scatter(x=X_embedded[:, 0], y=X_embedded[:, 1], title='Manifolder of Words')\n",
    "fig.show()"
   ]
  },
  {
   "cell_type": "code",
   "execution_count": null,
   "id": "bec05a4e",
   "metadata": {
    "ExecuteTime": {
     "end_time": "2021-07-01T08:45:30.499585Z",
     "start_time": "2021-07-01T08:45:30.184555Z"
    }
   },
   "outputs": [],
   "source": [
    "kmeans = KMeans(n_clusters=7, random_state=0)\n",
    "labels = kmeans.fit_predict(X_embedded)\n",
    "\n",
    "colors = []\n",
    "for e in labels:\n",
    "    words = details.index[labels == e]\n",
    "    colors.append(words[:10])\n",
    "\n",
    "fig = px.scatter(x=X_embedded[:, 0], y=X_embedded[:, 1], color=labels, hover_name=colors, title='Cluster of Words')\n",
    "fig.show()"
   ]
  },
  {
   "cell_type": "code",
   "execution_count": null,
   "id": "5556f334",
   "metadata": {
    "ExecuteTime": {
     "end_time": "2021-07-01T08:45:34.130723Z",
     "start_time": "2021-07-01T08:45:34.088753Z"
    }
   },
   "outputs": [],
   "source": [
    "gantt = [] # = pd.DataFrame()\n",
    "\n",
    "for word, label in tqdm(zip(details.index, labels)):\n",
    "    idxs = details.loc[word, 'Belong']\n",
    "    for i in idxs:\n",
    "        gantt.append({'Sentence': i, 'Label': label, 'Word': word})\n",
    "\n",
    "gantt = pd.DataFrame(gantt)\n",
    "gantt"
   ]
  },
  {
   "cell_type": "code",
   "execution_count": null,
   "id": "66b864cf",
   "metadata": {
    "ExecuteTime": {
     "end_time": "2021-07-01T08:45:35.168415Z",
     "start_time": "2021-07-01T08:45:35.103411Z"
    }
   },
   "outputs": [],
   "source": [
    "px.scatter(gantt, x='Sentence', y='Word', color='Label', title='Word Distribution')"
   ]
  },
  {
   "cell_type": "code",
   "execution_count": null,
   "id": "8814d1eb",
   "metadata": {
    "ExecuteTime": {
     "end_time": "2021-07-01T08:45:35.896896Z",
     "start_time": "2021-07-01T08:45:35.828898Z"
    }
   },
   "outputs": [],
   "source": [
    "px.scatter(gantt, x='Sentence', y='Label', color='Label', title='Word Gantt')"
   ]
  },
  {
   "cell_type": "code",
   "execution_count": null,
   "id": "4f2c2b4d",
   "metadata": {
    "ExecuteTime": {
     "end_time": "2021-07-01T08:45:37.158238Z",
     "start_time": "2021-07-01T08:45:36.799239Z"
    },
    "scrolled": false
   },
   "outputs": [],
   "source": [
    "for l in np.unique(labels):\n",
    "    _df = gantt.query(f\"Label=={l}\")\n",
    "    title = f'{l}: ' + ','.join(_df['Word'].unique())\n",
    "    print(title)\n",
    "    fig = px.scatter(_df, x='Sentence', y='Word', hover_name='Word', hover_data=['Word', 'Label'], title=title)\n",
    "    fig.show()"
   ]
  },
  {
   "cell_type": "code",
   "execution_count": null,
   "id": "cffe2481",
   "metadata": {},
   "outputs": [],
   "source": []
  },
  {
   "cell_type": "code",
   "execution_count": null,
   "id": "5c63f00a",
   "metadata": {},
   "outputs": [],
   "source": []
  },
  {
   "cell_type": "code",
   "execution_count": null,
   "id": "8a31ff89",
   "metadata": {},
   "outputs": [],
   "source": []
  },
  {
   "cell_type": "code",
   "execution_count": null,
   "id": "f0f6ce65",
   "metadata": {},
   "outputs": [],
   "source": []
  },
  {
   "cell_type": "code",
   "execution_count": null,
   "id": "61b779ac",
   "metadata": {},
   "outputs": [],
   "source": []
  },
  {
   "cell_type": "code",
   "execution_count": null,
   "id": "b6fcfe84",
   "metadata": {},
   "outputs": [],
   "source": []
  },
  {
   "cell_type": "code",
   "execution_count": null,
   "id": "977dcfb9",
   "metadata": {},
   "outputs": [],
   "source": []
  }
 ],
 "metadata": {
  "kernelspec": {
   "display_name": "Python 3",
   "language": "python",
   "name": "python3"
  },
  "toc": {
   "base_numbering": 1,
   "nav_menu": {},
   "number_sections": true,
   "sideBar": true,
   "skip_h1_title": false,
   "title_cell": "Table of Contents",
   "title_sidebar": "Contents",
   "toc_cell": false,
   "toc_position": {},
   "toc_section_display": true,
   "toc_window_display": false
  }
 },
 "nbformat": 4,
 "nbformat_minor": 5
}
