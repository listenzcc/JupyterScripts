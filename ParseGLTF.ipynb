{
 "cells": [
  {
   "cell_type": "markdown",
   "id": "757ab70e",
   "metadata": {},
   "source": [
    "# Parse GLTF and GLB Files\n",
    "\n",
    "Parse the 3D model of .gltf and .glb files into\n",
    "\n",
    "- vertex: The vertex of the 3D models;\n",
    "- mesh: The 3-vertex mesh element of the 3D models."
   ]
  },
  {
   "cell_type": "code",
   "execution_count": 12,
   "id": "aee0ea4a",
   "metadata": {
    "ExecuteTime": {
     "end_time": "2021-09-07T15:08:47.900074Z",
     "start_time": "2021-09-07T15:08:47.895697Z"
    }
   },
   "outputs": [],
   "source": [
    "import os\n",
    "import base64\n",
    "import struct\n",
    "\n",
    "import pandas as pd\n",
    "\n",
    "import plotly.express as px\n",
    "import plotly.graph_objects as go\n",
    "import numpy as np\n",
    "\n",
    "from gltflib import GLTF"
   ]
  },
  {
   "cell_type": "markdown",
   "id": "8aad418f",
   "metadata": {},
   "source": [
    "## File Name Setup"
   ]
  },
  {
   "cell_type": "code",
   "execution_count": 13,
   "id": "38df519a",
   "metadata": {
    "ExecuteTime": {
     "end_time": "2021-09-07T15:08:48.119072Z",
     "start_time": "2021-09-07T15:08:48.102118Z"
    }
   },
   "outputs": [],
   "source": [
    "fname = r'3dModel/deer-printable.glb'\n",
    "fname = r'3dModel/fullDeer.glb'"
   ]
  },
  {
   "cell_type": "markdown",
   "id": "ca6132f4",
   "metadata": {},
   "source": [
    "## Excellent Functions"
   ]
  },
  {
   "cell_type": "code",
   "execution_count": 14,
   "id": "d76611af",
   "metadata": {
    "ExecuteTime": {
     "end_time": "2021-09-07T15:08:48.322226Z",
     "start_time": "2021-09-07T15:08:48.301443Z"
    }
   },
   "outputs": [],
   "source": [
    "def parse_gltf(fname):\n",
    "    '''\n",
    "    Parse the GLTF or GLB file,\n",
    "    \n",
    "    '''\n",
    "    \n",
    "    gltf = GLTF.load(fname)\n",
    "    gltf.convert_to_base64_resource(gltf.resources[0])\n",
    "    gltf.export_gltf(fname + '.gltf')\n",
    "\n",
    "    resources = gltf.resources\n",
    "    bufferViews = gltf.model.bufferViews\n",
    "    accessors = gltf.model.accessors\n",
    "    \n",
    "    return resources, bufferViews, accessors\n",
    "\n",
    "def parse_buffer(resources, idx):\n",
    "    '''\n",
    "    Parse buffer from the resources of idx.\n",
    "    '''\n",
    "    \n",
    "    buffer = resources[idx]\n",
    "\n",
    "    bins = buffer.uri.split(',', 1)[1]\n",
    "    \n",
    "    # ! Make sure you are using the correct decoder\n",
    "    packed = base64.b64decode(bins)\n",
    "\n",
    "    describe = dict(\n",
    "        fname=fname,\n",
    "        buffer=buffer,\n",
    "        mime_type=buffer.mime_type,\n",
    "        uri_header=buffer.uri[:80],\n",
    "        uri_length=len(buffer.uri),\n",
    "        bins_header=bins[:80],\n",
    "        bins_length=len(bins),\n",
    "    )\n",
    "    \n",
    "    return describe, bins, packed\n",
    "\n",
    "def parse_accessor(ac, resources, bufferViews):\n",
    "    '''\n",
    "    Parse the data of the accessor [ac]\n",
    "    '''\n",
    "    \n",
    "    bv = bufferViews[ac.bufferView]\n",
    "\n",
    "    describe, bins, packed = parse_buffer(resources, bv.buffer)\n",
    "    packed_bytes = packed[bv.byteOffset: bv.byteOffset + bv.byteLength]\n",
    "\n",
    "    ctype = ac.componentType\n",
    "\n",
    "    d = struct.unpack(componentTypes[ctype][2].format(ac.count * types[ac.type]), packed_bytes)\n",
    "    d = np.array(d).reshape((-1, types[ac.type]))\n",
    "    \n",
    "    return d"
   ]
  },
  {
   "cell_type": "code",
   "execution_count": 15,
   "id": "10fffd4e",
   "metadata": {
    "ExecuteTime": {
     "end_time": "2021-09-07T15:08:48.337185Z",
     "start_time": "2021-09-07T15:08:48.323222Z"
    }
   },
   "outputs": [],
   "source": [
    "componentTypes = {\n",
    "    5126: ['FLOAT', 4, '<{}f'],\n",
    "    5123: ['UNSIGNED_SHORT', 2, '<{}H'], # ? Not so sure about this.\n",
    "}\n",
    "\n",
    "types = {\n",
    "    'VEC4': 4,\n",
    "    'VEC3': 3,\n",
    "    'VEC2': 2,\n",
    "    'SCALAR': 1,\n",
    "}"
   ]
  },
  {
   "cell_type": "markdown",
   "id": "3bbb9a83",
   "metadata": {},
   "source": [
    "## Check What We Got\n",
    "\n",
    "The accessors with valid max and min attributes are the vertex accessors."
   ]
  },
  {
   "cell_type": "code",
   "execution_count": 16,
   "id": "131d63a2",
   "metadata": {
    "ExecuteTime": {
     "end_time": "2021-09-07T15:08:48.707135Z",
     "start_time": "2021-09-07T15:08:48.505194Z"
    },
    "scrolled": false
   },
   "outputs": [
    {
     "data": {
      "text/plain": [
       "[Base64Resource(15992380 bytes)]"
      ]
     },
     "metadata": {},
     "output_type": "display_data"
    },
    {
     "data": {
      "text/plain": [
       "[BufferView(extensions=None, extras=None, name=None, buffer=0, byteOffset=0, byteLength=98784, byteStride=None, target=34963),\n",
       " BufferView(extensions=None, extras=None, name=None, buffer=0, byteOffset=98784, byteLength=114372, byteStride=None, target=34962),\n",
       " BufferView(extensions=None, extras=None, name=None, buffer=0, byteOffset=213156, byteLength=114372, byteStride=None, target=34962),\n",
       " BufferView(extensions=None, extras=None, name=None, buffer=0, byteOffset=327528, byteLength=76248, byteStride=None, target=34962),\n",
       " BufferView(extensions=None, extras=None, name=None, buffer=0, byteOffset=403776, byteLength=6148885, byteStride=None, target=None),\n",
       " BufferView(extensions=None, extras=None, name=None, buffer=0, byteOffset=6552661, byteLength=1117135, byteStride=None, target=None),\n",
       " BufferView(extensions=None, extras=None, name=None, buffer=0, byteOffset=7669796, byteLength=6203620, byteStride=None, target=None),\n",
       " BufferView(extensions=None, extras=None, name=None, buffer=0, byteOffset=13873416, byteLength=2118963, byteStride=None, target=None)]"
      ]
     },
     "metadata": {},
     "output_type": "display_data"
    },
    {
     "data": {
      "text/plain": [
       "[Accessor(extensions=None, extras=None, name=None, bufferView=0, byteOffset=None, componentType=5123, normalized=None, count=49392, type='SCALAR', max=None, min=None, sparse=None),\n",
       " Accessor(extensions=None, extras=None, name=None, bufferView=1, byteOffset=None, componentType=5126, normalized=None, count=9531, type='VEC3', max=[2.438467025756836, 6.775949001312256, 3.775106906890869], min=[-1.54141104221344, -0.01114455983042717, -1.244312047958374], sparse=None),\n",
       " Accessor(extensions=None, extras=None, name=None, bufferView=2, byteOffset=None, componentType=5126, normalized=None, count=9531, type='VEC3', max=None, min=None, sparse=None),\n",
       " Accessor(extensions=None, extras=None, name=None, bufferView=3, byteOffset=None, componentType=5126, normalized=None, count=9531, type='VEC2', max=None, min=None, sparse=None)]"
      ]
     },
     "metadata": {},
     "output_type": "display_data"
    }
   ],
   "source": [
    "resources, bufferViews, accessors = parse_gltf(fname)\n",
    "\n",
    "display(resources)\n",
    "\n",
    "display(bufferViews)\n",
    "\n",
    "display(accessors)"
   ]
  },
  {
   "cell_type": "markdown",
   "id": "bb6896d3",
   "metadata": {},
   "source": [
    "### Parse from Buffer\n",
    "\n",
    "And Automatically select the idx_vertex and idx_meshes,\n",
    "I do not if the method works forever."
   ]
  },
  {
   "cell_type": "code",
   "execution_count": 17,
   "id": "be215a7a",
   "metadata": {
    "ExecuteTime": {
     "end_time": "2021-09-07T15:08:48.935291Z",
     "start_time": "2021-09-07T15:08:48.712135Z"
    },
    "scrolled": true
   },
   "outputs": [
    {
     "data": {
      "text/plain": [
       "1"
      ]
     },
     "metadata": {},
     "output_type": "display_data"
    },
    {
     "data": {
      "text/plain": [
       "0"
      ]
     },
     "metadata": {},
     "output_type": "display_data"
    },
    {
     "data": {
      "text/plain": [
       "[(49392, 1), (9531, 3), (9531, 3), (9531, 2)]"
      ]
     },
     "metadata": {},
     "output_type": "display_data"
    }
   ],
   "source": [
    "ds = []\n",
    "idx_vertex = -1\n",
    "idx_meshes = -1\n",
    "\n",
    "for j in range(len(accessors)):\n",
    "    accessor = accessors[j]\n",
    "    \n",
    "    if accessor.min:\n",
    "        idx_vertex = j\n",
    "        \n",
    "    d = parse_accessor(accessor, resources, bufferViews)\n",
    "    ds.append(d)\n",
    "    \n",
    "    if d.shape[1] == 1:\n",
    "        idx_meshes = j\n",
    "\n",
    "display(idx_vertex, idx_meshes, [e.shape for e in ds])"
   ]
  },
  {
   "cell_type": "markdown",
   "id": "89778b04",
   "metadata": {},
   "source": [
    "### Check the Data Details"
   ]
  },
  {
   "cell_type": "code",
   "execution_count": 18,
   "id": "7278d06f",
   "metadata": {
    "ExecuteTime": {
     "end_time": "2021-09-07T15:08:48.950461Z",
     "start_time": "2021-09-07T15:08:48.936288Z"
    }
   },
   "outputs": [
    {
     "data": {
      "text/plain": [
       "(array([[ 0],\n",
       "        [ 1],\n",
       "        [ 2],\n",
       "        ...,\n",
       "        [58],\n",
       "        [56],\n",
       "        [57]]),\n",
       " array([[0.206407  , 4.90350294, 2.95625091],\n",
       "        [0.195921  , 4.87971783, 2.963691  ],\n",
       "        [0.19394843, 4.88100863, 2.99142122],\n",
       "        ...,\n",
       "        [0.29448101, 5.17738295, 2.49478698],\n",
       "        [0.306748  , 5.20883894, 2.5882709 ],\n",
       "        [0.48311001, 5.26201487, 2.5467689 ]]),\n",
       " array([[-0.91591316,  0.30660406, -0.25903106],\n",
       "        [-0.97743601,  0.064569  , -0.201121  ],\n",
       "        [-0.98845887,  0.05413099,  0.14148799],\n",
       "        ...,\n",
       "        [-0.63948184, -0.75505179, -0.14477497],\n",
       "        [-0.77751702, -0.089656  ,  0.62243801],\n",
       "        [ 0.88460547,  0.42173076,  0.19903888]]),\n",
       " array([[0.32930681, 0.92279738],\n",
       "        [0.33733615, 0.93756545],\n",
       "        [0.35515046, 0.93445587],\n",
       "        ...,\n",
       "        [0.7043426 , 0.91362393],\n",
       "        [0.69977868, 0.90015256],\n",
       "        [0.68084556, 0.96216458]]))"
      ]
     },
     "execution_count": 18,
     "metadata": {},
     "output_type": "execute_result"
    }
   ],
   "source": [
    "ds[0], ds[1], ds[2], ds[3]"
   ]
  },
  {
   "cell_type": "markdown",
   "id": "88595efd",
   "metadata": {},
   "source": [
    "### Plot if Things Go Right"
   ]
  },
  {
   "cell_type": "code",
   "execution_count": null,
   "id": "2a4f2847",
   "metadata": {
    "ExecuteTime": {
     "end_time": "2021-09-07T15:08:49.286972Z",
     "start_time": "2021-09-07T15:08:49.121933Z"
    }
   },
   "outputs": [],
   "source": [
    "d2plot = ds[idx_vertex]\n",
    "\n",
    "x = d2plot[:, 0]\n",
    "y = d2plot[:, 1]\n",
    "z = d2plot[:, 2]\n",
    "\n",
    "trace = go.Scatter3d(\n",
    "   x = x, y = y, z = z,mode = 'markers', marker = dict(\n",
    "      size = 1,\n",
    "      color = z, # set color to an array/list of desired values\n",
    "      colorscale = 'Viridis'\n",
    "      )\n",
    "   )\n",
    "layout = go.Layout(title = '3D Scatter plot')\n",
    "fig = go.Figure(data = [trace], layout = layout)\n",
    "fig"
   ]
  },
  {
   "cell_type": "markdown",
   "id": "5408c075",
   "metadata": {},
   "source": [
    "### Save the Results\n",
    "\n",
    "You may have to change the\n",
    "\n",
    "- vertex: The vertex;\n",
    "- meshes: The 3-vertex meshes.\n",
    "\n",
    "to save the correct results."
   ]
  },
  {
   "cell_type": "code",
   "execution_count": 20,
   "id": "89c4dbac",
   "metadata": {
    "ExecuteTime": {
     "end_time": "2021-09-07T15:08:49.350373Z",
     "start_time": "2021-09-07T15:08:49.347380Z"
    }
   },
   "outputs": [],
   "source": [
    "vertex = ds[idx_vertex]\n",
    "meshes = ds[idx_meshes]"
   ]
  },
  {
   "cell_type": "code",
   "execution_count": 21,
   "id": "03600532",
   "metadata": {
    "ExecuteTime": {
     "end_time": "2021-09-07T15:08:49.409987Z",
     "start_time": "2021-09-07T15:08:49.351369Z"
    }
   },
   "outputs": [
    {
     "data": {
      "text/html": [
       "<div>\n",
       "<style scoped>\n",
       "    .dataframe tbody tr th:only-of-type {\n",
       "        vertical-align: middle;\n",
       "    }\n",
       "\n",
       "    .dataframe tbody tr th {\n",
       "        vertical-align: top;\n",
       "    }\n",
       "\n",
       "    .dataframe thead th {\n",
       "        text-align: right;\n",
       "    }\n",
       "</style>\n",
       "<table border=\"1\" class=\"dataframe\">\n",
       "  <thead>\n",
       "    <tr style=\"text-align: right;\">\n",
       "      <th></th>\n",
       "      <th>x</th>\n",
       "      <th>y</th>\n",
       "      <th>z</th>\n",
       "    </tr>\n",
       "  </thead>\n",
       "  <tbody>\n",
       "    <tr>\n",
       "      <th>0</th>\n",
       "      <td>0.206407</td>\n",
       "      <td>4.903503</td>\n",
       "      <td>2.956251</td>\n",
       "    </tr>\n",
       "    <tr>\n",
       "      <th>1</th>\n",
       "      <td>0.195921</td>\n",
       "      <td>4.879718</td>\n",
       "      <td>2.963691</td>\n",
       "    </tr>\n",
       "    <tr>\n",
       "      <th>2</th>\n",
       "      <td>0.193948</td>\n",
       "      <td>4.881009</td>\n",
       "      <td>2.991421</td>\n",
       "    </tr>\n",
       "    <tr>\n",
       "      <th>3</th>\n",
       "      <td>0.200583</td>\n",
       "      <td>4.908579</td>\n",
       "      <td>2.986342</td>\n",
       "    </tr>\n",
       "    <tr>\n",
       "      <th>4</th>\n",
       "      <td>0.207705</td>\n",
       "      <td>4.903961</td>\n",
       "      <td>3.014799</td>\n",
       "    </tr>\n",
       "    <tr>\n",
       "      <th>...</th>\n",
       "      <td>...</td>\n",
       "      <td>...</td>\n",
       "      <td>...</td>\n",
       "    </tr>\n",
       "    <tr>\n",
       "      <th>9526</th>\n",
       "      <td>0.335468</td>\n",
       "      <td>5.175738</td>\n",
       "      <td>2.421746</td>\n",
       "    </tr>\n",
       "    <tr>\n",
       "      <th>9527</th>\n",
       "      <td>0.316176</td>\n",
       "      <td>5.173036</td>\n",
       "      <td>2.451739</td>\n",
       "    </tr>\n",
       "    <tr>\n",
       "      <th>9528</th>\n",
       "      <td>0.294481</td>\n",
       "      <td>5.177383</td>\n",
       "      <td>2.494787</td>\n",
       "    </tr>\n",
       "    <tr>\n",
       "      <th>9529</th>\n",
       "      <td>0.306748</td>\n",
       "      <td>5.208839</td>\n",
       "      <td>2.588271</td>\n",
       "    </tr>\n",
       "    <tr>\n",
       "      <th>9530</th>\n",
       "      <td>0.483110</td>\n",
       "      <td>5.262015</td>\n",
       "      <td>2.546769</td>\n",
       "    </tr>\n",
       "  </tbody>\n",
       "</table>\n",
       "<p>9531 rows × 3 columns</p>\n",
       "</div>"
      ],
      "text/plain": [
       "             x         y         z\n",
       "0     0.206407  4.903503  2.956251\n",
       "1     0.195921  4.879718  2.963691\n",
       "2     0.193948  4.881009  2.991421\n",
       "3     0.200583  4.908579  2.986342\n",
       "4     0.207705  4.903961  3.014799\n",
       "...        ...       ...       ...\n",
       "9526  0.335468  5.175738  2.421746\n",
       "9527  0.316176  5.173036  2.451739\n",
       "9528  0.294481  5.177383  2.494787\n",
       "9529  0.306748  5.208839  2.588271\n",
       "9530  0.483110  5.262015  2.546769\n",
       "\n",
       "[9531 rows x 3 columns]"
      ]
     },
     "execution_count": 21,
     "metadata": {},
     "output_type": "execute_result"
    }
   ],
   "source": [
    "df_vertex = pd.DataFrame(vertex, columns=['x', 'y', 'z'])\n",
    "df_vertex.to_csv(fname + '-vertex.csv')\n",
    "df_vertex"
   ]
  },
  {
   "cell_type": "code",
   "execution_count": 22,
   "id": "a79f97a1",
   "metadata": {
    "ExecuteTime": {
     "end_time": "2021-09-07T15:08:49.472983Z",
     "start_time": "2021-09-07T15:08:49.410985Z"
    }
   },
   "outputs": [
    {
     "data": {
      "text/html": [
       "<div>\n",
       "<style scoped>\n",
       "    .dataframe tbody tr th:only-of-type {\n",
       "        vertical-align: middle;\n",
       "    }\n",
       "\n",
       "    .dataframe tbody tr th {\n",
       "        vertical-align: top;\n",
       "    }\n",
       "\n",
       "    .dataframe thead th {\n",
       "        text-align: right;\n",
       "    }\n",
       "</style>\n",
       "<table border=\"1\" class=\"dataframe\">\n",
       "  <thead>\n",
       "    <tr style=\"text-align: right;\">\n",
       "      <th></th>\n",
       "      <th>id</th>\n",
       "    </tr>\n",
       "  </thead>\n",
       "  <tbody>\n",
       "    <tr>\n",
       "      <th>0</th>\n",
       "      <td>0</td>\n",
       "    </tr>\n",
       "    <tr>\n",
       "      <th>1</th>\n",
       "      <td>1</td>\n",
       "    </tr>\n",
       "    <tr>\n",
       "      <th>2</th>\n",
       "      <td>2</td>\n",
       "    </tr>\n",
       "    <tr>\n",
       "      <th>3</th>\n",
       "      <td>2</td>\n",
       "    </tr>\n",
       "    <tr>\n",
       "      <th>4</th>\n",
       "      <td>3</td>\n",
       "    </tr>\n",
       "    <tr>\n",
       "      <th>...</th>\n",
       "      <td>...</td>\n",
       "    </tr>\n",
       "    <tr>\n",
       "      <th>49387</th>\n",
       "      <td>649</td>\n",
       "    </tr>\n",
       "    <tr>\n",
       "      <th>49388</th>\n",
       "      <td>652</td>\n",
       "    </tr>\n",
       "    <tr>\n",
       "      <th>49389</th>\n",
       "      <td>58</td>\n",
       "    </tr>\n",
       "    <tr>\n",
       "      <th>49390</th>\n",
       "      <td>56</td>\n",
       "    </tr>\n",
       "    <tr>\n",
       "      <th>49391</th>\n",
       "      <td>57</td>\n",
       "    </tr>\n",
       "  </tbody>\n",
       "</table>\n",
       "<p>49392 rows × 1 columns</p>\n",
       "</div>"
      ],
      "text/plain": [
       "        id\n",
       "0        0\n",
       "1        1\n",
       "2        2\n",
       "3        2\n",
       "4        3\n",
       "...    ...\n",
       "49387  649\n",
       "49388  652\n",
       "49389   58\n",
       "49390   56\n",
       "49391   57\n",
       "\n",
       "[49392 rows x 1 columns]"
      ]
     },
     "execution_count": 22,
     "metadata": {},
     "output_type": "execute_result"
    }
   ],
   "source": [
    "df_meshes = pd.DataFrame(meshes, columns=['id'])\n",
    "df_meshes.to_csv(fname + '-meshes.csv')\n",
    "df_meshes"
   ]
  },
  {
   "cell_type": "code",
   "execution_count": null,
   "id": "3386efe3",
   "metadata": {},
   "outputs": [],
   "source": []
  },
  {
   "cell_type": "code",
   "execution_count": null,
   "id": "8e9e0720",
   "metadata": {},
   "outputs": [],
   "source": []
  },
  {
   "cell_type": "code",
   "execution_count": null,
   "id": "8d936c87",
   "metadata": {},
   "outputs": [],
   "source": []
  },
  {
   "cell_type": "code",
   "execution_count": null,
   "id": "7d4c63c8",
   "metadata": {},
   "outputs": [],
   "source": []
  },
  {
   "cell_type": "code",
   "execution_count": null,
   "id": "292d533b",
   "metadata": {},
   "outputs": [],
   "source": []
  },
  {
   "cell_type": "code",
   "execution_count": null,
   "id": "51e1aa3b",
   "metadata": {},
   "outputs": [],
   "source": []
  },
  {
   "cell_type": "code",
   "execution_count": null,
   "id": "57c4568c",
   "metadata": {},
   "outputs": [],
   "source": []
  },
  {
   "cell_type": "code",
   "execution_count": null,
   "id": "57b73890",
   "metadata": {},
   "outputs": [],
   "source": []
  },
  {
   "cell_type": "code",
   "execution_count": null,
   "id": "fa75cc68",
   "metadata": {},
   "outputs": [],
   "source": []
  }
 ],
 "metadata": {
  "kernelspec": {
   "display_name": "Python 3 (ipykernel)",
   "language": "python",
   "name": "python3"
  },
  "language_info": {
   "codemirror_mode": {
    "name": "ipython",
    "version": 3
   },
   "file_extension": ".py",
   "mimetype": "text/x-python",
   "name": "python",
   "nbconvert_exporter": "python",
   "pygments_lexer": "ipython3",
   "version": "3.8.11"
  },
  "latex_envs": {
   "LaTeX_envs_menu_present": true,
   "autoclose": false,
   "autocomplete": true,
   "bibliofile": "biblio.bib",
   "cite_by": "apalike",
   "current_citInitial": 1,
   "eqLabelWithNumbers": true,
   "eqNumInitial": 1,
   "hotkeys": {
    "equation": "Ctrl-E",
    "itemize": "Ctrl-I"
   },
   "labels_anchors": false,
   "latex_user_defs": false,
   "report_style_numbering": false,
   "user_envs_cfg": false
  },
  "toc": {
   "base_numbering": 1,
   "nav_menu": {},
   "number_sections": true,
   "sideBar": true,
   "skip_h1_title": false,
   "title_cell": "Table of Contents",
   "title_sidebar": "Contents",
   "toc_cell": false,
   "toc_position": {},
   "toc_section_display": true,
   "toc_window_display": true
  },
  "varInspector": {
   "cols": {
    "lenName": 16,
    "lenType": 16,
    "lenVar": 40
   },
   "kernels_config": {
    "python": {
     "delete_cmd_postfix": "",
     "delete_cmd_prefix": "del ",
     "library": "var_list.py",
     "varRefreshCmd": "print(var_dic_list())"
    },
    "r": {
     "delete_cmd_postfix": ") ",
     "delete_cmd_prefix": "rm(",
     "library": "var_list.r",
     "varRefreshCmd": "cat(var_dic_list()) "
    }
   },
   "types_to_exclude": [
    "module",
    "function",
    "builtin_function_or_method",
    "instance",
    "_Feature"
   ],
   "window_display": false
  }
 },
 "nbformat": 4,
 "nbformat_minor": 5
}
