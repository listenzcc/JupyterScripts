{
 "cells": [
  {
   "cell_type": "markdown",
   "metadata": {},
   "source": [
    "# List All Windows in Windows OS"
   ]
  },
  {
   "cell_type": "code",
   "execution_count": 1,
   "metadata": {},
   "outputs": [],
   "source": [
    "import win32gui\n",
    "import win32process"
   ]
  },
  {
   "cell_type": "code",
   "execution_count": 2,
   "metadata": {},
   "outputs": [],
   "source": [
    "hwnd_title = dict()\n",
    "\n",
    "\n",
    "def get_all_hwnd(hwnd, mouse):\n",
    "    if (\n",
    "        win32gui.IsWindow(hwnd)\n",
    "        and win32gui.IsWindowEnabled(hwnd)\n",
    "        and win32gui.IsWindowVisible(hwnd)\n",
    "    ):\n",
    "        hwnd_title.update({hwnd: win32gui.GetWindowText(hwnd)})"
   ]
  },
  {
   "cell_type": "code",
   "execution_count": 3,
   "metadata": {},
   "outputs": [
    {
     "name": "stdout",
     "output_type": "stream",
     "text": [
      "6817828 JupyterLab 和另外 2 个页面 - 个人 - Microsoft​ Edge\n",
      "1116430 C:\\Users\\zcc\n",
      "722358 Anaconda3 (64-bit)\n",
      "198476 电影频道-热门好看的电影大全-正版高清电影在线观看-爱奇艺 和另外 3 个页面 - 个人 - Microsoft​ Edge\n",
      "525662 设置\n",
      "329556 设置\n",
      "132070 Microsoft Store\n",
      "132350 Microsoft Store\n",
      "66770 NVIDIA GeForce Overlay\n",
      "66652 Microsoft Text Input Application\n",
      "132736 BCIMiddleware\n",
      "131336 Program Manager\n"
     ]
    },
    {
     "name": "stderr",
     "output_type": "stream",
     "text": [
      "<>:3: SyntaxWarning: \"is not\" with a literal. Did you mean \"!=\"?\n",
      "<>:3: SyntaxWarning: \"is not\" with a literal. Did you mean \"!=\"?\n",
      "<ipython-input-3-6463c6e4b88c>:3: SyntaxWarning: \"is not\" with a literal. Did you mean \"!=\"?\n",
      "  if t is not \"\":\n"
     ]
    }
   ],
   "source": [
    "win32gui.EnumWindows(get_all_hwnd, 0)\n",
    "for h, t in hwnd_title.items():\n",
    "    if t is not \"\":\n",
    "        print(h, t)"
   ]
  },
  {
   "cell_type": "code",
   "execution_count": null,
   "metadata": {},
   "outputs": [],
   "source": []
  }
 ],
 "metadata": {
  "kernelspec": {
   "display_name": "Python 3",
   "language": "python",
   "name": "python3"
  },
  "language_info": {
   "codemirror_mode": {
    "name": "ipython",
    "version": 3
   },
   "file_extension": ".py",
   "mimetype": "text/x-python",
   "name": "python",
   "nbconvert_exporter": "python",
   "pygments_lexer": "ipython3",
   "version": "3.8.8"
  },
  "toc": {
   "base_numbering": 1,
   "nav_menu": {},
   "number_sections": true,
   "sideBar": true,
   "skip_h1_title": false,
   "title_cell": "Table of Contents",
   "title_sidebar": "Contents",
   "toc_cell": false,
   "toc_position": {},
   "toc_section_display": true,
   "toc_window_display": false
  }
 },
 "nbformat": 4,
 "nbformat_minor": 4
}
