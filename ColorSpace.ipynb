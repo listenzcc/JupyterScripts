{
 "cells": [
  {
   "cell_type": "code",
   "execution_count": 1,
   "id": "cd3c6843",
   "metadata": {},
   "outputs": [],
   "source": [
    "import cv2\n",
    "import urllib.request\n",
    "from PIL import Image\n",
    "from io import BytesIO\n",
    "\n",
    "import numpy as np\n",
    "import pandas as pd\n",
    "\n",
    "import plotly.express as px\n",
    "import plotly.graph_objects as go\n",
    "from plotly.subplots import make_subplots"
   ]
  },
  {
   "cell_type": "code",
   "execution_count": 2,
   "id": "ce8f8463",
   "metadata": {},
   "outputs": [],
   "source": [
    "def mk_matrix(img):\n",
    "    ''' Convert PIL [img] into RGB and HSV Matrix,\n",
    "    and put them into the [img] Object.\n",
    "    '''\n",
    "    img.matrix = dict()\n",
    "        \n",
    "    rgb = np.array(img.convert('RGB'))\n",
    "    \n",
    "    hsv = cv2.cvtColor(rgb, cv2.COLOR_RGB2HSV)\n",
    "    \n",
    "    img.matrix['RGB'] = rgb\n",
    "    img.matrix['HSV'] = hsv\n",
    "    \n",
    "    return img"
   ]
  },
  {
   "cell_type": "code",
   "execution_count": 3,
   "id": "30a9414b",
   "metadata": {},
   "outputs": [],
   "source": [
    "def ravel(d):\n",
    "    ''' Ravel the 1st and the 2nd Dimensions,\n",
    "    only keep 500 Pixels to save Computation Time. \n",
    "    '''\n",
    "    s = d.shape\n",
    "    n = s[0] * s[1]\n",
    "    d = d.reshape((n, s[2]))\n",
    "    if n > 500:\n",
    "        return d[range(0, n, int(n/500))]\n",
    "    else:\n",
    "        return d\n",
    "\n",
    "def convert(rgb):\n",
    "    ''' Convert RGB [rgb] values into #FFFFFF like Color String'''\n",
    "    \n",
    "    def n2s(n):\n",
    "        s = hex(n).replace('x', '')\n",
    "        return s[-2:]\n",
    "    \n",
    "    return '#' + ''.join([n2s(n) for n in rgb])"
   ]
  },
  {
   "cell_type": "code",
   "execution_count": 4,
   "id": "7ff73673",
   "metadata": {},
   "outputs": [],
   "source": [
    "urls = [\n",
    "#     'https://img-prod-cms-rt-microsoft-com.akamaized.net/cms/api/am/imageFileData/RE4wyTq?ver=c8e5',\n",
    "#     'http://localhost:8000/DP164837.jpg',\n",
    "#     'http://localhost:8000/132457451652521207_new.jpg',\n",
    "#     'http://localhost:8000/DT86.jpg',\n",
    "#     'http://localhost:8000/CubeChaos.png',\n",
    "#     'http://localhost:8000/yosemite-5932x3337-5k-4k-wallpaper-8k-forest-osx-apple-mountains-181.jpg'\n",
    "]"
   ]
  },
  {
   "cell_type": "code",
   "execution_count": 5,
   "id": "f7fede20",
   "metadata": {
    "scrolled": false
   },
   "outputs": [],
   "source": [
    "for url in urls:\n",
    "    req = urllib.request.urlopen(url)\n",
    "    im = Image.open(BytesIO(req.read()))\n",
    "    im.matrix = dict()\n",
    "\n",
    "    mk_matrix(im)\n",
    "\n",
    "    v_rgb = ravel(im.matrix['RGB'])\n",
    "    df = pd.DataFrame(ravel(im.matrix['RGB']), columns=['R', 'G', 'B'])\n",
    "    df[['H', 'S', 'V']] = ravel(im.matrix['HSV'])\n",
    "    df['color'] = [convert(e) for e in v_rgb]\n",
    "\n",
    "    subplot_titles = ('RG', 'HS', 'GB', 'SV', 'RB', 'HV')\n",
    "    subplot_pos = ((1, 1), (1, 2), (2, 1), (2, 2), (3, 1), (3, 2))\n",
    "    fig = make_subplots(rows=3, cols=2, subplot_titles=subplot_titles)\n",
    "\n",
    "    for pos, title in zip(subplot_pos, subplot_titles):\n",
    "        x, y = title\n",
    "        row, col = pos\n",
    "\n",
    "        _fig = px.scatter(df, x=x, y=y, title=title)\n",
    "        _fig.data[0]['marker']['color'] = df['color']\n",
    "\n",
    "        kwargs = dict(\n",
    "            row=row,\n",
    "            col=col\n",
    "        )\n",
    "\n",
    "        fig.add_trace(\n",
    "            _fig.data[0],\n",
    "            **kwargs\n",
    "        )\n",
    "\n",
    "        fig.update_xaxes(title_text=x, **kwargs)\n",
    "        fig.update_yaxes(title_text=y, **kwargs)\n",
    "\n",
    "    fig.update_layout(dict(\n",
    "        height=1000,\n",
    "        width=900,\n",
    "        title=url\n",
    "    ))\n",
    "    fig.show()\n",
    "\n",
    "    fig1 = px.imshow(im)\n",
    "    fig1.show()"
   ]
  },
  {
   "cell_type": "code",
   "execution_count": null,
   "id": "a0f538b6",
   "metadata": {},
   "outputs": [],
   "source": []
  },
  {
   "cell_type": "code",
   "execution_count": null,
   "id": "3bdddd5f",
   "metadata": {},
   "outputs": [],
   "source": []
  },
  {
   "cell_type": "code",
   "execution_count": null,
   "id": "c72f284e",
   "metadata": {},
   "outputs": [],
   "source": []
  },
  {
   "cell_type": "code",
   "execution_count": null,
   "id": "ad626861",
   "metadata": {},
   "outputs": [],
   "source": []
  },
  {
   "cell_type": "code",
   "execution_count": null,
   "id": "18b75e3d",
   "metadata": {},
   "outputs": [],
   "source": []
  },
  {
   "cell_type": "code",
   "execution_count": null,
   "id": "e4f1e666",
   "metadata": {},
   "outputs": [],
   "source": []
  },
  {
   "cell_type": "code",
   "execution_count": null,
   "id": "44346e59",
   "metadata": {},
   "outputs": [],
   "source": []
  },
  {
   "cell_type": "code",
   "execution_count": null,
   "id": "f65df3c3",
   "metadata": {},
   "outputs": [],
   "source": []
  },
  {
   "cell_type": "code",
   "execution_count": null,
   "id": "b0154cee",
   "metadata": {},
   "outputs": [],
   "source": []
  },
  {
   "cell_type": "code",
   "execution_count": null,
   "id": "6459f541",
   "metadata": {},
   "outputs": [],
   "source": []
  },
  {
   "cell_type": "code",
   "execution_count": null,
   "id": "144973fc",
   "metadata": {},
   "outputs": [],
   "source": []
  },
  {
   "cell_type": "code",
   "execution_count": null,
   "id": "1d6b9752",
   "metadata": {},
   "outputs": [],
   "source": []
  },
  {
   "cell_type": "code",
   "execution_count": null,
   "id": "a502a763",
   "metadata": {},
   "outputs": [],
   "source": []
  },
  {
   "cell_type": "code",
   "execution_count": null,
   "id": "97405903",
   "metadata": {},
   "outputs": [],
   "source": []
  },
  {
   "cell_type": "code",
   "execution_count": null,
   "id": "1f3400d5",
   "metadata": {},
   "outputs": [],
   "source": []
  },
  {
   "cell_type": "code",
   "execution_count": null,
   "id": "4794c655",
   "metadata": {},
   "outputs": [],
   "source": []
  },
  {
   "cell_type": "code",
   "execution_count": null,
   "id": "a6e1e86e",
   "metadata": {},
   "outputs": [],
   "source": []
  }
 ],
 "metadata": {
  "kernelspec": {
   "display_name": "Python 3",
   "language": "python",
   "name": "python3"
  },
  "language_info": {
   "codemirror_mode": {
    "name": "ipython",
    "version": 3
   },
   "file_extension": ".py",
   "mimetype": "text/x-python",
   "name": "python",
   "nbconvert_exporter": "python",
   "pygments_lexer": "ipython3",
   "version": "3.8.10"
  },
  "toc": {
   "base_numbering": 1,
   "nav_menu": {},
   "number_sections": true,
   "sideBar": true,
   "skip_h1_title": false,
   "title_cell": "Table of Contents",
   "title_sidebar": "Contents",
   "toc_cell": false,
   "toc_position": {},
   "toc_section_display": true,
   "toc_window_display": false
  }
 },
 "nbformat": 4,
 "nbformat_minor": 5
}
