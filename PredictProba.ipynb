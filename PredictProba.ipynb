{
 "cells": [
  {
   "cell_type": "markdown",
   "id": "b12e9c49",
   "metadata": {},
   "source": [
    "# Predict Proba\n",
    "\n",
    "Investigate the output of the .predict_proba method."
   ]
  },
  {
   "cell_type": "code",
   "execution_count": 5,
   "id": "d39828ac",
   "metadata": {},
   "outputs": [],
   "source": [
    "import numpy as np\n",
    "import sklearn\n",
    "from sklearn.linear_model import LogisticRegression"
   ]
  },
  {
   "cell_type": "code",
   "execution_count": 4,
   "id": "ef2d129d",
   "metadata": {},
   "outputs": [
    {
     "data": {
      "text/plain": [
       "(array([[1, 0],\n",
       "        [1, 0],\n",
       "        [1, 0],\n",
       "        [0, 1],\n",
       "        [0, 1],\n",
       "        [0, 1]]),\n",
       " array([1, 1, 1, 2, 2, 2]))"
      ]
     },
     "execution_count": 4,
     "metadata": {},
     "output_type": "execute_result"
    }
   ],
   "source": [
    "X = np.array([[1, 0], [1, 0], [1, 0], [0, 1], [0, 1], [0, 1]])\n",
    "y = np.array([1, 1, 1, 2, 2, 2])\n",
    "\n",
    "X, y "
   ]
  },
  {
   "cell_type": "code",
   "execution_count": 10,
   "id": "2c2af3a4",
   "metadata": {},
   "outputs": [
    {
     "data": {
      "text/plain": [
       "(array([1, 1, 1, 2, 2, 2]),\n",
       " array([[0.70676257, 0.29323743],\n",
       "        [0.70676257, 0.29323743],\n",
       "        [0.70676257, 0.29323743],\n",
       "        [0.29323743, 0.70676257],\n",
       "        [0.29323743, 0.70676257],\n",
       "        [0.29323743, 0.70676257]]))"
      ]
     },
     "execution_count": 10,
     "metadata": {},
     "output_type": "execute_result"
    }
   ],
   "source": [
    "clf = LogisticRegression()\n",
    "\n",
    "clf.fit(X, y)\n",
    "p = clf.predict(X)\n",
    "a = clf.predict_proba(X)\n",
    "\n",
    "p, a "
   ]
  },
  {
   "cell_type": "code",
   "execution_count": 11,
   "id": "8dccc45a",
   "metadata": {},
   "outputs": [
    {
     "data": {
      "text/plain": [
       "(array([2, 2, 2, 1, 1, 1]),\n",
       " array([[0.29323743, 0.70676257],\n",
       "        [0.29323743, 0.70676257],\n",
       "        [0.29323743, 0.70676257],\n",
       "        [0.70676257, 0.29323743],\n",
       "        [0.70676257, 0.29323743],\n",
       "        [0.70676257, 0.29323743]]))"
      ]
     },
     "execution_count": 11,
     "metadata": {},
     "output_type": "execute_result"
    }
   ],
   "source": [
    "clf = LogisticRegression()\n",
    "\n",
    "y2 = np.array([2, 2, 2, 1, 1, 1])\n",
    "clf.fit(X, y2)\n",
    "p2 = clf.predict(X)\n",
    "a2 = clf.predict_proba(X)\n",
    "\n",
    "p2, a2 "
   ]
  },
  {
   "cell_type": "code",
   "execution_count": null,
   "id": "e09b54df",
   "metadata": {},
   "outputs": [],
   "source": []
  }
 ],
 "metadata": {
  "kernelspec": {
   "display_name": "Python 3",
   "language": "python",
   "name": "python3"
  },
  "language_info": {
   "codemirror_mode": {
    "name": "ipython",
    "version": 3
   },
   "file_extension": ".py",
   "mimetype": "text/x-python",
   "name": "python",
   "nbconvert_exporter": "python",
   "pygments_lexer": "ipython3",
   "version": "3.8.10"
  },
  "latex_envs": {
   "LaTeX_envs_menu_present": true,
   "autoclose": false,
   "autocomplete": true,
   "bibliofile": "biblio.bib",
   "cite_by": "apalike",
   "current_citInitial": 1,
   "eqLabelWithNumbers": true,
   "eqNumInitial": 1,
   "hotkeys": {
    "equation": "Ctrl-E",
    "itemize": "Ctrl-I"
   },
   "labels_anchors": false,
   "latex_user_defs": false,
   "report_style_numbering": false,
   "user_envs_cfg": false
  },
  "toc": {
   "base_numbering": 1,
   "nav_menu": {},
   "number_sections": true,
   "sideBar": true,
   "skip_h1_title": false,
   "title_cell": "Table of Contents",
   "title_sidebar": "Contents",
   "toc_cell": false,
   "toc_position": {},
   "toc_section_display": true,
   "toc_window_display": false
  }
 },
 "nbformat": 4,
 "nbformat_minor": 5
}
