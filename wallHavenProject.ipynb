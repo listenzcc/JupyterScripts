{
 "cells": [
  {
   "cell_type": "code",
   "execution_count": 5,
   "id": "81dcdce0",
   "metadata": {
    "ExecuteTime": {
     "end_time": "2021-10-12T09:02:23.924253Z",
     "start_time": "2021-10-12T09:02:23.917396Z"
    }
   },
   "outputs": [],
   "source": [
    "import os\n",
    "import time\n",
    "import pandas as pd\n",
    "import requests\n",
    "from bs4 import BeautifulSoup as bs"
   ]
  },
  {
   "cell_type": "code",
   "execution_count": 6,
   "id": "964cb814",
   "metadata": {
    "ExecuteTime": {
     "end_time": "2021-10-12T09:02:23.939210Z",
     "start_time": "2021-10-12T09:02:23.925210Z"
    }
   },
   "outputs": [],
   "source": [
    "# The pictures will be restored here\n",
    "rootDir = os.path.join(os.environ['HOME'], 'Desktop', 'pic')\n",
    "\n",
    "class AutoPath(object):\n",
    "    '''Automatic Path Manager'''\n",
    "    \n",
    "    def __init__(self, root=rootDir):\n",
    "        '''Initial with root dir'''\n",
    "        self.root = root\n",
    "        self.check()\n",
    "        print(f'D: Initialize AutoPath with root: {root}')\n",
    "        \n",
    "    def check(self):\n",
    "        '''Guarantee the root dir exists,\n",
    "        and _thumb and _fullSize exist.'''\n",
    "        root = self.root\n",
    "        try:\n",
    "            if not os.path.isdir(root):\n",
    "                os.mkdir(root)\n",
    "        except Exception as err:\n",
    "            print(f'E: Can not work with the given root: {root}')\n",
    "            raise ValueError(err)\n",
    "            \n",
    "        for d in [os.path.join(root, e) for e in ['_thumb', '_fullSize']]:\n",
    "            if not os.path.isdir(d):\n",
    "                os.mkdir(d)\n",
    "                print(f'D: Made new dir: {d}')\n",
    "                \n",
    "        return\n",
    "    \n",
    "    def _make_full_path(self, sub1, name):\n",
    "        '''Make full path with given sub1 and name'''\n",
    "        root = self.root\n",
    "        p = os.path.join(root, sub1, name)\n",
    "        if os.path.isfile(p):\n",
    "            print(f'W: The file name exists: {sub1}, {name}.')\n",
    "            return [p, 'conflict']\n",
    "        return [p, 'clear']\n",
    "    \n",
    "    def thumb(self, name, force=True):\n",
    "        ps = self._make_full_path('_thumb', name)\n",
    "        if ps[1] == 'conflict' and not force:\n",
    "            raise ValueError(f'{ps[0]} exists')\n",
    "        print(f'D: Made path: {ps[0]}')\n",
    "        return ps[0]\n",
    "    \n",
    "    def fullSize(self, name, force=True):\n",
    "        ps = self._make_full_path('_fullSize', name)\n",
    "        if ps[1] == 'conflict' and not force:\n",
    "            raise ValueError(f'{ps[0]} exists')\n",
    "        print(f'D: Made path: {ps[0]}')\n",
    "        return ps[0]\n",
    "        "
   ]
  },
  {
   "cell_type": "code",
   "execution_count": 7,
   "id": "00500538",
   "metadata": {
    "ExecuteTime": {
     "end_time": "2021-10-12T09:02:23.954421Z",
     "start_time": "2021-10-12T09:02:23.941241Z"
    }
   },
   "outputs": [
    {
     "name": "stdout",
     "output_type": "stream",
     "text": [
      "D: Initialize AutoPath with root: C:\\Users\\liste\\Desktop\\pic\n"
     ]
    }
   ],
   "source": [
    "headers = {\n",
    "    'user-agent':\n",
    "    'Mozilla/5.0 (Windows NT 10.0; WOW64) AppleWebKit/537.36 (KHTML, like Gecko) Chrome/81.0.4044.138 Safari/537.36'\n",
    "}\n",
    "url = r'https://wallhaven.cc/search?categories=111&purity=100&resolutions=2560x1440&sorting=random&order=desc'\n",
    "\n",
    "\n",
    "autoPath = AutoPath()\n",
    "\n",
    "def rndSrc(url=url, headers=headers, autoPath=autoPath):\n",
    "    '''Require the random pictures from the resource website'''\n",
    "    t0 = time.time()\n",
    "\n",
    "    resp = requests.get(url=url, headers=headers)\n",
    "    soup = bs(resp.text)\n",
    "\n",
    "    found = dict(url=url,\n",
    "                 preview=soup.find_all('a', {'class': 'preview'}),\n",
    "                 thumb=soup.find_all('img', {'alt': 'loading'}))\n",
    "    \n",
    "    n = len(found['preview'])\n",
    "    found['num'] = n\n",
    "    found['fullSize'] = ['--'] * n\n",
    "    found['thumbPicPath'] = ['--'] * n\n",
    "    found['fullSizePicPath'] = ['--'] * n\n",
    "\n",
    "    for j, pt in enumerate(zip(found['preview'], found['thumb'])):\n",
    "        p, t = pt\n",
    "        \n",
    "        tUrl = t['data-src']\n",
    "        \n",
    "        resp = requests.get(url=p['href'], headers=headers)\n",
    "        soup = bs(resp.text)\n",
    "        for _ in range(10):\n",
    "            f = soup.find('img', {'id': 'wallpaper'})\n",
    "            if f:\n",
    "                break\n",
    "                \n",
    "        if f:\n",
    "            fUrl = f['src']\n",
    "        else:\n",
    "            fUrl = '--' + p['href']\n",
    "            \n",
    "        print(f'D: Parsed new Pic: {tUrl}, {fUrl}')\n",
    "        \n",
    "        if not fUrl.startswith('--'):\n",
    "            with open(autoPath.thumb(os.path.basename(tUrl)), 'wb') as f:\n",
    "                resp = requests.get(tUrl)\n",
    "                f.write(resp.content)\n",
    "\n",
    "            with open(autoPath.fullSize(os.path.basename(fUrl)), 'wb') as f:\n",
    "                resp = requests.get(fUrl)\n",
    "                f.write(resp.content)\n",
    "            \n",
    "            pass\n",
    "\n",
    "    print(f'D: Found {found[\"num\"]} sources, costs {time.time() - t0} seconds.')\n",
    "\n",
    "    return found"
   ]
  },
  {
   "cell_type": "code",
   "execution_count": 8,
   "id": "62056929",
   "metadata": {
    "ExecuteTime": {
     "end_time": "2021-10-12T09:03:41.672601Z",
     "start_time": "2021-10-12T09:02:23.957380Z"
    },
    "scrolled": true
   },
   "outputs": [
    {
     "name": "stdout",
     "output_type": "stream",
     "text": [
      "D: Parsed new Pic: https://th.wallhaven.cc/small/zm/zmmpzv.jpg, https://w.wallhaven.cc/full/zm/wallhaven-zmmpzv.jpg\n",
      "D: Made path: C:\\Users\\liste\\Desktop\\pic\\_thumb\\zmmpzv.jpg\n",
      "D: Made path: C:\\Users\\liste\\Desktop\\pic\\_fullSize\\wallhaven-zmmpzv.jpg\n",
      "D: Parsed new Pic: https://th.wallhaven.cc/small/n6/n6kq57.jpg, https://w.wallhaven.cc/full/n6/wallhaven-n6kq57.jpg\n",
      "D: Made path: C:\\Users\\liste\\Desktop\\pic\\_thumb\\n6kq57.jpg\n",
      "D: Made path: C:\\Users\\liste\\Desktop\\pic\\_fullSize\\wallhaven-n6kq57.jpg\n",
      "D: Parsed new Pic: https://th.wallhaven.cc/small/45/45d5e3.jpg, https://w.wallhaven.cc/full/45/wallhaven-45d5e3.jpg\n",
      "D: Made path: C:\\Users\\liste\\Desktop\\pic\\_thumb\\45d5e3.jpg\n",
      "D: Made path: C:\\Users\\liste\\Desktop\\pic\\_fullSize\\wallhaven-45d5e3.jpg\n",
      "D: Parsed new Pic: https://th.wallhaven.cc/small/42/42pl8y.jpg, https://w.wallhaven.cc/full/42/wallhaven-42pl8y.jpg\n",
      "D: Made path: C:\\Users\\liste\\Desktop\\pic\\_thumb\\42pl8y.jpg\n",
      "D: Made path: C:\\Users\\liste\\Desktop\\pic\\_fullSize\\wallhaven-42pl8y.jpg\n",
      "D: Parsed new Pic: https://th.wallhaven.cc/small/5d/5dgmp7.jpg, https://w.wallhaven.cc/full/5d/wallhaven-5dgmp7.jpg\n",
      "D: Made path: C:\\Users\\liste\\Desktop\\pic\\_thumb\\5dgmp7.jpg\n",
      "D: Made path: C:\\Users\\liste\\Desktop\\pic\\_fullSize\\wallhaven-5dgmp7.jpg\n",
      "D: Parsed new Pic: https://th.wallhaven.cc/small/49/49epex.jpg, https://w.wallhaven.cc/full/49/wallhaven-49epex.jpg\n",
      "D: Made path: C:\\Users\\liste\\Desktop\\pic\\_thumb\\49epex.jpg\n",
      "D: Made path: C:\\Users\\liste\\Desktop\\pic\\_fullSize\\wallhaven-49epex.jpg\n",
      "D: Parsed new Pic: https://th.wallhaven.cc/small/k9/k9krgm.jpg, https://w.wallhaven.cc/full/k9/wallhaven-k9krgm.jpg\n",
      "D: Made path: C:\\Users\\liste\\Desktop\\pic\\_thumb\\k9krgm.jpg\n",
      "D: Made path: C:\\Users\\liste\\Desktop\\pic\\_fullSize\\wallhaven-k9krgm.jpg\n",
      "D: Parsed new Pic: https://th.wallhaven.cc/small/45/45zk35.jpg, https://w.wallhaven.cc/full/45/wallhaven-45zk35.jpg\n",
      "D: Made path: C:\\Users\\liste\\Desktop\\pic\\_thumb\\45zk35.jpg\n",
      "D: Made path: C:\\Users\\liste\\Desktop\\pic\\_fullSize\\wallhaven-45zk35.jpg\n",
      "D: Parsed new Pic: https://th.wallhaven.cc/small/qd/qdzj6l.jpg, https://w.wallhaven.cc/full/qd/wallhaven-qdzj6l.png\n",
      "D: Made path: C:\\Users\\liste\\Desktop\\pic\\_thumb\\qdzj6l.jpg\n",
      "D: Made path: C:\\Users\\liste\\Desktop\\pic\\_fullSize\\wallhaven-qdzj6l.png\n",
      "D: Parsed new Pic: https://th.wallhaven.cc/small/1j/1j5mq9.jpg, https://w.wallhaven.cc/full/1j/wallhaven-1j5mq9.png\n",
      "D: Made path: C:\\Users\\liste\\Desktop\\pic\\_thumb\\1j5mq9.jpg\n",
      "D: Made path: C:\\Users\\liste\\Desktop\\pic\\_fullSize\\wallhaven-1j5mq9.png\n",
      "D: Parsed new Pic: https://th.wallhaven.cc/small/zm/zm8gvg.jpg, https://w.wallhaven.cc/full/zm/wallhaven-zm8gvg.jpg\n",
      "D: Made path: C:\\Users\\liste\\Desktop\\pic\\_thumb\\zm8gvg.jpg\n",
      "D: Made path: C:\\Users\\liste\\Desktop\\pic\\_fullSize\\wallhaven-zm8gvg.jpg\n",
      "D: Parsed new Pic: https://th.wallhaven.cc/small/4y/4yolol.jpg, https://w.wallhaven.cc/full/4y/wallhaven-4yolol.jpg\n",
      "D: Made path: C:\\Users\\liste\\Desktop\\pic\\_thumb\\4yolol.jpg\n",
      "D: Made path: C:\\Users\\liste\\Desktop\\pic\\_fullSize\\wallhaven-4yolol.jpg\n",
      "D: Parsed new Pic: https://th.wallhaven.cc/small/nk/nke156.jpg, https://w.wallhaven.cc/full/nk/wallhaven-nke156.jpg\n",
      "D: Made path: C:\\Users\\liste\\Desktop\\pic\\_thumb\\nke156.jpg\n",
      "D: Made path: C:\\Users\\liste\\Desktop\\pic\\_fullSize\\wallhaven-nke156.jpg\n",
      "D: Parsed new Pic: https://th.wallhaven.cc/small/42/42vj29.jpg, https://w.wallhaven.cc/full/42/wallhaven-42vj29.jpg\n",
      "D: Made path: C:\\Users\\liste\\Desktop\\pic\\_thumb\\42vj29.jpg\n",
      "D: Made path: C:\\Users\\liste\\Desktop\\pic\\_fullSize\\wallhaven-42vj29.jpg\n",
      "D: Parsed new Pic: https://th.wallhaven.cc/small/96/96vygx.jpg, https://w.wallhaven.cc/full/96/wallhaven-96vygx.jpg\n",
      "D: Made path: C:\\Users\\liste\\Desktop\\pic\\_thumb\\96vygx.jpg\n",
      "D: Made path: C:\\Users\\liste\\Desktop\\pic\\_fullSize\\wallhaven-96vygx.jpg\n",
      "D: Parsed new Pic: https://th.wallhaven.cc/small/47/471vpy.jpg, https://w.wallhaven.cc/full/47/wallhaven-471vpy.jpg\n",
      "D: Made path: C:\\Users\\liste\\Desktop\\pic\\_thumb\\471vpy.jpg\n",
      "D: Made path: C:\\Users\\liste\\Desktop\\pic\\_fullSize\\wallhaven-471vpy.jpg\n",
      "D: Parsed new Pic: https://th.wallhaven.cc/small/0j/0j8vmq.jpg, https://w.wallhaven.cc/full/0j/wallhaven-0j8vmq.jpg\n",
      "D: Made path: C:\\Users\\liste\\Desktop\\pic\\_thumb\\0j8vmq.jpg\n",
      "D: Made path: C:\\Users\\liste\\Desktop\\pic\\_fullSize\\wallhaven-0j8vmq.jpg\n",
      "D: Parsed new Pic: https://th.wallhaven.cc/small/z8/z8ge3y.jpg, https://w.wallhaven.cc/full/z8/wallhaven-z8ge3y.jpg\n",
      "D: Made path: C:\\Users\\liste\\Desktop\\pic\\_thumb\\z8ge3y.jpg\n",
      "D: Made path: C:\\Users\\liste\\Desktop\\pic\\_fullSize\\wallhaven-z8ge3y.jpg\n",
      "D: Parsed new Pic: https://th.wallhaven.cc/small/l3/l3mpgp.jpg, https://w.wallhaven.cc/full/l3/wallhaven-l3mpgp.png\n",
      "D: Made path: C:\\Users\\liste\\Desktop\\pic\\_thumb\\l3mpgp.jpg\n",
      "D: Made path: C:\\Users\\liste\\Desktop\\pic\\_fullSize\\wallhaven-l3mpgp.png\n",
      "D: Parsed new Pic: https://th.wallhaven.cc/small/0j/0j18rp.jpg, https://w.wallhaven.cc/full/0j/wallhaven-0j18rp.jpg\n",
      "D: Made path: C:\\Users\\liste\\Desktop\\pic\\_thumb\\0j18rp.jpg\n",
      "D: Made path: C:\\Users\\liste\\Desktop\\pic\\_fullSize\\wallhaven-0j18rp.jpg\n",
      "D: Parsed new Pic: https://th.wallhaven.cc/small/x1/x1pegl.jpg, https://w.wallhaven.cc/full/x1/wallhaven-x1pegl.jpg\n",
      "D: Made path: C:\\Users\\liste\\Desktop\\pic\\_thumb\\x1pegl.jpg\n",
      "D: Made path: C:\\Users\\liste\\Desktop\\pic\\_fullSize\\wallhaven-x1pegl.jpg\n",
      "D: Parsed new Pic: https://th.wallhaven.cc/small/g7/g725y3.jpg, https://w.wallhaven.cc/full/g7/wallhaven-g725y3.png\n",
      "D: Made path: C:\\Users\\liste\\Desktop\\pic\\_thumb\\g725y3.jpg\n",
      "D: Made path: C:\\Users\\liste\\Desktop\\pic\\_fullSize\\wallhaven-g725y3.png\n",
      "D: Parsed new Pic: https://th.wallhaven.cc/small/p2/p2gd83.jpg, https://w.wallhaven.cc/full/p2/wallhaven-p2gd83.jpg\n",
      "D: Made path: C:\\Users\\liste\\Desktop\\pic\\_thumb\\p2gd83.jpg\n",
      "D: Made path: C:\\Users\\liste\\Desktop\\pic\\_fullSize\\wallhaven-p2gd83.jpg\n",
      "D: Parsed new Pic: https://th.wallhaven.cc/small/47/479mqo.jpg, https://w.wallhaven.cc/full/47/wallhaven-479mqo.jpg\n",
      "D: Made path: C:\\Users\\liste\\Desktop\\pic\\_thumb\\479mqo.jpg\n",
      "D: Made path: C:\\Users\\liste\\Desktop\\pic\\_fullSize\\wallhaven-479mqo.jpg\n",
      "D: Found 24 sources, costs 77.70423913002014 seconds.\n"
     ]
    }
   ],
   "source": [
    "found = rndSrc()"
   ]
  },
  {
   "cell_type": "code",
   "execution_count": null,
   "id": "8c8b09fe",
   "metadata": {},
   "outputs": [],
   "source": []
  },
  {
   "cell_type": "code",
   "execution_count": null,
   "id": "1bcd0aca",
   "metadata": {},
   "outputs": [],
   "source": []
  },
  {
   "cell_type": "code",
   "execution_count": null,
   "id": "72a9717f",
   "metadata": {},
   "outputs": [],
   "source": []
  }
 ],
 "metadata": {
  "kernelspec": {
   "display_name": "Python 3 (ipykernel)",
   "language": "python",
   "name": "python3"
  },
  "language_info": {
   "codemirror_mode": {
    "name": "ipython",
    "version": 3
   },
   "file_extension": ".py",
   "mimetype": "text/x-python",
   "name": "python",
   "nbconvert_exporter": "python",
   "pygments_lexer": "ipython3",
   "version": "3.8.11"
  },
  "toc": {
   "base_numbering": 1,
   "nav_menu": {},
   "number_sections": true,
   "sideBar": true,
   "skip_h1_title": false,
   "title_cell": "Table of Contents",
   "title_sidebar": "Contents",
   "toc_cell": false,
   "toc_position": {},
   "toc_section_display": true,
   "toc_window_display": false
  }
 },
 "nbformat": 4,
 "nbformat_minor": 5
}
