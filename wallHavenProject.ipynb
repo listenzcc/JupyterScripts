{
 "cells": [
  {
   "cell_type": "code",
   "execution_count": 1,
   "id": "81dcdce0",
   "metadata": {
    "ExecuteTime": {
     "end_time": "2021-10-17T14:22:51.793670Z",
     "start_time": "2021-10-17T14:22:50.317187Z"
    }
   },
   "outputs": [],
   "source": [
    "import os\n",
    "import time\n",
    "import pandas as pd\n",
    "import requests\n",
    "from bs4 import BeautifulSoup as bs"
   ]
  },
  {
   "cell_type": "code",
   "execution_count": 2,
   "id": "964cb814",
   "metadata": {
    "ExecuteTime": {
     "end_time": "2021-10-17T14:22:51.808540Z",
     "start_time": "2021-10-17T14:22:51.794668Z"
    }
   },
   "outputs": [],
   "source": [
    "# The pictures will be restored here\n",
    "rootDir = os.path.join(os.environ['HOME'], 'Desktop', 'pic')\n",
    "\n",
    "class AutoPath(object):\n",
    "    '''Automatic Path Manager'''\n",
    "    \n",
    "    def __init__(self, root=rootDir):\n",
    "        '''Initial with root dir'''\n",
    "        self.root = root\n",
    "        self.check()\n",
    "        print(f'D: Initialize AutoPath with root: {root}')\n",
    "        \n",
    "    def check(self):\n",
    "        '''Guarantee the root dir exists,\n",
    "        and _thumb and _fullSize exist.'''\n",
    "        root = self.root\n",
    "        try:\n",
    "            if not os.path.isdir(root):\n",
    "                os.mkdir(root)\n",
    "        except Exception as err:\n",
    "            print(f'E: Can not work with the given root: {root}')\n",
    "            raise ValueError(err)\n",
    "            \n",
    "        for d in [os.path.join(root, e) for e in ['_thumb', '_fullSize']]:\n",
    "            if not os.path.isdir(d):\n",
    "                os.mkdir(d)\n",
    "                print(f'D: Made new dir: {d}')\n",
    "                \n",
    "        return\n",
    "    \n",
    "    def _make_full_path(self, sub1, name):\n",
    "        '''Make full path with given sub1 and name'''\n",
    "        root = self.root\n",
    "        p = os.path.join(root, sub1, name)\n",
    "        if os.path.isfile(p):\n",
    "            print(f'W: The file name exists: {sub1}, {name}.')\n",
    "            return [p, 'conflict']\n",
    "        return [p, 'clear']\n",
    "    \n",
    "    def thumb(self, name, force=True):\n",
    "        ps = self._make_full_path('_thumb', name)\n",
    "        if ps[1] == 'conflict' and not force:\n",
    "            raise ValueError(f'{ps[0]} exists')\n",
    "        print(f'D: Made path: {ps[0]}')\n",
    "        return ps[0]\n",
    "    \n",
    "    def fullSize(self, name, force=True):\n",
    "        ps = self._make_full_path('_fullSize', name)\n",
    "        if ps[1] == 'conflict' and not force:\n",
    "            raise ValueError(f'{ps[0]} exists')\n",
    "        print(f'D: Made path: {ps[0]}')\n",
    "        return ps[0]\n",
    "        "
   ]
  },
  {
   "cell_type": "code",
   "execution_count": 3,
   "id": "00500538",
   "metadata": {
    "ExecuteTime": {
     "end_time": "2021-10-17T14:22:51.824497Z",
     "start_time": "2021-10-17T14:22:51.809539Z"
    }
   },
   "outputs": [
    {
     "name": "stdout",
     "output_type": "stream",
     "text": [
      "D: Made new dir: C:\\Users\\zcc\\Desktop\\pic\\_thumb\n",
      "D: Made new dir: C:\\Users\\zcc\\Desktop\\pic\\_fullSize\n",
      "D: Initialize AutoPath with root: C:\\Users\\zcc\\Desktop\\pic\n"
     ]
    }
   ],
   "source": [
    "headers = {\n",
    "    'user-agent':\n",
    "    'Mozilla/5.0 (Windows NT 10.0; WOW64) AppleWebKit/537.36 (KHTML, like Gecko) Chrome/81.0.4044.138 Safari/537.36'\n",
    "}\n",
    "url = r'https://wallhaven.cc/search?categories=111&purity=100&resolutions=2560x1440&sorting=random&order=desc'\n",
    "\n",
    "\n",
    "autoPath = AutoPath()\n",
    "\n",
    "def rndSrc(url=url, headers=headers, autoPath=autoPath):\n",
    "    '''Require the random pictures from the resource website'''\n",
    "    t0 = time.time()\n",
    "\n",
    "    resp = requests.get(url=url, headers=headers)\n",
    "    soup = bs(resp.text)\n",
    "\n",
    "    found = dict(url=url,\n",
    "                 preview=soup.find_all('a', {'class': 'preview'}),\n",
    "                 thumb=soup.find_all('img', {'alt': 'loading'}))\n",
    "    \n",
    "    n = len(found['preview'])\n",
    "    found['num'] = n\n",
    "    found['fullSize'] = ['--'] * n\n",
    "    found['thumbPicPath'] = ['--'] * n\n",
    "    found['fullSizePicPath'] = ['--'] * n\n",
    "\n",
    "    for j, pt in enumerate(zip(found['preview'], found['thumb'])):\n",
    "        p, t = pt\n",
    "        \n",
    "        tUrl = t['data-src']\n",
    "        \n",
    "        resp = requests.get(url=p['href'], headers=headers)\n",
    "        soup = bs(resp.text)\n",
    "        for _ in range(10):\n",
    "            f = soup.find('img', {'id': 'wallpaper'})\n",
    "            if f:\n",
    "                break\n",
    "                \n",
    "        if f:\n",
    "            fUrl = f['src']\n",
    "        else:\n",
    "            fUrl = '--' + p['href']\n",
    "            \n",
    "        print(f'D: Parsed new Pic: {tUrl}, {fUrl}')\n",
    "        \n",
    "        if not fUrl.startswith('--'):\n",
    "            with open(autoPath.thumb(os.path.basename(tUrl)), 'wb') as f:\n",
    "                resp = requests.get(tUrl)\n",
    "                f.write(resp.content)\n",
    "\n",
    "            with open(autoPath.fullSize(os.path.basename(fUrl)), 'wb') as f:\n",
    "                resp = requests.get(fUrl)\n",
    "                f.write(resp.content)\n",
    "            \n",
    "            pass\n",
    "\n",
    "    print(f'D: Found {found[\"num\"]} sources, costs {time.time() - t0} seconds.')\n",
    "\n",
    "    return found"
   ]
  },
  {
   "cell_type": "code",
   "execution_count": 4,
   "id": "62056929",
   "metadata": {
    "ExecuteTime": {
     "end_time": "2021-10-17T14:24:14.561090Z",
     "start_time": "2021-10-17T14:22:51.826507Z"
    },
    "scrolled": true
   },
   "outputs": [
    {
     "name": "stdout",
     "output_type": "stream",
     "text": [
      "D: Parsed new Pic: https://th.wallhaven.cc/small/md/mdv9k1.jpg, https://w.wallhaven.cc/full/md/wallhaven-mdv9k1.jpg\n",
      "D: Made path: C:\\Users\\zcc\\Desktop\\pic\\_thumb\\mdv9k1.jpg\n",
      "D: Made path: C:\\Users\\zcc\\Desktop\\pic\\_fullSize\\wallhaven-mdv9k1.jpg\n",
      "D: Parsed new Pic: https://th.wallhaven.cc/small/p2/p2go19.jpg, https://w.wallhaven.cc/full/p2/wallhaven-p2go19.jpg\n",
      "D: Made path: C:\\Users\\zcc\\Desktop\\pic\\_thumb\\p2go19.jpg\n",
      "D: Made path: C:\\Users\\zcc\\Desktop\\pic\\_fullSize\\wallhaven-p2go19.jpg\n",
      "D: Parsed new Pic: https://th.wallhaven.cc/small/g7/g79roq.jpg, https://w.wallhaven.cc/full/g7/wallhaven-g79roq.png\n",
      "D: Made path: C:\\Users\\zcc\\Desktop\\pic\\_thumb\\g79roq.jpg\n",
      "D: Made path: C:\\Users\\zcc\\Desktop\\pic\\_fullSize\\wallhaven-g79roq.png\n",
      "D: Parsed new Pic: https://th.wallhaven.cc/small/yj/yjmmzd.jpg, https://w.wallhaven.cc/full/yj/wallhaven-yjmmzd.png\n",
      "D: Made path: C:\\Users\\zcc\\Desktop\\pic\\_thumb\\yjmmzd.jpg\n",
      "D: Made path: C:\\Users\\zcc\\Desktop\\pic\\_fullSize\\wallhaven-yjmmzd.png\n",
      "D: Parsed new Pic: https://th.wallhaven.cc/small/g7/g7wgd3.jpg, https://w.wallhaven.cc/full/g7/wallhaven-g7wgd3.jpg\n",
      "D: Made path: C:\\Users\\zcc\\Desktop\\pic\\_thumb\\g7wgd3.jpg\n",
      "D: Made path: C:\\Users\\zcc\\Desktop\\pic\\_fullSize\\wallhaven-g7wgd3.jpg\n",
      "D: Parsed new Pic: https://th.wallhaven.cc/small/8x/8x7edj.jpg, https://w.wallhaven.cc/full/8x/wallhaven-8x7edj.jpg\n",
      "D: Made path: C:\\Users\\zcc\\Desktop\\pic\\_thumb\\8x7edj.jpg\n",
      "D: Made path: C:\\Users\\zcc\\Desktop\\pic\\_fullSize\\wallhaven-8x7edj.jpg\n",
      "D: Parsed new Pic: https://th.wallhaven.cc/small/2e/2e1r1y.jpg, https://w.wallhaven.cc/full/2e/wallhaven-2e1r1y.jpg\n",
      "D: Made path: C:\\Users\\zcc\\Desktop\\pic\\_thumb\\2e1r1y.jpg\n",
      "D: Made path: C:\\Users\\zcc\\Desktop\\pic\\_fullSize\\wallhaven-2e1r1y.jpg\n",
      "D: Parsed new Pic: https://th.wallhaven.cc/small/x1/x18lz3.jpg, https://w.wallhaven.cc/full/x1/wallhaven-x18lz3.jpg\n",
      "D: Made path: C:\\Users\\zcc\\Desktop\\pic\\_thumb\\x18lz3.jpg\n",
      "D: Made path: C:\\Users\\zcc\\Desktop\\pic\\_fullSize\\wallhaven-x18lz3.jpg\n",
      "D: Parsed new Pic: https://th.wallhaven.cc/small/kw/kwepjq.jpg, https://w.wallhaven.cc/full/kw/wallhaven-kwepjq.png\n",
      "D: Made path: C:\\Users\\zcc\\Desktop\\pic\\_thumb\\kwepjq.jpg\n",
      "D: Made path: C:\\Users\\zcc\\Desktop\\pic\\_fullSize\\wallhaven-kwepjq.png\n",
      "D: Parsed new Pic: https://th.wallhaven.cc/small/0j/0jzgkw.jpg, https://w.wallhaven.cc/full/0j/wallhaven-0jzgkw.png\n",
      "D: Made path: C:\\Users\\zcc\\Desktop\\pic\\_thumb\\0jzgkw.jpg\n",
      "D: Made path: C:\\Users\\zcc\\Desktop\\pic\\_fullSize\\wallhaven-0jzgkw.png\n",
      "D: Parsed new Pic: https://th.wallhaven.cc/small/2k/2k8vxm.jpg, https://w.wallhaven.cc/full/2k/wallhaven-2k8vxm.png\n",
      "D: Made path: C:\\Users\\zcc\\Desktop\\pic\\_thumb\\2k8vxm.jpg\n",
      "D: Made path: C:\\Users\\zcc\\Desktop\\pic\\_fullSize\\wallhaven-2k8vxm.png\n",
      "D: Parsed new Pic: https://th.wallhaven.cc/small/96/96m7v1.jpg, https://w.wallhaven.cc/full/96/wallhaven-96m7v1.jpg\n",
      "D: Made path: C:\\Users\\zcc\\Desktop\\pic\\_thumb\\96m7v1.jpg\n",
      "D: Made path: C:\\Users\\zcc\\Desktop\\pic\\_fullSize\\wallhaven-96m7v1.jpg\n",
      "D: Parsed new Pic: https://th.wallhaven.cc/small/95/95edmx.jpg, https://w.wallhaven.cc/full/95/wallhaven-95edmx.jpg\n",
      "D: Made path: C:\\Users\\zcc\\Desktop\\pic\\_thumb\\95edmx.jpg\n",
      "D: Made path: C:\\Users\\zcc\\Desktop\\pic\\_fullSize\\wallhaven-95edmx.jpg\n",
      "D: Parsed new Pic: https://th.wallhaven.cc/small/pk/pkkgl3.jpg, https://w.wallhaven.cc/full/pk/wallhaven-pkkgl3.png\n",
      "D: Made path: C:\\Users\\zcc\\Desktop\\pic\\_thumb\\pkkgl3.jpg\n",
      "D: Made path: C:\\Users\\zcc\\Desktop\\pic\\_fullSize\\wallhaven-pkkgl3.png\n",
      "D: Parsed new Pic: https://th.wallhaven.cc/small/4v/4v9oo8.jpg, https://w.wallhaven.cc/full/4v/wallhaven-4v9oo8.jpg\n",
      "D: Made path: C:\\Users\\zcc\\Desktop\\pic\\_thumb\\4v9oo8.jpg\n",
      "D: Made path: C:\\Users\\zcc\\Desktop\\pic\\_fullSize\\wallhaven-4v9oo8.jpg\n",
      "D: Parsed new Pic: https://th.wallhaven.cc/small/5d/5d9op3.jpg, https://w.wallhaven.cc/full/5d/wallhaven-5d9op3.jpg\n",
      "D: Made path: C:\\Users\\zcc\\Desktop\\pic\\_thumb\\5d9op3.jpg\n",
      "D: Made path: C:\\Users\\zcc\\Desktop\\pic\\_fullSize\\wallhaven-5d9op3.jpg\n",
      "D: Parsed new Pic: https://th.wallhaven.cc/small/ey/eyoqq8.jpg, https://w.wallhaven.cc/full/ey/wallhaven-eyoqq8.jpg\n",
      "D: Made path: C:\\Users\\zcc\\Desktop\\pic\\_thumb\\eyoqq8.jpg\n",
      "D: Made path: C:\\Users\\zcc\\Desktop\\pic\\_fullSize\\wallhaven-eyoqq8.jpg\n",
      "D: Parsed new Pic: https://th.wallhaven.cc/small/lm/lmvk9y.jpg, https://w.wallhaven.cc/full/lm/wallhaven-lmvk9y.jpg\n",
      "D: Made path: C:\\Users\\zcc\\Desktop\\pic\\_thumb\\lmvk9y.jpg\n",
      "D: Made path: C:\\Users\\zcc\\Desktop\\pic\\_fullSize\\wallhaven-lmvk9y.jpg\n",
      "D: Parsed new Pic: https://th.wallhaven.cc/small/wy/wy86l7.jpg, https://w.wallhaven.cc/full/wy/wallhaven-wy86l7.jpg\n",
      "D: Made path: C:\\Users\\zcc\\Desktop\\pic\\_thumb\\wy86l7.jpg\n",
      "D: Made path: C:\\Users\\zcc\\Desktop\\pic\\_fullSize\\wallhaven-wy86l7.jpg\n",
      "D: Parsed new Pic: https://th.wallhaven.cc/small/13/13owz3.jpg, https://w.wallhaven.cc/full/13/wallhaven-13owz3.jpg\n",
      "D: Made path: C:\\Users\\zcc\\Desktop\\pic\\_thumb\\13owz3.jpg\n",
      "D: Made path: C:\\Users\\zcc\\Desktop\\pic\\_fullSize\\wallhaven-13owz3.jpg\n",
      "D: Parsed new Pic: https://th.wallhaven.cc/small/ox/oxlqz7.jpg, https://w.wallhaven.cc/full/ox/wallhaven-oxlqz7.jpg\n",
      "D: Made path: C:\\Users\\zcc\\Desktop\\pic\\_thumb\\oxlqz7.jpg\n",
      "D: Made path: C:\\Users\\zcc\\Desktop\\pic\\_fullSize\\wallhaven-oxlqz7.jpg\n",
      "D: Parsed new Pic: https://th.wallhaven.cc/small/q6/q66qel.jpg, https://w.wallhaven.cc/full/q6/wallhaven-q66qel.png\n",
      "D: Made path: C:\\Users\\zcc\\Desktop\\pic\\_thumb\\q66qel.jpg\n",
      "D: Made path: C:\\Users\\zcc\\Desktop\\pic\\_fullSize\\wallhaven-q66qel.png\n",
      "D: Parsed new Pic: https://th.wallhaven.cc/small/g8/g82dmq.jpg, https://w.wallhaven.cc/full/g8/wallhaven-g82dmq.jpg\n",
      "D: Made path: C:\\Users\\zcc\\Desktop\\pic\\_thumb\\g82dmq.jpg\n",
      "D: Made path: C:\\Users\\zcc\\Desktop\\pic\\_fullSize\\wallhaven-g82dmq.jpg\n",
      "D: Parsed new Pic: https://th.wallhaven.cc/small/57/57z1y5.jpg, https://w.wallhaven.cc/full/57/wallhaven-57z1y5.png\n",
      "D: Made path: C:\\Users\\zcc\\Desktop\\pic\\_thumb\\57z1y5.jpg\n",
      "D: Made path: C:\\Users\\zcc\\Desktop\\pic\\_fullSize\\wallhaven-57z1y5.png\n",
      "D: Found 24 sources, costs 82.72102737426758 seconds.\n"
     ]
    }
   ],
   "source": [
    "found = rndSrc()"
   ]
  },
  {
   "cell_type": "code",
   "execution_count": null,
   "id": "8c8b09fe",
   "metadata": {},
   "outputs": [],
   "source": []
  },
  {
   "cell_type": "code",
   "execution_count": null,
   "id": "1bcd0aca",
   "metadata": {},
   "outputs": [],
   "source": []
  },
  {
   "cell_type": "code",
   "execution_count": null,
   "id": "72a9717f",
   "metadata": {},
   "outputs": [],
   "source": []
  },
  {
   "cell_type": "code",
   "execution_count": null,
   "id": "621edf31",
   "metadata": {},
   "outputs": [],
   "source": []
  },
  {
   "cell_type": "code",
   "execution_count": null,
   "id": "2b24b4e6",
   "metadata": {},
   "outputs": [],
   "source": []
  }
 ],
 "metadata": {
  "kernelspec": {
   "display_name": "Python 3 (ipykernel)",
   "language": "python",
   "name": "python3"
  },
  "language_info": {
   "codemirror_mode": {
    "name": "ipython",
    "version": 3
   },
   "file_extension": ".py",
   "mimetype": "text/x-python",
   "name": "python",
   "nbconvert_exporter": "python",
   "pygments_lexer": "ipython3",
   "version": "3.8.12"
  },
  "latex_envs": {
   "LaTeX_envs_menu_present": true,
   "autoclose": false,
   "autocomplete": true,
   "bibliofile": "biblio.bib",
   "cite_by": "apalike",
   "current_citInitial": 1,
   "eqLabelWithNumbers": true,
   "eqNumInitial": 1,
   "hotkeys": {
    "equation": "Ctrl-E",
    "itemize": "Ctrl-I"
   },
   "labels_anchors": false,
   "latex_user_defs": false,
   "report_style_numbering": false,
   "user_envs_cfg": false
  },
  "toc": {
   "base_numbering": 1,
   "nav_menu": {},
   "number_sections": true,
   "sideBar": true,
   "skip_h1_title": false,
   "title_cell": "Table of Contents",
   "title_sidebar": "Contents",
   "toc_cell": false,
   "toc_position": {},
   "toc_section_display": true,
   "toc_window_display": false
  },
  "varInspector": {
   "cols": {
    "lenName": 16,
    "lenType": 16,
    "lenVar": 40
   },
   "kernels_config": {
    "python": {
     "delete_cmd_postfix": "",
     "delete_cmd_prefix": "del ",
     "library": "var_list.py",
     "varRefreshCmd": "print(var_dic_list())"
    },
    "r": {
     "delete_cmd_postfix": ") ",
     "delete_cmd_prefix": "rm(",
     "library": "var_list.r",
     "varRefreshCmd": "cat(var_dic_list()) "
    }
   },
   "types_to_exclude": [
    "module",
    "function",
    "builtin_function_or_method",
    "instance",
    "_Feature"
   ],
   "window_display": false
  }
 },
 "nbformat": 4,
 "nbformat_minor": 5
}
