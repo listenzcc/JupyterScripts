{
 "cells": [
  {
   "cell_type": "code",
   "execution_count": 1,
   "id": "6ecb0d2b",
   "metadata": {},
   "outputs": [],
   "source": [
    "import numpy as np\n",
    "\n",
    "from sklearn.svm import SVC\n",
    "from sklearn.pipeline import Pipeline\n",
    "from sklearn import metrics\n",
    "\n",
    "from scipy.stats import zscore\n",
    "from scipy.stats import norm\n",
    "from statsmodels.stats.multitest import fdrcorrection"
   ]
  },
  {
   "cell_type": "code",
   "execution_count": 2,
   "id": "da42b99f",
   "metadata": {},
   "outputs": [],
   "source": [
    "train_num = 500\n",
    "test_num = 50\n",
    "dim = 20"
   ]
  },
  {
   "cell_type": "code",
   "execution_count": 3,
   "id": "58b1f91c",
   "metadata": {},
   "outputs": [
    {
     "data": {
      "text/plain": [
       "((500, 20), (500,))"
      ]
     },
     "execution_count": 3,
     "metadata": {},
     "output_type": "execute_result"
    }
   ],
   "source": [
    "train_X = np.random.randn(train_num, dim)\n",
    "train_y = np.random.randint(1, 1+2, (train_num,))\n",
    "train_X.shape, train_y.shape"
   ]
  },
  {
   "cell_type": "code",
   "execution_count": 4,
   "id": "3732e0b7",
   "metadata": {},
   "outputs": [
    {
     "data": {
      "text/plain": [
       "((50, 20), (50,))"
      ]
     },
     "execution_count": 4,
     "metadata": {},
     "output_type": "execute_result"
    }
   ],
   "source": [
    "test_X = np.random.randn(test_num, dim)\n",
    "test_y = np.random.randint(1, 1+2, (test_num,))\n",
    "test_X.shape, test_y.shape"
   ]
  },
  {
   "cell_type": "code",
   "execution_count": 5,
   "id": "1ecb4d38",
   "metadata": {},
   "outputs": [],
   "source": [
    "def mk_pipe(gamma='auto'):\n",
    "    pipe = Pipeline([\n",
    "        ('clf', SVC(kernel='rbf', gamma=gamma))\n",
    "    ])\n",
    "    return pipe"
   ]
  },
  {
   "cell_type": "code",
   "execution_count": 6,
   "id": "4da195f1",
   "metadata": {
    "scrolled": true
   },
   "outputs": [
    {
     "data": {
      "text/plain": [
       "0.66"
      ]
     },
     "execution_count": 6,
     "metadata": {},
     "output_type": "execute_result"
    }
   ],
   "source": [
    "scores = []\n",
    "for _ in range(1000):\n",
    "    select = np.random.randint(1, 1+5, (train_num)) == 1\n",
    "    X = train_X[select]\n",
    "    y = train_y[select]\n",
    "    \n",
    "    pipe = mk_pipe()\n",
    "    pipe.fit(X, y)\n",
    "    pred_y = pipe.predict(test_X)\n",
    "    acc = metrics.accuracy_score(y_true=test_y, y_pred=pred_y)\n",
    "        \n",
    "    scores.append(acc)\n",
    "\n",
    "sorted(scores)[-1]"
   ]
  },
  {
   "cell_type": "code",
   "execution_count": 8,
   "id": "2c8b7202",
   "metadata": {},
   "outputs": [
    {
     "name": "stdout",
     "output_type": "stream",
     "text": [
      "| num | acc | z-value | p-value | fdr-p-value |\n",
      "| ---- | ---- | ---- | ---- | ---- |\n",
      "|     5 |  0.5400 |  1.1282 |  0.1296 |  0.5854 |\n",
      "|    10 |  0.6000 |  1.7096 |  0.0437 |  0.4367 |\n",
      "|    20 |  0.6000 |  2.1842 |  0.0145 |  0.1447 |\n",
      "|    50 |  0.6400 |  1.9727 |  0.0243 |  0.6066 |\n",
      "|   100 |  0.6600 |  2.6816 |  0.0037 |  0.3664 |\n",
      "|   200 |  0.6200 |  2.2338 |  0.0127 |  0.4437 |\n",
      "|   500 |  0.6600 |  2.8135 |  0.0025 |  0.5993 |\n",
      "|  1000 |  0.6600 |  2.8369 |  0.0023 |  0.5554 |\n"
     ]
    }
   ],
   "source": [
    "print('| num | acc | z-value | p-value | fdr-p-value |')\n",
    "print('| ---- | ---- | ---- | ---- | ---- |')\n",
    "for j in [5, 10, 20, 50, 100, 200, 500, 1000]:\n",
    "    s = sorted(np.random.choice(scores, size=j, replace=False))\n",
    "    z = zscore(s)\n",
    "    p = [1 - norm.cdf(e) for e in z]\n",
    "    pc = fdrcorrection(p)\n",
    "    print(f'| {j: 5d} | {s[-1]: .4f} | {z[-1]: .4f} | {p[-1]: .4f} | {pc[1][-1]: .4f} |')"
   ]
  },
  {
   "cell_type": "code",
   "execution_count": null,
   "id": "db41132d",
   "metadata": {},
   "outputs": [],
   "source": []
  },
  {
   "cell_type": "code",
   "execution_count": null,
   "id": "fa128820",
   "metadata": {},
   "outputs": [],
   "source": []
  }
 ],
 "metadata": {
  "kernelspec": {
   "display_name": "Python 3",
   "language": "python",
   "name": "python3"
  },
  "language_info": {
   "codemirror_mode": {
    "name": "ipython",
    "version": 3
   },
   "file_extension": ".py",
   "mimetype": "text/x-python",
   "name": "python",
   "nbconvert_exporter": "python",
   "pygments_lexer": "ipython3",
   "version": "3.8.10"
  },
  "toc": {
   "base_numbering": 1,
   "nav_menu": {},
   "number_sections": true,
   "sideBar": true,
   "skip_h1_title": false,
   "title_cell": "Table of Contents",
   "title_sidebar": "Contents",
   "toc_cell": false,
   "toc_position": {},
   "toc_section_display": true,
   "toc_window_display": false
  }
 },
 "nbformat": 4,
 "nbformat_minor": 5
}
