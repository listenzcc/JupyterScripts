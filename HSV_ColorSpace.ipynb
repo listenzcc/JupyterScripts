{
 "cells": [
  {
   "cell_type": "code",
   "execution_count": 107,
   "id": "a271c1ce",
   "metadata": {},
   "outputs": [],
   "source": [
    "import cv2\n",
    "import numpy as np\n",
    "import pandas as pd\n",
    "from PIL import Image\n",
    "\n",
    "import plotly.express as px\n",
    "import plotly.graph_objects as go\n",
    "from plotly.subplots import make_subplots"
   ]
  },
  {
   "cell_type": "code",
   "execution_count": 79,
   "id": "578489d6",
   "metadata": {},
   "outputs": [],
   "source": [
    "def rgb2str(rgb):\n",
    "    return '#' + ''.join([hex(e).replace('x', '')[-2:] for e in rgb])\n",
    "        "
   ]
  },
  {
   "cell_type": "code",
   "execution_count": 117,
   "id": "3278c71d",
   "metadata": {},
   "outputs": [],
   "source": [
    "class MyImage(object):\n",
    "    ''' Class of the Images with its Matrix in HSV ColorSpace '''\n",
    "    \n",
    "    def __init__(self, resolve=100):\n",
    "        ''' Initialization with Resolve [resolve] '''\n",
    "        # Init Resolve\n",
    "        self.resolve = resolve\n",
    "        pass\n",
    "    \n",
    "    def mk_h_circle(self):\n",
    "        ''' Make Circle for H Dim'''\n",
    "        hc = np.zeros((180, 3)).astype(np.uint8)\n",
    "        hc[:, 0] = range(180)\n",
    "        hc[:, 1:] = 255\n",
    "        \n",
    "        self.hc = hc\n",
    "        \n",
    "        # Make Image\n",
    "        rgb = cv2.cvtColor(hc[:, np.newaxis, :], cv2.COLOR_HSV2BGR)\n",
    "        rgb = rgb.squeeze()\n",
    "        \n",
    "        df = pd.DataFrame()\n",
    "        df['rgb'] = [e for e in rgb]\n",
    "        df['color'] = df['rgb'].map(rgb2str)\n",
    "        df['idx'] = range(180)\n",
    "        \n",
    "        def ang2pos(a):\n",
    "            t = a / 180 * np.pi * 2\n",
    "            return (np.cos(t), np.sin(t))\n",
    "        \n",
    "        df['pos'] = df['idx'].map(ang2pos)\n",
    "        \n",
    "        df['x'] = df['pos'].map(lambda x: x[0])\n",
    "        df['y'] = df['pos'].map(lambda x: x[1])\n",
    "        \n",
    "        fig = go.Figure(data=[go.Scatter(x=df['x'],\n",
    "                                         y=df['y'],\n",
    "                                         marker={'color': df['color']},\n",
    "                                         mode='markers')])\n",
    "        fig.update_layout(dict(title='Hue Ring'))\n",
    "        \n",
    "        return fig\n",
    "        \n",
    "    \n",
    "    def mk_hsv(self, h=0):\n",
    "        ''' Make HSV Matrix based on H Dim [h] '''\n",
    "        # Get Resolve\n",
    "        r = self.resolve\n",
    "        \n",
    "        # Init HSV Matrix\n",
    "        hsv = np.zeros((r, r, 3)).astype(np.uint8)\n",
    "        \n",
    "        # Set H Dim\n",
    "        hsv[:, :, 0] = h % 180\n",
    "        \n",
    "        # Set SV Dim\n",
    "        hsv[:, :, 1:] = np.array(np.meshgrid(np.linspace(0, 255, resolve), np.linspace(0, 255, resolve))).transpose((1, 2, 0))\n",
    "        \n",
    "        self.hsv = hsv\n",
    "        return hsv\n",
    "    \n",
    "    def plot_hsv(self, hsv=None):\n",
    "        ''' Plot HSV Matrix '''\n",
    "        if hsv is None:\n",
    "            if hasattr(self, 'hsv'):\n",
    "                hsv = self.hsv\n",
    "            else:\n",
    "                hsv = self.mk_hsv()\n",
    "        \n",
    "        # Make Image\n",
    "        im = Image.fromarray(cv2.cvtColor(hsv, cv2.COLOR_HSV2BGR))\n",
    "        \n",
    "        # Plot SV Matrix\n",
    "        fig = px.imshow(im)\n",
    "        fig.update_xaxes(title_text='S')\n",
    "        fig.update_yaxes(title_text='V')\n",
    "        return fig\n",
    "        \n",
    "mi = MyImage()"
   ]
  },
  {
   "cell_type": "code",
   "execution_count": 118,
   "id": "67ef2b43",
   "metadata": {},
   "outputs": [
    {
     "name": "stdout",
     "output_type": "stream",
     "text": [
      "(180, 3)\n"
     ]
    },
    {
     "data": {
      "application/vnd.plotly.v1+json": {
       "config": {
        "plotlyServerURL": "https://plot.ly"
       },
       "data": [
        {
         "marker": {
          "color": [
           "#0000ff",
           "#0009ff",
           "#0011ff",
           "#001aff",
           "#0022ff",
           "#002bff",
           "#0033ff",
           "#003cff",
           "#0044ff",
           "#004cff",
           "#0055ff",
           "#005eff",
           "#0066ff",
           "#006fff",
           "#0077ff",
           "#0080ff",
           "#0088ff",
           "#0091ff",
           "#0099ff",
           "#00a2ff",
           "#00aaff",
           "#00b3ff",
           "#00bbff",
           "#00c4ff",
           "#00ccff",
           "#00d5ff",
           "#00ddff",
           "#00e6ff",
           "#00eeff",
           "#00f7ff",
           "#00ffff",
           "#00fff6",
           "#00ffee",
           "#00ffe6",
           "#00ffdd",
           "#00ffd4",
           "#00ffcc",
           "#00ffc4",
           "#00ffbb",
           "#00ffb2",
           "#00ffaa",
           "#00ffa1",
           "#00ff99",
           "#00ff90",
           "#00ff88",
           "#00ff7f",
           "#00ff77",
           "#00ff6e",
           "#00ff66",
           "#00ff5d",
           "#00ff55",
           "#00ff4c",
           "#00ff44",
           "#00ff3b",
           "#00ff33",
           "#00ff2a",
           "#00ff22",
           "#00ff19",
           "#00ff11",
           "#00ff08",
           "#00ff00",
           "#09ff00",
           "#11ff00",
           "#1aff00",
           "#22ff00",
           "#2bff00",
           "#33ff00",
           "#3cff00",
           "#44ff00",
           "#4dff00",
           "#55ff00",
           "#5eff00",
           "#66ff00",
           "#6fff00",
           "#77ff00",
           "#80ff00",
           "#88ff00",
           "#91ff00",
           "#99ff00",
           "#a2ff00",
           "#aaff00",
           "#b3ff00",
           "#bbff00",
           "#c4ff00",
           "#ccff00",
           "#d5ff00",
           "#ddff00",
           "#e6ff00",
           "#eeff00",
           "#f7ff00",
           "#ffff00",
           "#fff600",
           "#ffee00",
           "#ffe500",
           "#ffdd00",
           "#ffd400",
           "#ffcc00",
           "#ffc300",
           "#ffbb00",
           "#ffb200",
           "#ffaa00",
           "#ffa100",
           "#ff9900",
           "#ff9000",
           "#ff8800",
           "#ff7f00",
           "#ff7700",
           "#ff6e00",
           "#ff6600",
           "#ff5d00",
           "#ff5500",
           "#ff4c00",
           "#ff4400",
           "#ff3b00",
           "#ff3300",
           "#ff2a00",
           "#ff2200",
           "#ff1900",
           "#ff1100",
           "#ff0800",
           "#ff0000",
           "#ff0009",
           "#ff0011",
           "#ff001a",
           "#ff0022",
           "#ff002b",
           "#ff0033",
           "#ff003c",
           "#ff0044",
           "#ff004d",
           "#ff0055",
           "#ff005e",
           "#ff0066",
           "#ff006f",
           "#ff0077",
           "#ff0080",
           "#ff0088",
           "#ff0091",
           "#ff0099",
           "#ff00a2",
           "#ff00aa",
           "#ff00b3",
           "#ff00bb",
           "#ff00c4",
           "#ff00cc",
           "#ff00d5",
           "#ff00dd",
           "#ff00e6",
           "#ff00ee",
           "#ff00f7",
           "#ff00ff",
           "#f600ff",
           "#ee00ff",
           "#e500ff",
           "#dd00ff",
           "#d400ff",
           "#cc00ff",
           "#c300ff",
           "#bb00ff",
           "#b200ff",
           "#aa00ff",
           "#a100ff",
           "#9900ff",
           "#9000ff",
           "#8800ff",
           "#7f00ff",
           "#7700ff",
           "#6e00ff",
           "#6600ff",
           "#5d00ff",
           "#5500ff",
           "#4c00ff",
           "#4400ff",
           "#3b00ff",
           "#3300ff",
           "#2a00ff",
           "#2200ff",
           "#1900ff",
           "#1100ff",
           "#0800ff"
          ]
         },
         "mode": "markers",
         "type": "scatter",
         "x": [
          1,
          0.9993908270190958,
          0.9975640502598242,
          0.9945218953682733,
          0.9902680687415704,
          0.984807753012208,
          0.9781476007338057,
          0.9702957262759965,
          0.9612616959383189,
          0.9510565162951535,
          0.9396926207859084,
          0.9271838545667874,
          0.9135454576426009,
          0.898794046299167,
          0.882947592858927,
          0.8660254037844387,
          0.848048096156426,
          0.8290375725550417,
          0.8090169943749475,
          0.7880107536067219,
          0.766044443118978,
          0.7431448254773942,
          0.7193398003386512,
          0.6946583704589974,
          0.6691306063588582,
          0.6427876096865394,
          0.6156614753256583,
          0.5877852522924731,
          0.5591929034707468,
          0.5299192642332049,
          0.5000000000000001,
          0.46947156278589086,
          0.43837114678907746,
          0.4067366430758004,
          0.3746065934159122,
          0.3420201433256688,
          0.30901699437494745,
          0.27563735581699916,
          0.24192189559966767,
          0.20791169081775923,
          0.17364817766693041,
          0.13917310096006547,
          0.10452846326765346,
          0.06975647374412523,
          0.03489949670250108,
          6.123233995736766e-17,
          -0.03489949670250073,
          -0.06975647374412533,
          -0.10452846326765333,
          -0.13917310096006513,
          -0.1736481776669303,
          -0.20791169081775912,
          -0.24192189559966756,
          -0.27563735581699905,
          -0.30901699437494734,
          -0.3420201433256687,
          -0.37460659341591207,
          -0.4067366430758001,
          -0.4383711467890775,
          -0.46947156278589053,
          -0.4999999999999998,
          -0.5299192642332048,
          -0.5591929034707467,
          -0.587785252292473,
          -0.6156614753256583,
          -0.6427876096865394,
          -0.6691306063588579,
          -0.6946583704589974,
          -0.719339800338651,
          -0.7431448254773944,
          -0.7660444431189779,
          -0.7880107536067219,
          -0.8090169943749473,
          -0.8290375725550416,
          -0.848048096156426,
          -0.8660254037844387,
          -0.882947592858927,
          -0.8987940462991668,
          -0.913545457642601,
          -0.9271838545667873,
          -0.9396926207859083,
          -0.9510565162951535,
          -0.9612616959383189,
          -0.9702957262759965,
          -0.9781476007338057,
          -0.984807753012208,
          -0.9902680687415704,
          -0.9945218953682733,
          -0.9975640502598242,
          -0.9993908270190958,
          -1,
          -0.9993908270190958,
          -0.9975640502598243,
          -0.9945218953682733,
          -0.9902680687415703,
          -0.984807753012208,
          -0.9781476007338057,
          -0.9702957262759965,
          -0.961261695938319,
          -0.9510565162951535,
          -0.9396926207859084,
          -0.9271838545667874,
          -0.9135454576426011,
          -0.8987940462991671,
          -0.8829475928589271,
          -0.8660254037844386,
          -0.8480480961564261,
          -0.8290375725550417,
          -0.8090169943749475,
          -0.7880107536067222,
          -0.766044443118978,
          -0.7431448254773942,
          -0.7193398003386511,
          -0.6946583704589975,
          -0.6691306063588585,
          -0.6427876096865395,
          -0.6156614753256581,
          -0.5877852522924732,
          -0.5591929034707472,
          -0.529919264233205,
          -0.5000000000000004,
          -0.46947156278589075,
          -0.43837114678907774,
          -0.4067366430758001,
          -0.3746065934159123,
          -0.3420201433256694,
          -0.30901699437494756,
          -0.2756373558169989,
          -0.24192189559966779,
          -0.2079116908177598,
          -0.17364817766693033,
          -0.13917310096006583,
          -0.10452846326765423,
          -0.06975647374412558,
          -0.03489949670250076,
          -1.8369701987210297e-16,
          0.03489949670250039,
          0.06975647374412522,
          0.10452846326765387,
          0.13917310096006547,
          0.17364817766692997,
          0.20791169081775943,
          0.24192189559966742,
          0.2756373558169985,
          0.30901699437494723,
          0.342020143325669,
          0.37460659341591196,
          0.40673664307579976,
          0.4383711467890774,
          0.4694715627858904,
          0.5000000000000001,
          0.5299192642332047,
          0.559192903470747,
          0.5877852522924729,
          0.6156614753256578,
          0.6427876096865393,
          0.6691306063588585,
          0.6946583704589973,
          0.7193398003386509,
          0.7431448254773937,
          0.7660444431189778,
          0.788010753606722,
          0.8090169943749473,
          0.8290375725550414,
          0.8480480961564258,
          0.8660254037844384,
          0.882947592858927,
          0.8987940462991668,
          0.913545457642601,
          0.9271838545667873,
          0.9396926207859081,
          0.9510565162951535,
          0.9612616959383189,
          0.9702957262759965,
          0.9781476007338056,
          0.984807753012208,
          0.9902680687415703,
          0.9945218953682733,
          0.9975640502598242,
          0.9993908270190958
         ],
         "xaxis": "x",
         "y": [
          0,
          0.03489949670250097,
          0.0697564737441253,
          0.10452846326765346,
          0.13917310096006544,
          0.17364817766693033,
          0.20791169081775931,
          0.24192189559966773,
          0.27563735581699916,
          0.3090169943749474,
          0.3420201433256687,
          0.374606593415912,
          0.40673664307580015,
          0.4383711467890774,
          0.4694715627858908,
          0.49999999999999994,
          0.5299192642332049,
          0.5591929034707468,
          0.5877852522924731,
          0.6156614753256583,
          0.6427876096865393,
          0.6691306063588582,
          0.6946583704589973,
          0.7193398003386511,
          0.7431448254773941,
          0.766044443118978,
          0.7880107536067219,
          0.8090169943749475,
          0.8290375725550417,
          0.8480480961564261,
          0.8660254037844386,
          0.8829475928589269,
          0.898794046299167,
          0.9135454576426009,
          0.9271838545667873,
          0.9396926207859083,
          0.9510565162951535,
          0.9612616959383189,
          0.9702957262759965,
          0.9781476007338057,
          0.984807753012208,
          0.9902680687415704,
          0.9945218953682733,
          0.9975640502598242,
          0.9993908270190958,
          1,
          0.9993908270190958,
          0.9975640502598242,
          0.9945218953682734,
          0.9902680687415704,
          0.984807753012208,
          0.9781476007338057,
          0.9702957262759965,
          0.9612616959383189,
          0.9510565162951536,
          0.9396926207859084,
          0.9271838545667874,
          0.913545457642601,
          0.8987940462991669,
          0.8829475928589271,
          0.8660254037844387,
          0.8480480961564261,
          0.8290375725550417,
          0.8090169943749475,
          0.788010753606722,
          0.766044443118978,
          0.7431448254773945,
          0.7193398003386511,
          0.6946583704589975,
          0.669130606358858,
          0.6427876096865395,
          0.6156614753256584,
          0.5877852522924732,
          0.5591929034707469,
          0.5299192642332049,
          0.49999999999999994,
          0.4694715627858907,
          0.4383711467890777,
          0.40673664307580004,
          0.37460659341591224,
          0.3420201433256689,
          0.3090169943749475,
          0.2756373558169992,
          0.24192189559966773,
          0.20791169081775931,
          0.1736481776669307,
          0.13917310096006533,
          0.10452846326765373,
          0.06975647374412552,
          0.03489949670250114,
          1.2246467991473532e-16,
          -0.0348994967025009,
          -0.06975647374412483,
          -0.1045284632676535,
          -0.13917310096006552,
          -0.17364817766693047,
          -0.20791169081775907,
          -0.2419218955996675,
          -0.2756373558169986,
          -0.30901699437494773,
          -0.34202014332566866,
          -0.374606593415912,
          -0.4067366430757998,
          -0.43837114678907707,
          -0.4694715627858905,
          -0.5000000000000001,
          -0.5299192642332048,
          -0.5591929034707467,
          -0.587785252292473,
          -0.6156614753256578,
          -0.6427876096865393,
          -0.6691306063588582,
          -0.6946583704589973,
          -0.7193398003386509,
          -0.743144825477394,
          -0.7660444431189779,
          -0.7880107536067221,
          -0.8090169943749473,
          -0.8290375725550414,
          -0.848048096156426,
          -0.8660254037844385,
          -0.882947592858927,
          -0.8987940462991668,
          -0.913545457642601,
          -0.9271838545667873,
          -0.9396926207859082,
          -0.9510565162951535,
          -0.961261695938319,
          -0.9702957262759965,
          -0.9781476007338056,
          -0.984807753012208,
          -0.9902680687415703,
          -0.9945218953682733,
          -0.9975640502598242,
          -0.9993908270190958,
          -1,
          -0.9993908270190958,
          -0.9975640502598243,
          -0.9945218953682733,
          -0.9902680687415704,
          -0.9848077530122081,
          -0.9781476007338056,
          -0.9702957262759966,
          -0.961261695938319,
          -0.9510565162951536,
          -0.9396926207859083,
          -0.9271838545667874,
          -0.9135454576426011,
          -0.898794046299167,
          -0.8829475928589271,
          -0.8660254037844386,
          -0.8480480961564261,
          -0.8290375725550416,
          -0.8090169943749476,
          -0.7880107536067223,
          -0.7660444431189781,
          -0.743144825477394,
          -0.7193398003386511,
          -0.6946583704589976,
          -0.6691306063588588,
          -0.6427876096865396,
          -0.6156614753256582,
          -0.5877852522924734,
          -0.5591929034707473,
          -0.529919264233205,
          -0.5000000000000004,
          -0.4694715627858908,
          -0.4383711467890778,
          -0.40673664307580015,
          -0.37460659341591235,
          -0.34202014332566943,
          -0.3090169943749477,
          -0.27563735581699894,
          -0.24192189559966787,
          -0.20791169081775987,
          -0.1736481776669304,
          -0.13917310096006588,
          -0.1045284632676543,
          -0.06975647374412564,
          -0.034899496702500823
         ],
         "yaxis": "y"
        },
        {
         "hovertemplate": "x: %{x}<br>y: %{y}<br>color: [%{z[0]}, %{z[1]}, %{z[2]}]<extra></extra>",
         "name": "0",
         "source": "data:image/png;base64,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",
         "type": "image",
         "xaxis": "x2",
         "yaxis": "y2"
        },
        {
         "hovertemplate": "x: %{x}<br>y: %{y}<br>color: [%{z[0]}, %{z[1]}, %{z[2]}]<extra></extra>",
         "name": "0",
         "source": "data:image/png;base64,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",
         "type": "image",
         "xaxis": "x3",
         "yaxis": "y3"
        },
        {
         "hovertemplate": "x: %{x}<br>y: %{y}<br>color: [%{z[0]}, %{z[1]}, %{z[2]}]<extra></extra>",
         "name": "0",
         "source": "data:image/png;base64,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",
         "type": "image",
         "xaxis": "x4",
         "yaxis": "y4"
        }
       ],
       "layout": {
        "annotations": [
         {
          "font": {
           "size": 16
          },
          "showarrow": false,
          "text": "Hue Ring",
          "x": 0.225,
          "xanchor": "center",
          "xref": "paper",
          "y": 1,
          "yanchor": "bottom",
          "yref": "paper"
         },
         {
          "font": {
           "size": 16
          },
          "showarrow": false,
          "text": "SV Matrix H 30",
          "x": 0.775,
          "xanchor": "center",
          "xref": "paper",
          "y": 1,
          "yanchor": "bottom",
          "yref": "paper"
         },
         {
          "font": {
           "size": 16
          },
          "showarrow": false,
          "text": "SV Matrix H 90",
          "x": 0.225,
          "xanchor": "center",
          "xref": "paper",
          "y": 0.375,
          "yanchor": "bottom",
          "yref": "paper"
         },
         {
          "font": {
           "size": 16
          },
          "showarrow": false,
          "text": "SV Matrix H 150",
          "x": 0.775,
          "xanchor": "center",
          "xref": "paper",
          "y": 0.375,
          "yanchor": "bottom",
          "yref": "paper"
         }
        ],
        "height": 800,
        "template": {
         "data": {
          "bar": [
           {
            "error_x": {
             "color": "#2a3f5f"
            },
            "error_y": {
             "color": "#2a3f5f"
            },
            "marker": {
             "line": {
              "color": "#E5ECF6",
              "width": 0.5
             }
            },
            "type": "bar"
           }
          ],
          "barpolar": [
           {
            "marker": {
             "line": {
              "color": "#E5ECF6",
              "width": 0.5
             }
            },
            "type": "barpolar"
           }
          ],
          "carpet": [
           {
            "aaxis": {
             "endlinecolor": "#2a3f5f",
             "gridcolor": "white",
             "linecolor": "white",
             "minorgridcolor": "white",
             "startlinecolor": "#2a3f5f"
            },
            "baxis": {
             "endlinecolor": "#2a3f5f",
             "gridcolor": "white",
             "linecolor": "white",
             "minorgridcolor": "white",
             "startlinecolor": "#2a3f5f"
            },
            "type": "carpet"
           }
          ],
          "choropleth": [
           {
            "colorbar": {
             "outlinewidth": 0,
             "ticks": ""
            },
            "type": "choropleth"
           }
          ],
          "contour": [
           {
            "colorbar": {
             "outlinewidth": 0,
             "ticks": ""
            },
            "colorscale": [
             [
              0,
              "#0d0887"
             ],
             [
              0.1111111111111111,
              "#46039f"
             ],
             [
              0.2222222222222222,
              "#7201a8"
             ],
             [
              0.3333333333333333,
              "#9c179e"
             ],
             [
              0.4444444444444444,
              "#bd3786"
             ],
             [
              0.5555555555555556,
              "#d8576b"
             ],
             [
              0.6666666666666666,
              "#ed7953"
             ],
             [
              0.7777777777777778,
              "#fb9f3a"
             ],
             [
              0.8888888888888888,
              "#fdca26"
             ],
             [
              1,
              "#f0f921"
             ]
            ],
            "type": "contour"
           }
          ],
          "contourcarpet": [
           {
            "colorbar": {
             "outlinewidth": 0,
             "ticks": ""
            },
            "type": "contourcarpet"
           }
          ],
          "heatmap": [
           {
            "colorbar": {
             "outlinewidth": 0,
             "ticks": ""
            },
            "colorscale": [
             [
              0,
              "#0d0887"
             ],
             [
              0.1111111111111111,
              "#46039f"
             ],
             [
              0.2222222222222222,
              "#7201a8"
             ],
             [
              0.3333333333333333,
              "#9c179e"
             ],
             [
              0.4444444444444444,
              "#bd3786"
             ],
             [
              0.5555555555555556,
              "#d8576b"
             ],
             [
              0.6666666666666666,
              "#ed7953"
             ],
             [
              0.7777777777777778,
              "#fb9f3a"
             ],
             [
              0.8888888888888888,
              "#fdca26"
             ],
             [
              1,
              "#f0f921"
             ]
            ],
            "type": "heatmap"
           }
          ],
          "heatmapgl": [
           {
            "colorbar": {
             "outlinewidth": 0,
             "ticks": ""
            },
            "colorscale": [
             [
              0,
              "#0d0887"
             ],
             [
              0.1111111111111111,
              "#46039f"
             ],
             [
              0.2222222222222222,
              "#7201a8"
             ],
             [
              0.3333333333333333,
              "#9c179e"
             ],
             [
              0.4444444444444444,
              "#bd3786"
             ],
             [
              0.5555555555555556,
              "#d8576b"
             ],
             [
              0.6666666666666666,
              "#ed7953"
             ],
             [
              0.7777777777777778,
              "#fb9f3a"
             ],
             [
              0.8888888888888888,
              "#fdca26"
             ],
             [
              1,
              "#f0f921"
             ]
            ],
            "type": "heatmapgl"
           }
          ],
          "histogram": [
           {
            "marker": {
             "colorbar": {
              "outlinewidth": 0,
              "ticks": ""
             }
            },
            "type": "histogram"
           }
          ],
          "histogram2d": [
           {
            "colorbar": {
             "outlinewidth": 0,
             "ticks": ""
            },
            "colorscale": [
             [
              0,
              "#0d0887"
             ],
             [
              0.1111111111111111,
              "#46039f"
             ],
             [
              0.2222222222222222,
              "#7201a8"
             ],
             [
              0.3333333333333333,
              "#9c179e"
             ],
             [
              0.4444444444444444,
              "#bd3786"
             ],
             [
              0.5555555555555556,
              "#d8576b"
             ],
             [
              0.6666666666666666,
              "#ed7953"
             ],
             [
              0.7777777777777778,
              "#fb9f3a"
             ],
             [
              0.8888888888888888,
              "#fdca26"
             ],
             [
              1,
              "#f0f921"
             ]
            ],
            "type": "histogram2d"
           }
          ],
          "histogram2dcontour": [
           {
            "colorbar": {
             "outlinewidth": 0,
             "ticks": ""
            },
            "colorscale": [
             [
              0,
              "#0d0887"
             ],
             [
              0.1111111111111111,
              "#46039f"
             ],
             [
              0.2222222222222222,
              "#7201a8"
             ],
             [
              0.3333333333333333,
              "#9c179e"
             ],
             [
              0.4444444444444444,
              "#bd3786"
             ],
             [
              0.5555555555555556,
              "#d8576b"
             ],
             [
              0.6666666666666666,
              "#ed7953"
             ],
             [
              0.7777777777777778,
              "#fb9f3a"
             ],
             [
              0.8888888888888888,
              "#fdca26"
             ],
             [
              1,
              "#f0f921"
             ]
            ],
            "type": "histogram2dcontour"
           }
          ],
          "mesh3d": [
           {
            "colorbar": {
             "outlinewidth": 0,
             "ticks": ""
            },
            "type": "mesh3d"
           }
          ],
          "parcoords": [
           {
            "line": {
             "colorbar": {
              "outlinewidth": 0,
              "ticks": ""
             }
            },
            "type": "parcoords"
           }
          ],
          "pie": [
           {
            "automargin": true,
            "type": "pie"
           }
          ],
          "scatter": [
           {
            "marker": {
             "colorbar": {
              "outlinewidth": 0,
              "ticks": ""
             }
            },
            "type": "scatter"
           }
          ],
          "scatter3d": [
           {
            "line": {
             "colorbar": {
              "outlinewidth": 0,
              "ticks": ""
             }
            },
            "marker": {
             "colorbar": {
              "outlinewidth": 0,
              "ticks": ""
             }
            },
            "type": "scatter3d"
           }
          ],
          "scattercarpet": [
           {
            "marker": {
             "colorbar": {
              "outlinewidth": 0,
              "ticks": ""
             }
            },
            "type": "scattercarpet"
           }
          ],
          "scattergeo": [
           {
            "marker": {
             "colorbar": {
              "outlinewidth": 0,
              "ticks": ""
             }
            },
            "type": "scattergeo"
           }
          ],
          "scattergl": [
           {
            "marker": {
             "colorbar": {
              "outlinewidth": 0,
              "ticks": ""
             }
            },
            "type": "scattergl"
           }
          ],
          "scattermapbox": [
           {
            "marker": {
             "colorbar": {
              "outlinewidth": 0,
              "ticks": ""
             }
            },
            "type": "scattermapbox"
           }
          ],
          "scatterpolar": [
           {
            "marker": {
             "colorbar": {
              "outlinewidth": 0,
              "ticks": ""
             }
            },
            "type": "scatterpolar"
           }
          ],
          "scatterpolargl": [
           {
            "marker": {
             "colorbar": {
              "outlinewidth": 0,
              "ticks": ""
             }
            },
            "type": "scatterpolargl"
           }
          ],
          "scatterternary": [
           {
            "marker": {
             "colorbar": {
              "outlinewidth": 0,
              "ticks": ""
             }
            },
            "type": "scatterternary"
           }
          ],
          "surface": [
           {
            "colorbar": {
             "outlinewidth": 0,
             "ticks": ""
            },
            "colorscale": [
             [
              0,
              "#0d0887"
             ],
             [
              0.1111111111111111,
              "#46039f"
             ],
             [
              0.2222222222222222,
              "#7201a8"
             ],
             [
              0.3333333333333333,
              "#9c179e"
             ],
             [
              0.4444444444444444,
              "#bd3786"
             ],
             [
              0.5555555555555556,
              "#d8576b"
             ],
             [
              0.6666666666666666,
              "#ed7953"
             ],
             [
              0.7777777777777778,
              "#fb9f3a"
             ],
             [
              0.8888888888888888,
              "#fdca26"
             ],
             [
              1,
              "#f0f921"
             ]
            ],
            "type": "surface"
           }
          ],
          "table": [
           {
            "cells": {
             "fill": {
              "color": "#EBF0F8"
             },
             "line": {
              "color": "white"
             }
            },
            "header": {
             "fill": {
              "color": "#C8D4E3"
             },
             "line": {
              "color": "white"
             }
            },
            "type": "table"
           }
          ]
         },
         "layout": {
          "annotationdefaults": {
           "arrowcolor": "#2a3f5f",
           "arrowhead": 0,
           "arrowwidth": 1
          },
          "autotypenumbers": "strict",
          "coloraxis": {
           "colorbar": {
            "outlinewidth": 0,
            "ticks": ""
           }
          },
          "colorscale": {
           "diverging": [
            [
             0,
             "#8e0152"
            ],
            [
             0.1,
             "#c51b7d"
            ],
            [
             0.2,
             "#de77ae"
            ],
            [
             0.3,
             "#f1b6da"
            ],
            [
             0.4,
             "#fde0ef"
            ],
            [
             0.5,
             "#f7f7f7"
            ],
            [
             0.6,
             "#e6f5d0"
            ],
            [
             0.7,
             "#b8e186"
            ],
            [
             0.8,
             "#7fbc41"
            ],
            [
             0.9,
             "#4d9221"
            ],
            [
             1,
             "#276419"
            ]
           ],
           "sequential": [
            [
             0,
             "#0d0887"
            ],
            [
             0.1111111111111111,
             "#46039f"
            ],
            [
             0.2222222222222222,
             "#7201a8"
            ],
            [
             0.3333333333333333,
             "#9c179e"
            ],
            [
             0.4444444444444444,
             "#bd3786"
            ],
            [
             0.5555555555555556,
             "#d8576b"
            ],
            [
             0.6666666666666666,
             "#ed7953"
            ],
            [
             0.7777777777777778,
             "#fb9f3a"
            ],
            [
             0.8888888888888888,
             "#fdca26"
            ],
            [
             1,
             "#f0f921"
            ]
           ],
           "sequentialminus": [
            [
             0,
             "#0d0887"
            ],
            [
             0.1111111111111111,
             "#46039f"
            ],
            [
             0.2222222222222222,
             "#7201a8"
            ],
            [
             0.3333333333333333,
             "#9c179e"
            ],
            [
             0.4444444444444444,
             "#bd3786"
            ],
            [
             0.5555555555555556,
             "#d8576b"
            ],
            [
             0.6666666666666666,
             "#ed7953"
            ],
            [
             0.7777777777777778,
             "#fb9f3a"
            ],
            [
             0.8888888888888888,
             "#fdca26"
            ],
            [
             1,
             "#f0f921"
            ]
           ]
          },
          "colorway": [
           "#636efa",
           "#EF553B",
           "#00cc96",
           "#ab63fa",
           "#FFA15A",
           "#19d3f3",
           "#FF6692",
           "#B6E880",
           "#FF97FF",
           "#FECB52"
          ],
          "font": {
           "color": "#2a3f5f"
          },
          "geo": {
           "bgcolor": "white",
           "lakecolor": "white",
           "landcolor": "#E5ECF6",
           "showlakes": true,
           "showland": true,
           "subunitcolor": "white"
          },
          "hoverlabel": {
           "align": "left"
          },
          "hovermode": "closest",
          "mapbox": {
           "style": "light"
          },
          "paper_bgcolor": "white",
          "plot_bgcolor": "#E5ECF6",
          "polar": {
           "angularaxis": {
            "gridcolor": "white",
            "linecolor": "white",
            "ticks": ""
           },
           "bgcolor": "#E5ECF6",
           "radialaxis": {
            "gridcolor": "white",
            "linecolor": "white",
            "ticks": ""
           }
          },
          "scene": {
           "xaxis": {
            "backgroundcolor": "#E5ECF6",
            "gridcolor": "white",
            "gridwidth": 2,
            "linecolor": "white",
            "showbackground": true,
            "ticks": "",
            "zerolinecolor": "white"
           },
           "yaxis": {
            "backgroundcolor": "#E5ECF6",
            "gridcolor": "white",
            "gridwidth": 2,
            "linecolor": "white",
            "showbackground": true,
            "ticks": "",
            "zerolinecolor": "white"
           },
           "zaxis": {
            "backgroundcolor": "#E5ECF6",
            "gridcolor": "white",
            "gridwidth": 2,
            "linecolor": "white",
            "showbackground": true,
            "ticks": "",
            "zerolinecolor": "white"
           }
          },
          "shapedefaults": {
           "line": {
            "color": "#2a3f5f"
           }
          },
          "ternary": {
           "aaxis": {
            "gridcolor": "white",
            "linecolor": "white",
            "ticks": ""
           },
           "baxis": {
            "gridcolor": "white",
            "linecolor": "white",
            "ticks": ""
           },
           "bgcolor": "#E5ECF6",
           "caxis": {
            "gridcolor": "white",
            "linecolor": "white",
            "ticks": ""
           }
          },
          "title": {
           "x": 0.05
          },
          "xaxis": {
           "automargin": true,
           "gridcolor": "white",
           "linecolor": "white",
           "ticks": "",
           "title": {
            "standoff": 15
           },
           "zerolinecolor": "white",
           "zerolinewidth": 2
          },
          "yaxis": {
           "automargin": true,
           "gridcolor": "white",
           "linecolor": "white",
           "ticks": "",
           "title": {
            "standoff": 15
           },
           "zerolinecolor": "white",
           "zerolinewidth": 2
          }
         }
        },
        "width": 800,
        "xaxis": {
         "anchor": "y",
         "domain": [
          0,
          0.45
         ]
        },
        "xaxis2": {
         "anchor": "y2",
         "domain": [
          0.55,
          1
         ]
        },
        "xaxis3": {
         "anchor": "y3",
         "domain": [
          0,
          0.45
         ]
        },
        "xaxis4": {
         "anchor": "y4",
         "domain": [
          0.55,
          1
         ]
        },
        "yaxis": {
         "anchor": "x",
         "domain": [
          0.625,
          1
         ]
        },
        "yaxis2": {
         "anchor": "x2",
         "domain": [
          0.625,
          1
         ]
        },
        "yaxis3": {
         "anchor": "x3",
         "domain": [
          0,
          0.375
         ]
        },
        "yaxis4": {
         "anchor": "x4",
         "domain": [
          0,
          0.375
         ]
        }
       }
      },
      "text/html": [
       "<div>                            <div id=\"d6a18925-6c36-41fe-ad01-0287fe935511\" class=\"plotly-graph-div\" style=\"height:800px; width:800px;\"></div>            <script type=\"text/javascript\">                require([\"plotly\"], function(Plotly) {                    window.PLOTLYENV=window.PLOTLYENV || {};                                    if (document.getElementById(\"d6a18925-6c36-41fe-ad01-0287fe935511\")) {                    Plotly.newPlot(                        \"d6a18925-6c36-41fe-ad01-0287fe935511\",                        [{\"marker\": {\"color\": [\"#0000ff\", \"#0009ff\", \"#0011ff\", \"#001aff\", \"#0022ff\", \"#002bff\", \"#0033ff\", \"#003cff\", \"#0044ff\", \"#004cff\", \"#0055ff\", \"#005eff\", \"#0066ff\", \"#006fff\", \"#0077ff\", \"#0080ff\", \"#0088ff\", \"#0091ff\", \"#0099ff\", \"#00a2ff\", \"#00aaff\", \"#00b3ff\", \"#00bbff\", \"#00c4ff\", \"#00ccff\", \"#00d5ff\", \"#00ddff\", \"#00e6ff\", \"#00eeff\", \"#00f7ff\", \"#00ffff\", \"#00fff6\", \"#00ffee\", \"#00ffe6\", \"#00ffdd\", \"#00ffd4\", \"#00ffcc\", \"#00ffc4\", \"#00ffbb\", \"#00ffb2\", \"#00ffaa\", \"#00ffa1\", \"#00ff99\", \"#00ff90\", \"#00ff88\", \"#00ff7f\", \"#00ff77\", \"#00ff6e\", \"#00ff66\", \"#00ff5d\", \"#00ff55\", \"#00ff4c\", \"#00ff44\", \"#00ff3b\", \"#00ff33\", \"#00ff2a\", \"#00ff22\", \"#00ff19\", \"#00ff11\", \"#00ff08\", \"#00ff00\", \"#09ff00\", \"#11ff00\", \"#1aff00\", \"#22ff00\", \"#2bff00\", \"#33ff00\", \"#3cff00\", \"#44ff00\", \"#4dff00\", \"#55ff00\", \"#5eff00\", \"#66ff00\", \"#6fff00\", \"#77ff00\", \"#80ff00\", \"#88ff00\", \"#91ff00\", \"#99ff00\", \"#a2ff00\", \"#aaff00\", \"#b3ff00\", \"#bbff00\", \"#c4ff00\", \"#ccff00\", \"#d5ff00\", \"#ddff00\", \"#e6ff00\", \"#eeff00\", \"#f7ff00\", \"#ffff00\", \"#fff600\", \"#ffee00\", \"#ffe500\", \"#ffdd00\", \"#ffd400\", \"#ffcc00\", \"#ffc300\", \"#ffbb00\", \"#ffb200\", \"#ffaa00\", \"#ffa100\", \"#ff9900\", \"#ff9000\", \"#ff8800\", \"#ff7f00\", \"#ff7700\", \"#ff6e00\", \"#ff6600\", \"#ff5d00\", \"#ff5500\", \"#ff4c00\", \"#ff4400\", \"#ff3b00\", \"#ff3300\", \"#ff2a00\", \"#ff2200\", \"#ff1900\", \"#ff1100\", \"#ff0800\", \"#ff0000\", \"#ff0009\", \"#ff0011\", \"#ff001a\", \"#ff0022\", \"#ff002b\", \"#ff0033\", \"#ff003c\", \"#ff0044\", \"#ff004d\", \"#ff0055\", \"#ff005e\", \"#ff0066\", \"#ff006f\", \"#ff0077\", \"#ff0080\", \"#ff0088\", \"#ff0091\", \"#ff0099\", \"#ff00a2\", \"#ff00aa\", \"#ff00b3\", \"#ff00bb\", \"#ff00c4\", \"#ff00cc\", \"#ff00d5\", \"#ff00dd\", \"#ff00e6\", \"#ff00ee\", \"#ff00f7\", \"#ff00ff\", \"#f600ff\", \"#ee00ff\", \"#e500ff\", \"#dd00ff\", \"#d400ff\", \"#cc00ff\", \"#c300ff\", \"#bb00ff\", \"#b200ff\", \"#aa00ff\", \"#a100ff\", \"#9900ff\", \"#9000ff\", \"#8800ff\", \"#7f00ff\", \"#7700ff\", \"#6e00ff\", \"#6600ff\", \"#5d00ff\", \"#5500ff\", \"#4c00ff\", \"#4400ff\", \"#3b00ff\", \"#3300ff\", \"#2a00ff\", \"#2200ff\", \"#1900ff\", \"#1100ff\", \"#0800ff\"]}, \"mode\": \"markers\", \"type\": \"scatter\", \"x\": [1.0, 0.9993908270190958, 0.9975640502598242, 0.9945218953682733, 0.9902680687415704, 0.984807753012208, 0.9781476007338057, 0.9702957262759965, 0.9612616959383189, 0.9510565162951535, 0.9396926207859084, 0.9271838545667874, 0.9135454576426009, 0.898794046299167, 0.882947592858927, 0.8660254037844387, 0.848048096156426, 0.8290375725550417, 0.8090169943749475, 0.7880107536067219, 0.766044443118978, 0.7431448254773942, 0.7193398003386512, 0.6946583704589974, 0.6691306063588582, 0.6427876096865394, 0.6156614753256583, 0.5877852522924731, 0.5591929034707468, 0.5299192642332049, 0.5000000000000001, 0.46947156278589086, 0.43837114678907746, 0.4067366430758004, 0.3746065934159122, 0.3420201433256688, 0.30901699437494745, 0.27563735581699916, 0.24192189559966767, 0.20791169081775923, 0.17364817766693041, 0.13917310096006547, 0.10452846326765346, 0.06975647374412523, 0.03489949670250108, 6.123233995736766e-17, -0.03489949670250073, -0.06975647374412533, -0.10452846326765333, -0.13917310096006513, -0.1736481776669303, -0.20791169081775912, -0.24192189559966756, -0.27563735581699905, -0.30901699437494734, -0.3420201433256687, -0.37460659341591207, -0.4067366430758001, -0.4383711467890775, -0.46947156278589053, -0.4999999999999998, -0.5299192642332048, -0.5591929034707467, -0.587785252292473, -0.6156614753256583, -0.6427876096865394, -0.6691306063588579, -0.6946583704589974, -0.719339800338651, -0.7431448254773944, -0.7660444431189779, -0.7880107536067219, -0.8090169943749473, -0.8290375725550416, -0.848048096156426, -0.8660254037844387, -0.882947592858927, -0.8987940462991668, -0.913545457642601, -0.9271838545667873, -0.9396926207859083, -0.9510565162951535, -0.9612616959383189, -0.9702957262759965, -0.9781476007338057, -0.984807753012208, -0.9902680687415704, -0.9945218953682733, -0.9975640502598242, -0.9993908270190958, -1.0, -0.9993908270190958, -0.9975640502598243, -0.9945218953682733, -0.9902680687415703, -0.984807753012208, -0.9781476007338057, -0.9702957262759965, -0.961261695938319, -0.9510565162951535, -0.9396926207859084, -0.9271838545667874, -0.9135454576426011, -0.8987940462991671, -0.8829475928589271, -0.8660254037844386, -0.8480480961564261, -0.8290375725550417, -0.8090169943749475, -0.7880107536067222, -0.766044443118978, -0.7431448254773942, -0.7193398003386511, -0.6946583704589975, -0.6691306063588585, -0.6427876096865395, -0.6156614753256581, -0.5877852522924732, -0.5591929034707472, -0.529919264233205, -0.5000000000000004, -0.46947156278589075, -0.43837114678907774, -0.4067366430758001, -0.3746065934159123, -0.3420201433256694, -0.30901699437494756, -0.2756373558169989, -0.24192189559966779, -0.2079116908177598, -0.17364817766693033, -0.13917310096006583, -0.10452846326765423, -0.06975647374412558, -0.03489949670250076, -1.8369701987210297e-16, 0.03489949670250039, 0.06975647374412522, 0.10452846326765387, 0.13917310096006547, 0.17364817766692997, 0.20791169081775943, 0.24192189559966742, 0.2756373558169985, 0.30901699437494723, 0.342020143325669, 0.37460659341591196, 0.40673664307579976, 0.4383711467890774, 0.4694715627858904, 0.5000000000000001, 0.5299192642332047, 0.559192903470747, 0.5877852522924729, 0.6156614753256578, 0.6427876096865393, 0.6691306063588585, 0.6946583704589973, 0.7193398003386509, 0.7431448254773937, 0.7660444431189778, 0.788010753606722, 0.8090169943749473, 0.8290375725550414, 0.8480480961564258, 0.8660254037844384, 0.882947592858927, 0.8987940462991668, 0.913545457642601, 0.9271838545667873, 0.9396926207859081, 0.9510565162951535, 0.9612616959383189, 0.9702957262759965, 0.9781476007338056, 0.984807753012208, 0.9902680687415703, 0.9945218953682733, 0.9975640502598242, 0.9993908270190958], \"xaxis\": \"x\", \"y\": [0.0, 0.03489949670250097, 0.0697564737441253, 0.10452846326765346, 0.13917310096006544, 0.17364817766693033, 0.20791169081775931, 0.24192189559966773, 0.27563735581699916, 0.3090169943749474, 0.3420201433256687, 0.374606593415912, 0.40673664307580015, 0.4383711467890774, 0.4694715627858908, 0.49999999999999994, 0.5299192642332049, 0.5591929034707468, 0.5877852522924731, 0.6156614753256583, 0.6427876096865393, 0.6691306063588582, 0.6946583704589973, 0.7193398003386511, 0.7431448254773941, 0.766044443118978, 0.7880107536067219, 0.8090169943749475, 0.8290375725550417, 0.8480480961564261, 0.8660254037844386, 0.8829475928589269, 0.898794046299167, 0.9135454576426009, 0.9271838545667873, 0.9396926207859083, 0.9510565162951535, 0.9612616959383189, 0.9702957262759965, 0.9781476007338057, 0.984807753012208, 0.9902680687415704, 0.9945218953682733, 0.9975640502598242, 0.9993908270190958, 1.0, 0.9993908270190958, 0.9975640502598242, 0.9945218953682734, 0.9902680687415704, 0.984807753012208, 0.9781476007338057, 0.9702957262759965, 0.9612616959383189, 0.9510565162951536, 0.9396926207859084, 0.9271838545667874, 0.913545457642601, 0.8987940462991669, 0.8829475928589271, 0.8660254037844387, 0.8480480961564261, 0.8290375725550417, 0.8090169943749475, 0.788010753606722, 0.766044443118978, 0.7431448254773945, 0.7193398003386511, 0.6946583704589975, 0.669130606358858, 0.6427876096865395, 0.6156614753256584, 0.5877852522924732, 0.5591929034707469, 0.5299192642332049, 0.49999999999999994, 0.4694715627858907, 0.4383711467890777, 0.40673664307580004, 0.37460659341591224, 0.3420201433256689, 0.3090169943749475, 0.2756373558169992, 0.24192189559966773, 0.20791169081775931, 0.1736481776669307, 0.13917310096006533, 0.10452846326765373, 0.06975647374412552, 0.03489949670250114, 1.2246467991473532e-16, -0.0348994967025009, -0.06975647374412483, -0.1045284632676535, -0.13917310096006552, -0.17364817766693047, -0.20791169081775907, -0.2419218955996675, -0.2756373558169986, -0.30901699437494773, -0.34202014332566866, -0.374606593415912, -0.4067366430757998, -0.43837114678907707, -0.4694715627858905, -0.5000000000000001, -0.5299192642332048, -0.5591929034707467, -0.587785252292473, -0.6156614753256578, -0.6427876096865393, -0.6691306063588582, -0.6946583704589973, -0.7193398003386509, -0.743144825477394, -0.7660444431189779, -0.7880107536067221, -0.8090169943749473, -0.8290375725550414, -0.848048096156426, -0.8660254037844385, -0.882947592858927, -0.8987940462991668, -0.913545457642601, -0.9271838545667873, -0.9396926207859082, -0.9510565162951535, -0.961261695938319, -0.9702957262759965, -0.9781476007338056, -0.984807753012208, -0.9902680687415703, -0.9945218953682733, -0.9975640502598242, -0.9993908270190958, -1.0, -0.9993908270190958, -0.9975640502598243, -0.9945218953682733, -0.9902680687415704, -0.9848077530122081, -0.9781476007338056, -0.9702957262759966, -0.961261695938319, -0.9510565162951536, -0.9396926207859083, -0.9271838545667874, -0.9135454576426011, -0.898794046299167, -0.8829475928589271, -0.8660254037844386, -0.8480480961564261, -0.8290375725550416, -0.8090169943749476, -0.7880107536067223, -0.7660444431189781, -0.743144825477394, -0.7193398003386511, -0.6946583704589976, -0.6691306063588588, -0.6427876096865396, -0.6156614753256582, -0.5877852522924734, -0.5591929034707473, -0.529919264233205, -0.5000000000000004, -0.4694715627858908, -0.4383711467890778, -0.40673664307580015, -0.37460659341591235, -0.34202014332566943, -0.3090169943749477, -0.27563735581699894, -0.24192189559966787, -0.20791169081775987, -0.1736481776669304, -0.13917310096006588, -0.1045284632676543, -0.06975647374412564, -0.034899496702500823], \"yaxis\": \"y\"}, {\"hovertemplate\": \"x: %{x}<br>y: %{y}<br>color: [%{z[0]}, %{z[1]}, %{z[2]}]<extra></extra>\", \"name\": \"0\", \"source\": \"data:image/png;base64,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\", \"type\": \"image\", \"xaxis\": \"x2\", \"yaxis\": \"y2\"}, {\"hovertemplate\": \"x: %{x}<br>y: %{y}<br>color: [%{z[0]}, %{z[1]}, %{z[2]}]<extra></extra>\", \"name\": \"0\", \"source\": \"data:image/png;base64,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\", \"type\": \"image\", \"xaxis\": \"x3\", \"yaxis\": \"y3\"}, {\"hovertemplate\": \"x: %{x}<br>y: %{y}<br>color: [%{z[0]}, %{z[1]}, %{z[2]}]<extra></extra>\", \"name\": \"0\", \"source\": \"data:image/png;base64,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\", \"type\": \"image\", \"xaxis\": \"x4\", \"yaxis\": \"y4\"}],                        {\"annotations\": [{\"font\": {\"size\": 16}, \"showarrow\": false, \"text\": \"Hue Ring\", \"x\": 0.225, \"xanchor\": \"center\", \"xref\": \"paper\", \"y\": 1.0, \"yanchor\": \"bottom\", \"yref\": \"paper\"}, {\"font\": {\"size\": 16}, \"showarrow\": false, \"text\": \"SV Matrix H 30\", \"x\": 0.775, \"xanchor\": \"center\", \"xref\": \"paper\", \"y\": 1.0, \"yanchor\": \"bottom\", \"yref\": \"paper\"}, {\"font\": {\"size\": 16}, \"showarrow\": false, \"text\": \"SV Matrix H 90\", \"x\": 0.225, \"xanchor\": \"center\", \"xref\": \"paper\", \"y\": 0.375, \"yanchor\": \"bottom\", \"yref\": \"paper\"}, {\"font\": {\"size\": 16}, \"showarrow\": false, \"text\": \"SV Matrix H 150\", \"x\": 0.775, \"xanchor\": \"center\", \"xref\": \"paper\", \"y\": 0.375, \"yanchor\": \"bottom\", \"yref\": \"paper\"}], \"height\": 800, \"template\": {\"data\": {\"bar\": [{\"error_x\": {\"color\": \"#2a3f5f\"}, \"error_y\": {\"color\": \"#2a3f5f\"}, \"marker\": {\"line\": {\"color\": \"#E5ECF6\", \"width\": 0.5}}, \"type\": \"bar\"}], \"barpolar\": [{\"marker\": {\"line\": {\"color\": \"#E5ECF6\", \"width\": 0.5}}, \"type\": \"barpolar\"}], \"carpet\": [{\"aaxis\": {\"endlinecolor\": \"#2a3f5f\", \"gridcolor\": \"white\", \"linecolor\": \"white\", \"minorgridcolor\": \"white\", \"startlinecolor\": \"#2a3f5f\"}, \"baxis\": {\"endlinecolor\": \"#2a3f5f\", \"gridcolor\": \"white\", \"linecolor\": \"white\", \"minorgridcolor\": \"white\", \"startlinecolor\": \"#2a3f5f\"}, \"type\": \"carpet\"}], \"choropleth\": [{\"colorbar\": {\"outlinewidth\": 0, \"ticks\": \"\"}, \"type\": \"choropleth\"}], \"contour\": [{\"colorbar\": {\"outlinewidth\": 0, \"ticks\": \"\"}, \"colorscale\": [[0.0, \"#0d0887\"], [0.1111111111111111, \"#46039f\"], [0.2222222222222222, \"#7201a8\"], [0.3333333333333333, \"#9c179e\"], [0.4444444444444444, \"#bd3786\"], [0.5555555555555556, \"#d8576b\"], [0.6666666666666666, \"#ed7953\"], [0.7777777777777778, \"#fb9f3a\"], [0.8888888888888888, \"#fdca26\"], [1.0, \"#f0f921\"]], \"type\": \"contour\"}], \"contourcarpet\": [{\"colorbar\": {\"outlinewidth\": 0, \"ticks\": \"\"}, \"type\": \"contourcarpet\"}], \"heatmap\": [{\"colorbar\": {\"outlinewidth\": 0, \"ticks\": \"\"}, \"colorscale\": [[0.0, \"#0d0887\"], [0.1111111111111111, \"#46039f\"], [0.2222222222222222, \"#7201a8\"], [0.3333333333333333, \"#9c179e\"], [0.4444444444444444, \"#bd3786\"], [0.5555555555555556, \"#d8576b\"], [0.6666666666666666, \"#ed7953\"], [0.7777777777777778, \"#fb9f3a\"], [0.8888888888888888, \"#fdca26\"], [1.0, \"#f0f921\"]], \"type\": \"heatmap\"}], \"heatmapgl\": [{\"colorbar\": {\"outlinewidth\": 0, \"ticks\": \"\"}, \"colorscale\": [[0.0, \"#0d0887\"], [0.1111111111111111, \"#46039f\"], [0.2222222222222222, \"#7201a8\"], [0.3333333333333333, \"#9c179e\"], [0.4444444444444444, \"#bd3786\"], [0.5555555555555556, \"#d8576b\"], [0.6666666666666666, \"#ed7953\"], [0.7777777777777778, \"#fb9f3a\"], [0.8888888888888888, \"#fdca26\"], [1.0, \"#f0f921\"]], \"type\": \"heatmapgl\"}], \"histogram\": [{\"marker\": {\"colorbar\": {\"outlinewidth\": 0, \"ticks\": \"\"}}, \"type\": \"histogram\"}], \"histogram2d\": [{\"colorbar\": {\"outlinewidth\": 0, \"ticks\": \"\"}, \"colorscale\": [[0.0, \"#0d0887\"], [0.1111111111111111, \"#46039f\"], [0.2222222222222222, \"#7201a8\"], [0.3333333333333333, \"#9c179e\"], [0.4444444444444444, \"#bd3786\"], [0.5555555555555556, \"#d8576b\"], [0.6666666666666666, \"#ed7953\"], [0.7777777777777778, \"#fb9f3a\"], [0.8888888888888888, \"#fdca26\"], [1.0, \"#f0f921\"]], \"type\": \"histogram2d\"}], \"histogram2dcontour\": [{\"colorbar\": {\"outlinewidth\": 0, \"ticks\": \"\"}, \"colorscale\": [[0.0, \"#0d0887\"], [0.1111111111111111, \"#46039f\"], [0.2222222222222222, \"#7201a8\"], [0.3333333333333333, \"#9c179e\"], [0.4444444444444444, \"#bd3786\"], [0.5555555555555556, \"#d8576b\"], [0.6666666666666666, \"#ed7953\"], [0.7777777777777778, \"#fb9f3a\"], [0.8888888888888888, \"#fdca26\"], [1.0, \"#f0f921\"]], \"type\": \"histogram2dcontour\"}], \"mesh3d\": [{\"colorbar\": {\"outlinewidth\": 0, \"ticks\": \"\"}, \"type\": \"mesh3d\"}], \"parcoords\": [{\"line\": {\"colorbar\": {\"outlinewidth\": 0, \"ticks\": \"\"}}, \"type\": \"parcoords\"}], \"pie\": [{\"automargin\": true, \"type\": \"pie\"}], \"scatter\": [{\"marker\": {\"colorbar\": {\"outlinewidth\": 0, \"ticks\": \"\"}}, \"type\": \"scatter\"}], \"scatter3d\": [{\"line\": {\"colorbar\": {\"outlinewidth\": 0, \"ticks\": \"\"}}, \"marker\": {\"colorbar\": {\"outlinewidth\": 0, \"ticks\": \"\"}}, \"type\": \"scatter3d\"}], \"scattercarpet\": [{\"marker\": {\"colorbar\": {\"outlinewidth\": 0, \"ticks\": \"\"}}, \"type\": \"scattercarpet\"}], \"scattergeo\": [{\"marker\": {\"colorbar\": {\"outlinewidth\": 0, \"ticks\": \"\"}}, \"type\": \"scattergeo\"}], \"scattergl\": [{\"marker\": {\"colorbar\": {\"outlinewidth\": 0, \"ticks\": \"\"}}, \"type\": \"scattergl\"}], \"scattermapbox\": [{\"marker\": {\"colorbar\": {\"outlinewidth\": 0, \"ticks\": \"\"}}, \"type\": \"scattermapbox\"}], \"scatterpolar\": [{\"marker\": {\"colorbar\": {\"outlinewidth\": 0, \"ticks\": \"\"}}, \"type\": \"scatterpolar\"}], \"scatterpolargl\": [{\"marker\": {\"colorbar\": {\"outlinewidth\": 0, \"ticks\": \"\"}}, \"type\": \"scatterpolargl\"}], \"scatterternary\": [{\"marker\": {\"colorbar\": {\"outlinewidth\": 0, \"ticks\": \"\"}}, \"type\": \"scatterternary\"}], \"surface\": [{\"colorbar\": {\"outlinewidth\": 0, \"ticks\": \"\"}, \"colorscale\": [[0.0, \"#0d0887\"], [0.1111111111111111, \"#46039f\"], [0.2222222222222222, \"#7201a8\"], [0.3333333333333333, \"#9c179e\"], [0.4444444444444444, \"#bd3786\"], [0.5555555555555556, \"#d8576b\"], [0.6666666666666666, \"#ed7953\"], [0.7777777777777778, \"#fb9f3a\"], [0.8888888888888888, \"#fdca26\"], [1.0, \"#f0f921\"]], \"type\": \"surface\"}], \"table\": [{\"cells\": {\"fill\": {\"color\": \"#EBF0F8\"}, \"line\": {\"color\": \"white\"}}, \"header\": {\"fill\": {\"color\": \"#C8D4E3\"}, \"line\": {\"color\": \"white\"}}, \"type\": \"table\"}]}, \"layout\": {\"annotationdefaults\": {\"arrowcolor\": \"#2a3f5f\", \"arrowhead\": 0, \"arrowwidth\": 1}, \"autotypenumbers\": \"strict\", \"coloraxis\": {\"colorbar\": {\"outlinewidth\": 0, \"ticks\": \"\"}}, \"colorscale\": {\"diverging\": [[0, \"#8e0152\"], [0.1, \"#c51b7d\"], [0.2, \"#de77ae\"], [0.3, \"#f1b6da\"], [0.4, \"#fde0ef\"], [0.5, \"#f7f7f7\"], [0.6, \"#e6f5d0\"], [0.7, \"#b8e186\"], [0.8, \"#7fbc41\"], [0.9, \"#4d9221\"], [1, \"#276419\"]], \"sequential\": [[0.0, \"#0d0887\"], [0.1111111111111111, \"#46039f\"], [0.2222222222222222, \"#7201a8\"], [0.3333333333333333, \"#9c179e\"], [0.4444444444444444, \"#bd3786\"], [0.5555555555555556, \"#d8576b\"], [0.6666666666666666, \"#ed7953\"], [0.7777777777777778, \"#fb9f3a\"], [0.8888888888888888, \"#fdca26\"], [1.0, \"#f0f921\"]], \"sequentialminus\": [[0.0, \"#0d0887\"], [0.1111111111111111, \"#46039f\"], [0.2222222222222222, \"#7201a8\"], [0.3333333333333333, \"#9c179e\"], [0.4444444444444444, \"#bd3786\"], [0.5555555555555556, \"#d8576b\"], [0.6666666666666666, \"#ed7953\"], [0.7777777777777778, \"#fb9f3a\"], [0.8888888888888888, \"#fdca26\"], [1.0, \"#f0f921\"]]}, \"colorway\": [\"#636efa\", \"#EF553B\", \"#00cc96\", \"#ab63fa\", \"#FFA15A\", \"#19d3f3\", \"#FF6692\", \"#B6E880\", \"#FF97FF\", \"#FECB52\"], \"font\": {\"color\": \"#2a3f5f\"}, \"geo\": {\"bgcolor\": \"white\", \"lakecolor\": \"white\", \"landcolor\": \"#E5ECF6\", \"showlakes\": true, \"showland\": true, \"subunitcolor\": \"white\"}, \"hoverlabel\": {\"align\": \"left\"}, \"hovermode\": \"closest\", \"mapbox\": {\"style\": \"light\"}, \"paper_bgcolor\": \"white\", \"plot_bgcolor\": \"#E5ECF6\", \"polar\": {\"angularaxis\": {\"gridcolor\": \"white\", \"linecolor\": \"white\", \"ticks\": \"\"}, \"bgcolor\": \"#E5ECF6\", \"radialaxis\": {\"gridcolor\": \"white\", \"linecolor\": \"white\", \"ticks\": \"\"}}, \"scene\": {\"xaxis\": {\"backgroundcolor\": \"#E5ECF6\", \"gridcolor\": \"white\", \"gridwidth\": 2, \"linecolor\": \"white\", \"showbackground\": true, \"ticks\": \"\", \"zerolinecolor\": \"white\"}, \"yaxis\": {\"backgroundcolor\": \"#E5ECF6\", \"gridcolor\": \"white\", \"gridwidth\": 2, \"linecolor\": \"white\", \"showbackground\": true, \"ticks\": \"\", \"zerolinecolor\": \"white\"}, \"zaxis\": {\"backgroundcolor\": \"#E5ECF6\", \"gridcolor\": \"white\", \"gridwidth\": 2, \"linecolor\": \"white\", \"showbackground\": true, \"ticks\": \"\", \"zerolinecolor\": \"white\"}}, \"shapedefaults\": {\"line\": {\"color\": \"#2a3f5f\"}}, \"ternary\": {\"aaxis\": {\"gridcolor\": \"white\", \"linecolor\": \"white\", \"ticks\": \"\"}, \"baxis\": {\"gridcolor\": \"white\", \"linecolor\": \"white\", \"ticks\": \"\"}, \"bgcolor\": \"#E5ECF6\", \"caxis\": {\"gridcolor\": \"white\", \"linecolor\": \"white\", \"ticks\": \"\"}}, \"title\": {\"x\": 0.05}, \"xaxis\": {\"automargin\": true, \"gridcolor\": \"white\", \"linecolor\": \"white\", \"ticks\": \"\", \"title\": {\"standoff\": 15}, \"zerolinecolor\": \"white\", \"zerolinewidth\": 2}, \"yaxis\": {\"automargin\": true, \"gridcolor\": \"white\", \"linecolor\": \"white\", \"ticks\": \"\", \"title\": {\"standoff\": 15}, \"zerolinecolor\": \"white\", \"zerolinewidth\": 2}}}, \"width\": 800, \"xaxis\": {\"anchor\": \"y\", \"domain\": [0.0, 0.45]}, \"xaxis2\": {\"anchor\": \"y2\", \"domain\": [0.55, 1.0]}, \"xaxis3\": {\"anchor\": \"y3\", \"domain\": [0.0, 0.45]}, \"xaxis4\": {\"anchor\": \"y4\", \"domain\": [0.55, 1.0]}, \"yaxis\": {\"anchor\": \"x\", \"domain\": [0.625, 1.0]}, \"yaxis2\": {\"anchor\": \"x2\", \"domain\": [0.625, 1.0]}, \"yaxis3\": {\"anchor\": \"x3\", \"domain\": [0.0, 0.375]}, \"yaxis4\": {\"anchor\": \"x4\", \"domain\": [0.0, 0.375]}},                        {\"responsive\": true}                    ).then(function(){\n",
       "                            \n",
       "var gd = document.getElementById('d6a18925-6c36-41fe-ad01-0287fe935511');\n",
       "var x = new MutationObserver(function (mutations, observer) {{\n",
       "        var display = window.getComputedStyle(gd).display;\n",
       "        if (!display || display === 'none') {{\n",
       "            console.log([gd, 'removed!']);\n",
       "            Plotly.purge(gd);\n",
       "            observer.disconnect();\n",
       "        }}\n",
       "}});\n",
       "\n",
       "// Listen for the removal of the full notebook cells\n",
       "var notebookContainer = gd.closest('#notebook-container');\n",
       "if (notebookContainer) {{\n",
       "    x.observe(notebookContainer, {childList: true});\n",
       "}}\n",
       "\n",
       "// Listen for the clearing of the current output cell\n",
       "var outputEl = gd.closest('.output');\n",
       "if (outputEl) {{\n",
       "    x.observe(outputEl, {childList: true});\n",
       "}}\n",
       "\n",
       "                        })                };                });            </script>        </div>"
      ]
     },
     "metadata": {},
     "output_type": "display_data"
    }
   ],
   "source": [
    "fig = make_subplots(rows=2, cols=2, subplot_titles=['Hue Ring', 'SV Matrix H 30', 'SV Matrix H 90', 'SV Matrix H 150'])\n",
    "\n",
    "fig1 = mi.mk_h_circle()\n",
    "\n",
    "fig.add_trace(\n",
    "    fig1.data[0],\n",
    "    row=1,\n",
    "    col=1,\n",
    ")\n",
    "\n",
    "hsv = mi.mk_hsv(30)\n",
    "fig2 = mi.plot_hsv(hsv)\n",
    "fig.add_trace(\n",
    "    fig2.data[0],\n",
    "    row=1,\n",
    "    col=2,\n",
    ")\n",
    "\n",
    "hsv = mi.mk_hsv(90)\n",
    "fig3 = mi.plot_hsv(hsv)\n",
    "fig.add_trace(\n",
    "    fig3.data[0],\n",
    "    row=2,\n",
    "    col=1,\n",
    ")\n",
    "\n",
    "hsv = mi.mk_hsv(150)\n",
    "fig4 = mi.plot_hsv(hsv)\n",
    "fig.add_trace(\n",
    "    fig4.data[0],\n",
    "    row=2,\n",
    "    col=2,\n",
    ")\n",
    "\n",
    "fig.update_layout(dict(\n",
    "        height=800,\n",
    "        width=800,\n",
    "    ))\n",
    "\n",
    "fig"
   ]
  },
  {
   "cell_type": "code",
   "execution_count": null,
   "id": "866b2ad0",
   "metadata": {},
   "outputs": [],
   "source": []
  },
  {
   "cell_type": "code",
   "execution_count": null,
   "id": "cc3608dd",
   "metadata": {},
   "outputs": [],
   "source": []
  }
 ],
 "metadata": {
  "kernelspec": {
   "display_name": "Python 3",
   "language": "python",
   "name": "python3"
  },
  "language_info": {
   "codemirror_mode": {
    "name": "ipython",
    "version": 3
   },
   "file_extension": ".py",
   "mimetype": "text/x-python",
   "name": "python",
   "nbconvert_exporter": "python",
   "pygments_lexer": "ipython3",
   "version": "3.8.10"
  },
  "toc": {
   "base_numbering": 1,
   "nav_menu": {},
   "number_sections": true,
   "sideBar": true,
   "skip_h1_title": false,
   "title_cell": "Table of Contents",
   "title_sidebar": "Contents",
   "toc_cell": false,
   "toc_position": {},
   "toc_section_display": true,
   "toc_window_display": false
  }
 },
 "nbformat": 4,
 "nbformat_minor": 5
}
