{
 "cells": [
  {
   "cell_type": "code",
   "execution_count": null,
   "id": "e16cb16d",
   "metadata": {},
   "outputs": [],
   "source": [
    "import cv2\n",
    "from PIL import Image\n",
    "import urllib.request\n",
    "from io import BytesIO\n",
    "\n",
    "import numpy as np\n",
    "import plotly.express as px\n",
    "import plotly.graph_objects as go\n",
    "from plotly.subplots import make_subplots\n"
   ]
  },
  {
   "cell_type": "code",
   "execution_count": null,
   "id": "de88a12b",
   "metadata": {},
   "outputs": [],
   "source": [
    "def rnd(a=10, b=20):\n",
    "    ''' Generate Random Number '''\n",
    "    return np.random.randint(a, b)\n",
    "\n",
    "def rect():\n",
    "    ''' Generate Random Rect '''\n",
    "    ps = [np.array([0, 0])]\n",
    "    ps.append(ps[-1] + np.array([rnd(), 0]))\n",
    "    ps.append(ps[-1] + np.array([0, rnd()]))\n",
    "    ps.append(ps[-1] + np.array([-rnd(), 0]))\n",
    "    \n",
    "    x0 = rnd(a=10, b=100)\n",
    "    y0 = rnd(a=10, b=100)\n",
    "    \n",
    "    x = [e[0] + x0 for e in ps]\n",
    "    y = [e[1] + y0 for e in ps]\n",
    "    \n",
    "    x.append(x[0])\n",
    "    y.append(y[0])\n",
    "    \n",
    "    return x, y\n",
    "    "
   ]
  },
  {
   "cell_type": "code",
   "execution_count": null,
   "id": "2a5172f0",
   "metadata": {},
   "outputs": [],
   "source": [
    "def rgb2str(rgb):\n",
    "    ''' Convert RGB to String like #FFFFFF'''\n",
    "    return '#' + ''.join([hex(int(e)).replace('x', '')[-2:] for e in rgb])\n",
    "\n",
    "def hsv2rgb(hsv):\n",
    "    ''' Convert Color Array from HSV to RGB '''\n",
    "    hsv = hsv[np.newaxis, np.newaxis, :].astype(np.uint8)\n",
    "    return cv2.cvtColor(hsv, cv2.COLOR_HSV2BGR).ravel()\n",
    "\n",
    "def color_queue(num=15, output_str=True):\n",
    "    ''' Generate Queue of Colors \n",
    "    If output_str is True, the RGB Array will be converted into String like #FFFFFF\n",
    "    '''\n",
    "    queue_rgb = []\n",
    "    queue_hsv = []\n",
    "    \n",
    "    threshold = 100**2 + 100**2 + 100**2\n",
    "    \n",
    "    while True:\n",
    "        kwargs = dict(a=10, b=230)\n",
    "        r0 = rnd(**kwargs)\n",
    "        r1 = rnd(**kwargs)\n",
    "        g0 = rnd(**kwargs)\n",
    "        g1 = rnd(**kwargs)\n",
    "        b0 = rnd(**kwargs)\n",
    "        b1 = rnd(**kwargs)\n",
    "        \n",
    "        if (r0-r1)**2 + (g0-g1)**2 + (b0-b1)**2 > threshold:\n",
    "            break\n",
    "    \n",
    "    for r, g, b in zip(np.linspace(r0, r1, num), np.linspace(g0, g1, num), np.linspace(b0, b1, num)):\n",
    "        queue_rgb.append((r, g, b))\n",
    "        r = r % 180\n",
    "        queue_hsv.append(hsv2rgb(np.array([r, g, b])))\n",
    "        \n",
    "    if output_str:\n",
    "        return [rgb2str(e) for e in queue_rgb], [rgb2str(e) for e in queue_hsv]\n",
    "    else:\n",
    "        return queue_rgb, queue_hsv"
   ]
  },
  {
   "cell_type": "code",
   "execution_count": null,
   "id": "6fcfcd8d",
   "metadata": {},
   "outputs": [],
   "source": [
    "def ravel(d):\n",
    "    ''' Ravel the 1st and the 2nd Dimensions '''\n",
    "    s = d.shape\n",
    "    n = s[0] * s[1]\n",
    "    d = d.reshape((n, s[2]))\n",
    "    return d"
   ]
  },
  {
   "cell_type": "code",
   "execution_count": null,
   "id": "2c33b0ec",
   "metadata": {},
   "outputs": [],
   "source": [
    "url = 'http://localhost:8000/Colors.png'\n",
    "req = urllib.request.urlopen(url)\n",
    "im = Image.open(BytesIO(req.read()))\n",
    "im"
   ]
  },
  {
   "cell_type": "code",
   "execution_count": null,
   "id": "2499ad7d",
   "metadata": {},
   "outputs": [],
   "source": [
    "rgb = np.array(im.convert('RGB'))[:, :2000]\n",
    "\n",
    "uniques = np.unique(rgb[:, :, 2].ravel())\n",
    "\n",
    "rgb.shape, uniques.shape, uniques"
   ]
  },
  {
   "cell_type": "code",
   "execution_count": null,
   "id": "98945612",
   "metadata": {},
   "outputs": [],
   "source": [
    "rgb_data = []\n",
    "hsv_data = []\n",
    "\n",
    "rgb_queue, hsv_queue = color_queue(len(uniques), output_str=False)\n",
    "\n",
    "for rgb_arr, hsv_arr in zip(rgb_queue, hsv_queue):\n",
    "    x, y = rect()\n",
    "    rgb_data.append(go.Scatter(x=x, y=y, fillcolor=rgb2str(rgb_arr), fill='toself', line_width=0, opacity=0.5, mode='lines'))\n",
    "    hsv_data.append(go.Scatter(x=x, y=y, fillcolor=rgb2str(hsv_arr), fill='toself', line_width=0, opacity=0.5, mode='lines'))\n",
    "\n",
    "fig = make_subplots(rows=2, cols=1, subplot_titles=['RGB', 'HSV'])\n",
    "\n",
    "for d in rgb_data:\n",
    "    fig.add_trace(\n",
    "        d,\n",
    "        row=1,\n",
    "        col=1,\n",
    "    )\n",
    "\n",
    "for d in hsv_data:\n",
    "    fig.add_trace(\n",
    "        d,\n",
    "        row=2,\n",
    "        col=1,\n",
    "    )\n",
    "\n",
    "fig.update_layout(dict(\n",
    "        height=800,\n",
    "        width=800,\n",
    "    ))\n",
    "    \n",
    "fig.show()"
   ]
  },
  {
   "cell_type": "code",
   "execution_count": null,
   "id": "54b12ca0",
   "metadata": {},
   "outputs": [],
   "source": [
    "# RawImg\n",
    "img = Image.fromarray(rgb)\n",
    "img"
   ]
  },
  {
   "cell_type": "code",
   "execution_count": null,
   "id": "ba108608",
   "metadata": {},
   "outputs": [],
   "source": [
    "# ReFill using RGB\n",
    "rgb1 = rgb.copy()\n",
    "for j in range(1, len(uniques)):\n",
    "    rgb1[rgb1[:, :, 2] == uniques[j]] = rgb_queue[j]\n",
    "    \n",
    "img1 = Image.fromarray(rgb1)\n",
    "img1"
   ]
  },
  {
   "cell_type": "code",
   "execution_count": null,
   "id": "01ae4b08",
   "metadata": {},
   "outputs": [],
   "source": [
    "# ReFill using HSV\n",
    "rgb2 = rgb.copy()\n",
    "for j in range(1, len(uniques)):\n",
    "    rgb2[rgb2[:, :, 2] == uniques[j]] = hsv_queue[j]\n",
    "    \n",
    "img2 = Image.fromarray(rgb2)\n",
    "img2"
   ]
  },
  {
   "cell_type": "code",
   "execution_count": null,
   "id": "2aa4076b",
   "metadata": {},
   "outputs": [],
   "source": []
  },
  {
   "cell_type": "code",
   "execution_count": null,
   "id": "37592d3f",
   "metadata": {},
   "outputs": [],
   "source": []
  },
  {
   "cell_type": "code",
   "execution_count": null,
   "id": "d8fb1ca9",
   "metadata": {},
   "outputs": [],
   "source": []
  },
  {
   "cell_type": "code",
   "execution_count": null,
   "id": "334937bb",
   "metadata": {},
   "outputs": [],
   "source": []
  },
  {
   "cell_type": "code",
   "execution_count": null,
   "id": "d1b08bc2",
   "metadata": {},
   "outputs": [],
   "source": []
  },
  {
   "cell_type": "code",
   "execution_count": null,
   "id": "a0aeca52",
   "metadata": {},
   "outputs": [],
   "source": []
  },
  {
   "cell_type": "code",
   "execution_count": null,
   "id": "213f863f",
   "metadata": {},
   "outputs": [],
   "source": []
  },
  {
   "cell_type": "code",
   "execution_count": null,
   "id": "c8a6fdd3",
   "metadata": {},
   "outputs": [],
   "source": []
  },
  {
   "cell_type": "code",
   "execution_count": null,
   "id": "8ca1dca1",
   "metadata": {},
   "outputs": [],
   "source": []
  },
  {
   "cell_type": "code",
   "execution_count": null,
   "id": "d059f016",
   "metadata": {},
   "outputs": [],
   "source": []
  },
  {
   "cell_type": "code",
   "execution_count": null,
   "id": "5874aa99",
   "metadata": {},
   "outputs": [],
   "source": []
  },
  {
   "cell_type": "code",
   "execution_count": null,
   "id": "763262b1",
   "metadata": {},
   "outputs": [],
   "source": []
  },
  {
   "cell_type": "code",
   "execution_count": null,
   "id": "d445b296",
   "metadata": {},
   "outputs": [],
   "source": []
  },
  {
   "cell_type": "code",
   "execution_count": null,
   "id": "467e8c6c",
   "metadata": {},
   "outputs": [],
   "source": []
  },
  {
   "cell_type": "code",
   "execution_count": null,
   "id": "306ebb26",
   "metadata": {},
   "outputs": [],
   "source": []
  }
 ],
 "metadata": {
  "kernelspec": {
   "display_name": "Python 3",
   "language": "python",
   "name": "python3"
  },
  "language_info": {
   "codemirror_mode": {
    "name": "ipython",
    "version": 3
   },
   "file_extension": ".py",
   "mimetype": "text/x-python",
   "name": "python",
   "nbconvert_exporter": "python",
   "pygments_lexer": "ipython3",
   "version": "3.8.10"
  },
  "toc": {
   "base_numbering": 1,
   "nav_menu": {},
   "number_sections": true,
   "sideBar": true,
   "skip_h1_title": false,
   "title_cell": "Table of Contents",
   "title_sidebar": "Contents",
   "toc_cell": false,
   "toc_position": {},
   "toc_section_display": true,
   "toc_window_display": false
  }
 },
 "nbformat": 4,
 "nbformat_minor": 5
}
