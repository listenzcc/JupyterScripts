{
 "cells": [
  {
   "cell_type": "code",
   "execution_count": null,
   "id": "cd3c6843",
   "metadata": {},
   "outputs": [],
   "source": [
    "import cv2\n",
    "import urllib.request\n",
    "from PIL import Image\n",
    "from io import BytesIO\n",
    "\n",
    "import numpy as np\n",
    "import pandas as pd\n",
    "from scipy.linalg import sqrtm\n",
    "from scipy.signal import convolve2d\n",
    "\n",
    "from tqdm.auto import tqdm\n",
    "\n",
    "import plotly.express as px\n",
    "import plotly.graph_objects as go\n",
    "from plotly.subplots import make_subplots"
   ]
  },
  {
   "cell_type": "code",
   "execution_count": null,
   "id": "ce8f8463",
   "metadata": {},
   "outputs": [],
   "source": [
    "def mk_matrix(img):\n",
    "    ''' Convert PIL [img] into RGB and HSV Matrix,\n",
    "    and put them into the [img] Object.\n",
    "    '''\n",
    "    img.matrix = dict()\n",
    "        \n",
    "    rgb = np.array(img.convert('RGB'))\n",
    "    \n",
    "    hsv = cv2.cvtColor(rgb, cv2.COLOR_RGB2HSV)\n",
    "    \n",
    "    img.matrix['RGB'] = rgb\n",
    "    img.matrix['HSV'] = hsv\n",
    "    \n",
    "    return img"
   ]
  },
  {
   "cell_type": "code",
   "execution_count": null,
   "id": "30a9414b",
   "metadata": {},
   "outputs": [],
   "source": [
    "def ravel(d, full=False, num=500):\n",
    "    ''' Ravel the 1st and the 2nd Dimensions,\n",
    "    only keep 500 Pixels to save Computation Time. \n",
    "    '''\n",
    "    s = d.shape\n",
    "    n = s[0] * s[1]\n",
    "    d = d.reshape((n, s[2]))\n",
    "    if n > num and not full:\n",
    "        return d[range(0, n, int(n/num))]\n",
    "    else:\n",
    "        return d\n",
    "\n",
    "def convert(rgb):\n",
    "    ''' Convert RGB [rgb] values into #FFFFFF like Color String'''\n",
    "    \n",
    "    def n2s(n):\n",
    "        s = hex(n).replace('x', '')\n",
    "        return s[-2:]\n",
    "    \n",
    "    return '#' + ''.join([n2s(n) for n in rgb])"
   ]
  },
  {
   "cell_type": "code",
   "execution_count": null,
   "id": "3ac5745c",
   "metadata": {},
   "outputs": [],
   "source": [
    "def color_space(im):\n",
    "    ''' Draw Color Space of Image [im] '''\n",
    "    mk_matrix(im)\n",
    "\n",
    "    v_rgb = ravel(im.matrix['RGB'])\n",
    "    df = pd.DataFrame(ravel(im.matrix['RGB']), columns=['R', 'G', 'B'])\n",
    "    df[['H', 'S', 'V']] = ravel(im.matrix['HSV'])\n",
    "    df['color'] = [convert(e) for e in v_rgb]\n",
    "\n",
    "    subplot_titles = ('HS', 'SV', 'HV')\n",
    "    subplot_pos = ((1, 1), (1, 2), (2, 1))\n",
    "    fig = make_subplots(rows=2, cols=2, subplot_titles=subplot_titles)\n",
    "\n",
    "    for pos, title in zip(subplot_pos, subplot_titles):\n",
    "        x, y = title\n",
    "        row, col = pos\n",
    "\n",
    "        _fig = px.scatter(df, x=x, y=y, title=title)\n",
    "        _fig.data[0]['marker']['color'] = df['color']\n",
    "\n",
    "        kwargs = dict(\n",
    "            row=row,\n",
    "            col=col\n",
    "        )\n",
    "\n",
    "        fig.add_trace(\n",
    "            _fig.data[0],\n",
    "            **kwargs\n",
    "        )\n",
    "\n",
    "        fig.update_xaxes(title_text=x, **kwargs)\n",
    "        fig.update_yaxes(title_text=y, **kwargs)\n",
    "        \n",
    "    fig1 = px.imshow(im)\n",
    "    fig.add_trace(\n",
    "        fig1.data[0],\n",
    "        row=2, col=2\n",
    "    )\n",
    "\n",
    "    fig.update_layout(dict(\n",
    "        height=800,\n",
    "        width=900,\n",
    "        title=url\n",
    "    ))\n",
    "    fig.show()\n",
    "\n",
    "\n",
    "#     fig1.show()"
   ]
  },
  {
   "cell_type": "code",
   "execution_count": null,
   "id": "b867c1da",
   "metadata": {},
   "outputs": [],
   "source": [
    "# Plot Converted Img\n",
    "def plot_hsv(hsv):\n",
    "    ''' Build Img by [hsv] matrix,\n",
    "    and Plot the ColorSpace.\n",
    "    '''\n",
    "    rgb = cv2.cvtColor(hsv, cv2.COLOR_HSV2RGB)\n",
    "    im = Image.fromarray(rgb)\n",
    "    color_space(im)\n",
    "    return im"
   ]
  },
  {
   "cell_type": "code",
   "execution_count": null,
   "id": "dcd072f6",
   "metadata": {},
   "outputs": [],
   "source": [
    "url = 'http://localhost:8000/yosemite-5932x3337-5k-4k-wallpaper-8k-forest-osx-apple-mountains-181.jpg'\n",
    "url = 'http://localhost:8000/macOS-Sierra-Wallpaper-Macbook-Wallpaper.jpg'\n",
    "url = 'http://localhost:8000/DT86.jpg'\n",
    "url = 'http://localhost:8000/132457451652521207_new.jpg'\n",
    "url = 'http://localhost:8000/R18faf19c0f6ad585eea167b79e4fb065.jfif'\n",
    "req = urllib.request.urlopen(url)\n",
    "imt = Image.open(BytesIO(req.read()))\n",
    "color_space(imt)"
   ]
  },
  {
   "cell_type": "code",
   "execution_count": null,
   "id": "f7fede20",
   "metadata": {
    "scrolled": false
   },
   "outputs": [],
   "source": [
    "# Converted Image\n",
    "url = 'http://localhost:8000/R18faf19c0f6ad585eea167b79e4fb065.jfif'\n",
    "url = 'http://localhost:8000/132457451652521207_new.jpg'\n",
    "req = urllib.request.urlopen(url)\n",
    "im = Image.open(BytesIO(req.read()))\n",
    "color_space(im)"
   ]
  },
  {
   "cell_type": "code",
   "execution_count": null,
   "id": "7bdafd8d",
   "metadata": {},
   "outputs": [],
   "source": [
    "# Get Target Distribution\n",
    "hsvt = imt.matrix['HSV'].copy()[::5, ::5, :]\n",
    "hsvt_ravel = ravel(hsvt, num=2000)\n",
    "hsvt_ravel.shape"
   ]
  },
  {
   "cell_type": "code",
   "execution_count": null,
   "id": "bffacc24",
   "metadata": {},
   "outputs": [],
   "source": [
    "# Get Source Distribution\n",
    "hsv = im.matrix['HSV'].copy()[::2, ::2, :]\n",
    "hsv_ravel = ravel(hsv, full=True)\n",
    "hsv_ravel.shape"
   ]
  },
  {
   "cell_type": "code",
   "execution_count": null,
   "id": "a605127b",
   "metadata": {},
   "outputs": [],
   "source": [
    "# Match using Nearest Matching\n",
    "dist = []\n",
    "for j in tqdm(range(len(hsvt_ravel))):\n",
    "    dist.append(np.linalg.norm(hsv_ravel - hsvt_ravel[j], axis=1))\n",
    "\n",
    "dist = np.array(dist)\n",
    "dist.shape\n",
    "\n",
    "idxs = np.argmax(dist, axis=0)\n",
    "idxs.shape"
   ]
  },
  {
   "cell_type": "code",
   "execution_count": null,
   "id": "79a6ef46",
   "metadata": {},
   "outputs": [],
   "source": [
    "# Convert the HSV using the Nearest Matching Method\n",
    "new_hsv = hsv_ravel.copy()\n",
    "for j in tqdm(range(len(idxs))):\n",
    "    new_hsv[j] = hsvt_ravel[idxs[j]]\n",
    "    \n",
    "new_hsv_2d = new_hsv.reshape(hsv.shape)\n",
    "\n",
    "h = np.ones((3, 3)) / (3 * 3)\n",
    "for j in [1, 2]:\n",
    "    new_hsv_2d[:, :, j] = convolve2d(new_hsv_2d[:, :, j], h, mode='same')\n",
    "\n",
    "new_hsv_2d.shape"
   ]
  },
  {
   "cell_type": "code",
   "execution_count": null,
   "id": "d20bb91c",
   "metadata": {
    "scrolled": false
   },
   "outputs": [],
   "source": [
    "# Plot the Converted Img\n",
    "color_space(im)\n",
    "new_im = plot_hsv(new_hsv_2d)\n",
    "color_space(imt)"
   ]
  },
  {
   "cell_type": "code",
   "execution_count": null,
   "id": "7d4a1eb1",
   "metadata": {},
   "outputs": [],
   "source": [
    "hsv = im.matrix['HSV'].copy()\n",
    "print(hsv.shape)\n",
    "\n",
    "# Convert V\n",
    "hsv[:, :, 2] = hsv[:, :, 2] / 255 * 200\n",
    "hsv[:, :, 2][hsv[:, :, 0] > 60] = hsv[:, :, 2][hsv[:, :, 0] > 60] / 200 * 150\n",
    "hsv[:, :, 2][hsv[:, :, 0] <= 60] = hsv[:, :, 2][hsv[:, :, 0] <= 60] / 200 * 120 + 120\n",
    "\n",
    "# Convert S\n",
    "hsv[:, :, 1] = hsv[:, :, 1] * (1 - hsv[:, :, 2] / 255)\n",
    "hsv[:, :, 1] = hsv[:, :, 1] / 255 * 150\n",
    "hsv[:, :, 1][hsv[:, :, 2] > 155] = hsv[:, :, 1][hsv[:, :, 2] > 155] / 255 * 100\n",
    "\n",
    "# Convert H\n",
    "# hsv[:, :, 0][hsv[:, :, 0] > 60] = ((hsv[:, :, 0][hsv[:, :, 0] > 60] - 100) * 2 + 100) % 180"
   ]
  },
  {
   "cell_type": "code",
   "execution_count": null,
   "id": "f4211e66",
   "metadata": {},
   "outputs": [],
   "source": [
    "new_im = plot_hsv(hsv)"
   ]
  },
  {
   "cell_type": "code",
   "execution_count": null,
   "id": "7fb51b90",
   "metadata": {},
   "outputs": [],
   "source": [
    "new_im.save('a.png')"
   ]
  },
  {
   "cell_type": "code",
   "execution_count": null,
   "id": "8904893c",
   "metadata": {},
   "outputs": [],
   "source": []
  },
  {
   "cell_type": "code",
   "execution_count": null,
   "id": "cd4b0de8",
   "metadata": {},
   "outputs": [],
   "source": []
  }
 ],
 "metadata": {
  "kernelspec": {
   "display_name": "Python 3",
   "language": "python",
   "name": "python3"
  },
  "language_info": {
   "codemirror_mode": {
    "name": "ipython",
    "version": 3
   },
   "file_extension": ".py",
   "mimetype": "text/x-python",
   "name": "python",
   "nbconvert_exporter": "python",
   "pygments_lexer": "ipython3",
   "version": "3.8.10"
  },
  "toc": {
   "base_numbering": 1,
   "nav_menu": {},
   "number_sections": true,
   "sideBar": true,
   "skip_h1_title": false,
   "title_cell": "Table of Contents",
   "title_sidebar": "Contents",
   "toc_cell": false,
   "toc_position": {},
   "toc_section_display": true,
   "toc_window_display": false
  }
 },
 "nbformat": 4,
 "nbformat_minor": 5
}
