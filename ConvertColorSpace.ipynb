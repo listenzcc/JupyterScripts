{
 "cells": [
  {
   "cell_type": "code",
   "execution_count": null,
   "id": "cd3c6843",
   "metadata": {},
   "outputs": [],
   "source": [
    "import cv2\n",
    "import urllib.request\n",
    "from PIL import Image\n",
    "from io import BytesIO\n",
    "\n",
    "import numpy as np\n",
    "import pandas as pd\n",
    "from scipy.linalg import sqrtm\n",
    "\n",
    "import plotly.express as px\n",
    "import plotly.graph_objects as go\n",
    "from plotly.subplots import make_subplots"
   ]
  },
  {
   "cell_type": "code",
   "execution_count": null,
   "id": "ce8f8463",
   "metadata": {},
   "outputs": [],
   "source": [
    "def mk_matrix(img):\n",
    "    ''' Convert PIL [img] into RGB and HSV Matrix,\n",
    "    and put them into the [img] Object.\n",
    "    '''\n",
    "    img.matrix = dict()\n",
    "        \n",
    "    rgb = np.array(img.convert('RGB'))\n",
    "    \n",
    "    hsv = cv2.cvtColor(rgb, cv2.COLOR_RGB2HSV)\n",
    "    \n",
    "    img.matrix['RGB'] = rgb\n",
    "    img.matrix['HSV'] = hsv\n",
    "    \n",
    "    return img"
   ]
  },
  {
   "cell_type": "code",
   "execution_count": null,
   "id": "30a9414b",
   "metadata": {},
   "outputs": [],
   "source": [
    "def ravel(d, full=False):\n",
    "    ''' Ravel the 1st and the 2nd Dimensions,\n",
    "    only keep 500 Pixels to save Computation Time. \n",
    "    '''\n",
    "    s = d.shape\n",
    "    n = s[0] * s[1]\n",
    "    d = d.reshape((n, s[2]))\n",
    "    if n > 500 and not full:\n",
    "        return d[range(0, n, int(n/500))]\n",
    "    else:\n",
    "        return d\n",
    "\n",
    "def convert(rgb):\n",
    "    ''' Convert RGB [rgb] values into #FFFFFF like Color String'''\n",
    "    \n",
    "    def n2s(n):\n",
    "        s = hex(n).replace('x', '')\n",
    "        return s[-2:]\n",
    "    \n",
    "    return '#' + ''.join([n2s(n) for n in rgb])"
   ]
  },
  {
   "cell_type": "code",
   "execution_count": null,
   "id": "3ac5745c",
   "metadata": {},
   "outputs": [],
   "source": [
    "def color_space(im):\n",
    "    ''' Draw Color Space of Image [im] '''\n",
    "    mk_matrix(im)\n",
    "\n",
    "    v_rgb = ravel(im.matrix['RGB'])\n",
    "    df = pd.DataFrame(ravel(im.matrix['RGB']), columns=['R', 'G', 'B'])\n",
    "    df[['H', 'S', 'V']] = ravel(im.matrix['HSV'])\n",
    "    df['color'] = [convert(e) for e in v_rgb]\n",
    "\n",
    "    subplot_titles = ('HS', 'SV', 'HV')\n",
    "    subplot_pos = ((1, 1), (1, 2), (2, 1))\n",
    "    fig = make_subplots(rows=2, cols=2, subplot_titles=subplot_titles)\n",
    "\n",
    "    for pos, title in zip(subplot_pos, subplot_titles):\n",
    "        x, y = title\n",
    "        row, col = pos\n",
    "\n",
    "        _fig = px.scatter(df, x=x, y=y, title=title)\n",
    "        _fig.data[0]['marker']['color'] = df['color']\n",
    "\n",
    "        kwargs = dict(\n",
    "            row=row,\n",
    "            col=col\n",
    "        )\n",
    "\n",
    "        fig.add_trace(\n",
    "            _fig.data[0],\n",
    "            **kwargs\n",
    "        )\n",
    "\n",
    "        fig.update_xaxes(title_text=x, **kwargs)\n",
    "        fig.update_yaxes(title_text=y, **kwargs)\n",
    "        \n",
    "    fig1 = px.imshow(im)\n",
    "    fig.add_trace(\n",
    "        fig1.data[0],\n",
    "        row=2, col=2\n",
    "    )\n",
    "\n",
    "    fig.update_layout(dict(\n",
    "        height=800,\n",
    "        width=900,\n",
    "        title=url\n",
    "    ))\n",
    "    fig.show()\n",
    "\n",
    "\n",
    "#     fig1.show()"
   ]
  },
  {
   "cell_type": "code",
   "execution_count": null,
   "id": "f7fede20",
   "metadata": {
    "scrolled": false
   },
   "outputs": [],
   "source": [
    "# Converted Image\n",
    "url = 'http://localhost:8000/132457451652521207_new.jpg'\n",
    "# url = 'http://localhost:8000/yosemite-5932x3337-5k-4k-wallpaper-8k-forest-osx-apple-mountains-181.jpg'\n",
    "req = urllib.request.urlopen(url)\n",
    "im1 = Image.open(BytesIO(req.read()))\n",
    "color_space(im1)"
   ]
  },
  {
   "cell_type": "code",
   "execution_count": null,
   "id": "7ff73673",
   "metadata": {},
   "outputs": [],
   "source": [
    "# Target Image\n",
    "# url = 'http://localhost:8000/DP164837.jpg'\n",
    "# url = 'http://localhost:8000/DT86.jpg'\n",
    "url = 'http://localhost:8000/yosemite-5932x3337-5k-4k-wallpaper-8k-forest-osx-apple-mountains-181.jpg'\n",
    "# url = 'http://localhost:8000/macOS-Sierra-Wallpaper-Macbook-Wallpaper.jpg'\n",
    "req = urllib.request.urlopen(url)\n",
    "im2 = Image.open(BytesIO(req.read()))\n",
    "color_space(im2)"
   ]
  },
  {
   "cell_type": "code",
   "execution_count": null,
   "id": "deec8c2c",
   "metadata": {},
   "outputs": [],
   "source": [
    "# Compute Cov of Target Img\n",
    "hsv = im2.matrix['HSV'].copy()\n",
    "hsv_ravel = ravel(hsv, full=True)\n",
    "\n",
    "mean2 = np.mean(hsv_ravel, axis=0)\n",
    "std2 = np.std(hsv_ravel, axis=0)\n",
    "\n",
    "print(mean2.shape, hsv.shape, hsv_ravel.shape)\n",
    "\n",
    "cov = np.cov((hsv_ravel-mean2).transpose())\n",
    "for j in range(3):\n",
    "    for k in range(3):\n",
    "        cov[j, k] /= np.sqrt(std2[j] * std2[k])\n",
    "        \n",
    "scov2 = sqrtm(cov)"
   ]
  },
  {
   "cell_type": "code",
   "execution_count": null,
   "id": "2e2e1c51",
   "metadata": {},
   "outputs": [],
   "source": [
    "# Compute Cov of Converted Img\n",
    "hsv = im1.matrix['HSV'].copy()\n",
    "shape = hsv.shape\n",
    "hsv_ravel = ravel(hsv, full=True)\n",
    "\n",
    "mean = np.mean(hsv_ravel, axis=0)\n",
    "std = np.std(hsv_ravel, axis=0)\n",
    "\n",
    "print(mean.shape, hsv.shape, hsv_ravel.shape)\n",
    "\n",
    "cov = np.cov((hsv_ravel-mean).transpose())\n",
    "for j in range(3):\n",
    "    for k in range(3):\n",
    "        cov[j, k] /= np.sqrt(std[j] * std[k])\n",
    "\n",
    "scov = sqrtm(cov)\n",
    "iscov = np.linalg.inv(scov)\n",
    "iscov"
   ]
  },
  {
   "cell_type": "code",
   "execution_count": null,
   "id": "c8657a7d",
   "metadata": {},
   "outputs": [],
   "source": [
    "# Convert Img\n",
    "hsv_ravel_new = np.matmul(np.matmul(hsv_ravel - mean, iscov), scov2) + mean2\n",
    "hsv_new = hsv_ravel_new.astype(np.uint8)\n",
    "\n",
    "for j in [1, 2]:\n",
    "    hsv_new[:, j][hsv_new[:, j] > 200] = 0\n",
    "    \n",
    "hsv_new"
   ]
  },
  {
   "cell_type": "code",
   "execution_count": null,
   "id": "59ea0ee8",
   "metadata": {
    "scrolled": false
   },
   "outputs": [],
   "source": [
    "# Plot Converted Img\n",
    "rgb = cv2.cvtColor(hsv_new.reshape(shape), cv2.COLOR_HSV2RGB)\n",
    "im = Image.fromarray(rgb)\n",
    "color_space(im)\n",
    "px.imshow(im2).show()"
   ]
  },
  {
   "cell_type": "code",
   "execution_count": null,
   "id": "984c5560",
   "metadata": {},
   "outputs": [],
   "source": []
  },
  {
   "cell_type": "code",
   "execution_count": null,
   "id": "a6e1e86e",
   "metadata": {},
   "outputs": [],
   "source": []
  },
  {
   "cell_type": "code",
   "execution_count": null,
   "id": "0bbf038e",
   "metadata": {},
   "outputs": [],
   "source": []
  },
  {
   "cell_type": "code",
   "execution_count": null,
   "id": "0322e758",
   "metadata": {},
   "outputs": [],
   "source": []
  },
  {
   "cell_type": "code",
   "execution_count": null,
   "id": "3b496758",
   "metadata": {},
   "outputs": [],
   "source": []
  },
  {
   "cell_type": "code",
   "execution_count": null,
   "id": "ed10677d",
   "metadata": {},
   "outputs": [],
   "source": []
  },
  {
   "cell_type": "code",
   "execution_count": null,
   "id": "8844c716",
   "metadata": {},
   "outputs": [],
   "source": []
  },
  {
   "cell_type": "code",
   "execution_count": null,
   "id": "9677e273",
   "metadata": {},
   "outputs": [],
   "source": []
  },
  {
   "cell_type": "code",
   "execution_count": null,
   "id": "473d20ed",
   "metadata": {},
   "outputs": [],
   "source": []
  },
  {
   "cell_type": "code",
   "execution_count": null,
   "id": "7d4a1eb1",
   "metadata": {},
   "outputs": [],
   "source": []
  },
  {
   "cell_type": "code",
   "execution_count": null,
   "id": "f4211e66",
   "metadata": {},
   "outputs": [],
   "source": []
  },
  {
   "cell_type": "code",
   "execution_count": null,
   "id": "7fb51b90",
   "metadata": {},
   "outputs": [],
   "source": []
  },
  {
   "cell_type": "code",
   "execution_count": null,
   "id": "65c80279",
   "metadata": {},
   "outputs": [],
   "source": []
  }
 ],
 "metadata": {
  "kernelspec": {
   "display_name": "Python 3",
   "language": "python",
   "name": "python3"
  },
  "language_info": {
   "codemirror_mode": {
    "name": "ipython",
    "version": 3
   },
   "file_extension": ".py",
   "mimetype": "text/x-python",
   "name": "python",
   "nbconvert_exporter": "python",
   "pygments_lexer": "ipython3",
   "version": "3.8.10"
  },
  "toc": {
   "base_numbering": 1,
   "nav_menu": {},
   "number_sections": true,
   "sideBar": true,
   "skip_h1_title": false,
   "title_cell": "Table of Contents",
   "title_sidebar": "Contents",
   "toc_cell": false,
   "toc_position": {},
   "toc_section_display": true,
   "toc_window_display": false
  }
 },
 "nbformat": 4,
 "nbformat_minor": 5
}
