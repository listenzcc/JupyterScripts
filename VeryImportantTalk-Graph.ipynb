{
 "cells": [
  {
   "cell_type": "code",
   "execution_count": null,
   "id": "98f423d8",
   "metadata": {
    "ExecuteTime": {
     "end_time": "2021-07-01T08:34:02.050563Z",
     "start_time": "2021-07-01T08:34:00.451426Z"
    }
   },
   "outputs": [],
   "source": [
    "import pandas as pd\n",
    "import jieba\n",
    "from tqdm.auto import tqdm\n",
    "\n",
    "import numpy as np\n",
    "from sklearn.manifold import TSNE\n",
    "from sklearn.decomposition import PCA\n",
    "from sklearn.cluster import SpectralClustering\n",
    "from sklearn.cluster import KMeans\n",
    "\n",
    "import plotly.express as px\n",
    "import plotly.graph_objects as go"
   ]
  },
  {
   "cell_type": "code",
   "execution_count": null,
   "id": "bf52d9fb",
   "metadata": {
    "ExecuteTime": {
     "end_time": "2021-07-01T08:34:02.066457Z",
     "start_time": "2021-07-01T08:34:02.052427Z"
    }
   },
   "outputs": [],
   "source": [
    "class VeryImportantTalk(object):\n",
    "    ''' The Analysis of the VeryImportantTalk '''\n",
    "    def __init__(self, path='VeryImportantTalk.txt', encoding='utf-8'):\n",
    "        ''' Initialization '''\n",
    "        content = open(path, 'r', encoding=encoding).read()\n",
    "        df = pd.DataFrame(columns=['Sentence', 'Cuts'])\n",
    "        self.content = content\n",
    "        self.df = df\n",
    "        \n",
    "        self.get_sentences()\n",
    "        self.cut_sentences()\n",
    "\n",
    "    def get_sentences(self, raw=None):\n",
    "        ''' Get Sentences from Raw Content [raw]'''\n",
    "        if raw is None:\n",
    "            raw = self.content\n",
    "            \n",
    "        for e in ['。', '！', 'a，']:\n",
    "            raw = raw.replace(e, '\\n')\n",
    "        sentences = raw.split()\n",
    "        \n",
    "        self.df['Sentence'] = sentences\n",
    "        \n",
    "        return sentences\n",
    "\n",
    "    def cut_sentences(self, sentences=None):\n",
    "        ''' Cut every Sentence in the List of Sentences [sentences] '''\n",
    "        if sentences is None:\n",
    "            sentences = self.df['Sentence'].values\n",
    "            \n",
    "        cuts = []\n",
    "        for s in tqdm(sentences):\n",
    "            # Cut the Sentence,\n",
    "            # and Discard the one-char Words\n",
    "            tmp = [e for e in jieba.lcut(s) if len(e) > 1]\n",
    "\n",
    "            # Append the Words,\n",
    "            # and Discard the one-word Sentence\n",
    "            if len(tmp) > 1:\n",
    "                cuts.append(tmp)\n",
    "            else:\n",
    "                cuts.append([])\n",
    "                \n",
    "        self.df['Cuts'] = cuts\n",
    "        \n",
    "        return cuts\n",
    "    "
   ]
  },
  {
   "cell_type": "code",
   "execution_count": null,
   "id": "a8f09a2e",
   "metadata": {
    "ExecuteTime": {
     "end_time": "2021-07-01T08:34:02.682453Z",
     "start_time": "2021-07-01T08:34:02.067425Z"
    }
   },
   "outputs": [],
   "source": [
    "vit = VeryImportantTalk()\n",
    "vit.df"
   ]
  },
  {
   "cell_type": "code",
   "execution_count": null,
   "id": "b4d58a09",
   "metadata": {
    "ExecuteTime": {
     "end_time": "2021-07-01T08:34:02.698423Z",
     "start_time": "2021-07-01T08:34:02.684454Z"
    }
   },
   "outputs": [],
   "source": [
    "df = vit.df.copy()\n",
    "df"
   ]
  },
  {
   "cell_type": "code",
   "execution_count": null,
   "id": "06e9b931",
   "metadata": {
    "ExecuteTime": {
     "end_time": "2021-07-01T08:34:04.044461Z",
     "start_time": "2021-07-01T08:34:02.699423Z"
    }
   },
   "outputs": [],
   "source": [
    "details = dict()\n",
    "\n",
    "for idx in tqdm(df.index):\n",
    "    for word in df.loc[idx, 'Cuts']:\n",
    "        if word not in details:\n",
    "            details[word] = [idx]\n",
    "        else:\n",
    "            details[word].append(idx)\n",
    "            \n",
    "details = pd.DataFrame(dict(Belong=details))\n",
    "details['Count'] = details['Belong'].map(len)\n",
    "details.sort_values(by='Count', ascending=False, inplace=True)\n",
    "\n",
    "details[details.index] = 0\n",
    "\n",
    "details"
   ]
  },
  {
   "cell_type": "code",
   "execution_count": null,
   "id": "17283a69",
   "metadata": {
    "ExecuteTime": {
     "end_time": "2021-07-01T08:34:16.783550Z",
     "start_time": "2021-07-01T08:34:04.045424Z"
    }
   },
   "outputs": [],
   "source": [
    "for w in tqdm(details.index):\n",
    "    for j in details.loc[w, 'Belong']:\n",
    "        details.loc[w, df.loc[j, 'Cuts']] += 1\n",
    "\n",
    "details"
   ]
  },
  {
   "cell_type": "code",
   "execution_count": null,
   "id": "be7a97d0",
   "metadata": {
    "ExecuteTime": {
     "end_time": "2021-07-01T08:45:24.255944Z",
     "start_time": "2021-07-01T08:45:20.111948Z"
    }
   },
   "outputs": [],
   "source": [
    "X = details[details.index].to_numpy()\n",
    "a = 1\n",
    "X = (X - np.mean(X, axis=a, keepdims=True)) / np.std(X, axis=a, keepdims=True)\n",
    "X = X / np.max(X, axis=a, keepdims=True)\n",
    "# for j in range(len(details)):\n",
    "#     X[j] = X[j] / details.iloc[j]['Count']\n",
    "X = X.transpose()\n",
    "\n",
    "X_embedded = TSNE(n_components=2).fit_transform(X)\n",
    "print(X_embedded.shape)"
   ]
  },
  {
   "cell_type": "code",
   "execution_count": null,
   "id": "5c63f00a",
   "metadata": {},
   "outputs": [],
   "source": [
    "n = len(X_embedded)\n",
    "dist_matrix = []\n",
    "for j in tqdm(range(n)):\n",
    "    dist_matrix.append(np.linalg.norm(X_embedded - X_embedded[j, :], axis=1))\n",
    "    dist_matrix[-1][j] = np.inf\n",
    "    \n",
    "dist_matrix = np.array(dist_matrix)\n",
    "dist_matrix.shape"
   ]
  },
  {
   "cell_type": "code",
   "execution_count": null,
   "id": "3a3b772d",
   "metadata": {},
   "outputs": [],
   "source": [
    "a = 0\n",
    "b = np.argmin(dist_matrix[a])\n",
    "route = [(a, b)]\n",
    "inside = [a, b]\n",
    "remain = [e for e in range(n) if e not in inside]\n",
    "for _ in tqdm(range(n-2)):\n",
    "    mat = dist_matrix[inside][:, remain]\n",
    "    pos = np.unravel_index(np.argmin(mat), mat.shape)\n",
    "    a = inside[pos[0]]\n",
    "    b = remain[pos[1]]\n",
    "    inside.append(b)\n",
    "    remain.remove(b)\n",
    "    route.append((a, b))\n",
    "    \n",
    "route"
   ]
  },
  {
   "cell_type": "code",
   "execution_count": null,
   "id": "51a9acbb",
   "metadata": {},
   "outputs": [],
   "source": [
    "route_df = []\n",
    "for j, r in tqdm(enumerate(route)):\n",
    "    for i in [0, 1]:\n",
    "        route_df.append(dict(\n",
    "            x=X_embedded[r[i]][0],\n",
    "            y=X_embedded[r[i]][1],\n",
    "            group=j\n",
    "        ))\n",
    "        \n",
    "route_df = pd.DataFrame(route_df)\n",
    "route_df"
   ]
  },
  {
   "cell_type": "code",
   "execution_count": null,
   "id": "11d262f5",
   "metadata": {},
   "outputs": [],
   "source": [
    "fig1 = px.scatter(x=X_embedded[:, 0], y=X_embedded[:, 1], title='Manifolder of Words')\n",
    "fig1.show()\n",
    "fig1.data"
   ]
  },
  {
   "cell_type": "code",
   "execution_count": null,
   "id": "36ea0d7f",
   "metadata": {},
   "outputs": [],
   "source": [
    "fig2 = px.line(route_df, x='x', y='y', color='group')\n",
    "fig2.show()\n",
    "fig2.data"
   ]
  },
  {
   "cell_type": "code",
   "execution_count": null,
   "id": "c2240c9b",
   "metadata": {},
   "outputs": [],
   "source": [
    "fig = go.Figure()\n",
    "fig.add_trace(fig1.data[0])\n",
    "for d in fig2.data:\n",
    "    d['line']['color'] = 'gray'\n",
    "    d['showlegend'] = False\n",
    "    fig.add_trace(d)\n",
    "fig.update_layout({'title': 'Connection Graph'})\n",
    "fig.show()"
   ]
  },
  {
   "cell_type": "code",
   "execution_count": null,
   "id": "fac22708",
   "metadata": {
    "scrolled": true
   },
   "outputs": [],
   "source": [
    "count = np.zeros(n)\n",
    "for r in tqdm(route):\n",
    "    count[r[0]] += 1\n",
    "    count[r[1]] += 1\n",
    "count"
   ]
  },
  {
   "cell_type": "code",
   "execution_count": null,
   "id": "28b0de1d",
   "metadata": {},
   "outputs": [],
   "source": [
    "px.bar(sorted(count), title='Connection Degree')"
   ]
  },
  {
   "cell_type": "code",
   "execution_count": null,
   "id": "45729d4e",
   "metadata": {
    "scrolled": true
   },
   "outputs": [],
   "source": [
    "words = details.index.values\n",
    "words\n",
    "\n",
    "groups = dict()\n",
    "for m in sorted(np.unique(count), reverse=True):\n",
    "    groups[m] = words[count == m]\n",
    "    \n",
    "M = max(groups)\n",
    "M, groups"
   ]
  },
  {
   "cell_type": "code",
   "execution_count": null,
   "id": "20109938",
   "metadata": {},
   "outputs": [],
   "source": [
    "top_links = dict()\n",
    "\n",
    "for k in [8, 5]:\n",
    "    for g in groups[k]:\n",
    "        i = int(np.argwhere(words == g))\n",
    "        print(g, i)\n",
    "        top_links[g] = []\n",
    "        for r in route:\n",
    "            if i in r:\n",
    "                top_links[g].append(words[[e for e in r if e != i][0]])\n",
    "\n",
    "top_links"
   ]
  },
  {
   "cell_type": "code",
   "execution_count": null,
   "id": "21fc9e25",
   "metadata": {},
   "outputs": [],
   "source": []
  }
 ],
 "metadata": {
  "kernelspec": {
   "display_name": "Python 3",
   "language": "python",
   "name": "python3"
  },
  "language_info": {
   "codemirror_mode": {
    "name": "ipython",
    "version": 3
   },
   "file_extension": ".py",
   "mimetype": "text/x-python",
   "name": "python",
   "nbconvert_exporter": "python",
   "pygments_lexer": "ipython3",
   "version": "3.8.10"
  },
  "toc": {
   "base_numbering": 1,
   "nav_menu": {},
   "number_sections": true,
   "sideBar": true,
   "skip_h1_title": false,
   "title_cell": "Table of Contents",
   "title_sidebar": "Contents",
   "toc_cell": false,
   "toc_position": {},
   "toc_section_display": true,
   "toc_window_display": false
  }
 },
 "nbformat": 4,
 "nbformat_minor": 5
}
